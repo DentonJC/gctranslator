{
 "cells": [
  {
   "cell_type": "raw",
   "metadata": {},
   "source": [
    "Theory:          \n",
    "based on syntacticbayleaves.com/2008/12/03/determining-image-similarity/ "
   ]
  },
  {
   "cell_type": "raw",
   "metadata": {},
   "source": []
  },
  {
   "cell_type": "code",
   "execution_count": 1,
   "metadata": {
    "collapsed": false
   },
   "outputs": [],
   "source": [
    "import os\n",
    "import glob\n",
    "import shutil\n",
    "\n",
    "import scipy.fftpack\n",
    "import numpy\n",
    "from numpy import array\n",
    "from PIL import Image, ImageDraw\n",
    "from IPython.display import display, Image as DImage\n",
    "\n",
    "ncc_mode = True\n",
    "\n",
    "string_mode = True\n",
    "input_address = 'test.png'\n",
    "top = 3\n",
    "empty_threshold = 20\n",
    "threshold = 3\n",
    "delete_threshold = 200\n",
    "bin_ratio = 600\n",
    "\n",
    "\n",
    "examples_path = os.getcwd() + '/examples/'\n",
    "binary_path = os.getcwd() + '/binary/'\n",
    "found_path = os.getcwd() + '/found/'\n",
    "cutted_path = os.getcwd() + '/cutted/'\n",
    "\n",
    "bin_examples = []\n",
    "names = []\n",
    "nccors = []\n",
    "results = []\n",
    "\n",
    "RESULT = ''"
   ]
  },
  {
   "cell_type": "code",
   "execution_count": 2,
   "metadata": {
    "collapsed": true
   },
   "outputs": [],
   "source": [
    "#input_address = input('Input image address:') #input must be in \"\" (\"test.jpg\" if file is in project folder),\n",
    "                                              #acceptable formats: .jpg, .jpeg, .png, .gif, .bmp"
   ]
  },
  {
   "cell_type": "code",
   "execution_count": 3,
   "metadata": {
    "collapsed": true
   },
   "outputs": [],
   "source": [
    "def create_folders():\n",
    "    if not os.path.exists(os.getcwd() + '/examples/'):\n",
    "        os.mkdir('examples')\n",
    "\n",
    "    if not os.path.exists(os.getcwd() + '/binary/'):\n",
    "        os.mkdir('binary')\n",
    "\n",
    "    if not os.path.exists(os.getcwd() + '/found/'):\n",
    "        os.mkdir('found')\n",
    "    \n",
    "    if not os.path.exists(os.getcwd() + '/cutted/'):\n",
    "        os.mkdir('cutted')\n",
    "\n",
    "    for d, dirs, files in os.walk(examples_path):\n",
    "            for f in dirs:\n",
    "                if not os.path.exists(binary_path + f):\n",
    "                    os.mkdir(binary_path+ f)\n",
    "                    os.mkdir(cutted_path+ f)"
   ]
  },
  {
   "cell_type": "code",
   "execution_count": 4,
   "metadata": {
    "collapsed": false
   },
   "outputs": [],
   "source": [
    "def clean_folders():              \n",
    "    if os.path.exists(os.getcwd() + '/binary/'):   \n",
    "        shutil.rmtree(os.getcwd() + '/binary/')\n",
    "    \n",
    "    if os.path.exists(os.getcwd() + '/found/'):\n",
    "        shutil.rmtree(os.getcwd() + '/found/')\n",
    "        \n",
    "    if os.path.exists(os.getcwd() + '/cutted/'):\n",
    "        shutil.rmtree(os.getcwd() + '/cutted/')"
   ]
  },
  {
   "cell_type": "code",
   "execution_count": 5,
   "metadata": {
    "collapsed": false
   },
   "outputs": [],
   "source": [
    "def address_helper(addr, mode):\n",
    "    if mode == 'png': #after preprocessing the program only works with .png\n",
    "        addr = addr.replace('.jpg', '.png')\n",
    "        addr = addr.replace('.jpeg', '.png')\n",
    "        addr = addr.replace('.gif', '.png')\n",
    "        addr = addr.replace('.bmp', '.bmp')\n",
    "        \n",
    "    if mode == 'bin': #change the address of the folder to /binary\n",
    "        addr = addr.replace('/examples/', '/binary/')\n",
    "        \n",
    "    if mode == 'cln': #leave only the name of file (letter)\n",
    "        addr = addr.replace('.jpg', '')\n",
    "        addr = addr.replace('.jpeg', '')\n",
    "        addr = addr.replace('.gif', '')\n",
    "        addr = addr.replace('.png', '')\n",
    "        addr = addr.replace('.bmp', '')\n",
    "        addr = addr.replace(binary_path, '')\n",
    "        addr = addr.replace(found_path, '')\n",
    "        addr = addr.replace(cutted_path, '')\n",
    "    \n",
    "    return addr"
   ]
  },
  {
   "cell_type": "code",
   "execution_count": 6,
   "metadata": {
    "collapsed": false
   },
   "outputs": [],
   "source": [
    "def binarization(input_img_addr):\n",
    "    input_image  = Image.open(input_img_addr).convert('RGBA') #convert for .gif opening fix\n",
    "    draw = ImageDraw.Draw(input_image)\n",
    "     \n",
    "    for i in range(input_image.size[0]):\n",
    "        for j in range(input_image.size[1]):\n",
    "            r, g, b, a = input_image.getpixel((i, j))\n",
    "            if a == 0:\n",
    "                r, g, b = 0, 0, 0\n",
    "            if (r + g + b > bin_ratio): \n",
    "                r, g, b = 255, 255, 255\n",
    "            else:\n",
    "                r, g, b = 0, 0, 0 \n",
    "            draw.point((i, j), (r, g, b))\n",
    "    del draw\n",
    "    \n",
    "    input_img_addr = address_helper(input_img_addr, 'png')\n",
    "    input_image.save(address_helper(input_img_addr, 'bin'), \"PNG\")"
   ]
  },
  {
   "cell_type": "code",
   "execution_count": 7,
   "metadata": {
    "collapsed": false
   },
   "outputs": [],
   "source": [
    "def separation(input_img_addr, threshold, empty_threshold):\n",
    "    x0 = 0\n",
    "    y0 = 0\n",
    "    x1 = 0\n",
    "    y1 = 0\n",
    "\n",
    "    symbolsx = []\n",
    "    symbolsy = []\n",
    "\n",
    "    black = 0\n",
    "    symbol = False\n",
    "    empty = 0\n",
    "    \n",
    "    input_image = Image.open(input_img_addr).convert('L')\n",
    "    \n",
    "    for x in range(input_image.size[0]):\n",
    "        for y in range(input_image.size[1]):\n",
    "            pix = input_image.getpixel((x, y))\n",
    "            if pix < 255:\n",
    "                black += 1\n",
    "        if symbol == True and black < threshold:\n",
    "            empty += 1\n",
    "        if symbol == False and black > threshold: \n",
    "            x0 = x\n",
    "            symbol = True\n",
    "        if symbol == True and black <= threshold and empty >= empty_threshold:\n",
    "            x1 = x\n",
    "            symbol = False\n",
    "            symbolsx.append((x0, x1))\n",
    "            empty = 0\n",
    "        black = 0\n",
    "    \n",
    "    \n",
    "    black = 0\n",
    "    symbol = False\n",
    "    \n",
    "    if string_mode:\n",
    "        for y in range(input_image.size[1]):\n",
    "            for x in range(input_image.size[0]):\n",
    "                pix = input_image.getpixel((x, y))\n",
    "                if pix < 255:\n",
    "                    black += 1\n",
    "            if symbol == True and black < threshold:\n",
    "                empty += 1\n",
    "            if symbol == False and black > threshold:\n",
    "                y0 = y\n",
    "                symbol = True\n",
    "            if symbol == True and black <= threshold and empty >= empty_threshold:\n",
    "                y1 = y\n",
    "                symbol = False\n",
    "                symbolsy.append((y0, y1))\n",
    "                empty = 0\n",
    "            black = 0\n",
    "    \n",
    "    count = 0\n",
    "    black = 0\n",
    "    \n",
    "    if symbolsx == []:\n",
    "        symbolsx = [(0, input_image.size[0])] \n",
    "    if symbolsy == []:\n",
    "        symbolsy = [(0, input_image.size[1])] \n",
    "        \n",
    "    for y in symbolsy:\n",
    "        for x in symbolsx:\n",
    "            if count < 1000:\n",
    "                temp = '{:03d}'.format(count)\n",
    "                addr = 'found/' + str(temp) + '.png'\n",
    "                input_image.crop((x[0], y[0], x[1], y[1])).save(addr, \"PNG\")\n",
    "            count += 1"
   ]
  },
  {
   "cell_type": "code",
   "execution_count": 8,
   "metadata": {
    "collapsed": true
   },
   "outputs": [],
   "source": [
    "def delete_trash(threshold):\n",
    "    images = os.listdir(found_path)\n",
    "    for i in range(len(images)):\n",
    "        try:\n",
    "            black = 0\n",
    "            input_image = Image.open(found_path + images[i])\n",
    "            \n",
    "            for x in range(input_image.size[0]):\n",
    "                for y in range(input_image.size[1]):\n",
    "                    pix = input_image.getpixel((x, y))\n",
    "                    if pix != 255:\n",
    "                        black += 1\n",
    "            if black < threshold:\n",
    "                os.remove(found_path + images[i])\n",
    "        except IOError:\n",
    "            pass        "
   ]
  },
  {
   "cell_type": "code",
   "execution_count": 9,
   "metadata": {
    "collapsed": true
   },
   "outputs": [],
   "source": [
    "def ncc(input_img_addr, example_addr): \n",
    "    input_image = Image.open(input_img_addr)\n",
    "    example = Image.open(example_addr).resize((input_image.size[0],\n",
    "                                               input_image.size[1]), \n",
    "                                              Image.ANTIALIAS)\n",
    "    \n",
    "    images = [input_image, example]\n",
    "    vectors = []\n",
    "    norms = []\n",
    "    for image in images:\n",
    "        vector = []\n",
    "        for pixel in image.getdata():\n",
    "            vector.append(numpy.mean(pixel))\n",
    "        vectors.append(vector)\n",
    "        norms.append(numpy.linalg.norm(vector, 2))\n",
    "    a, b = vectors\n",
    "    a_norm, b_norm = norms\n",
    "    res = numpy.dot(a / a_norm, b / b_norm)\n",
    "    return res"
   ]
  },
  {
   "cell_type": "code",
   "execution_count": 10,
   "metadata": {
    "collapsed": false
   },
   "outputs": [],
   "source": [
    "def compare_1to1(input_img_addr, example_addr):\n",
    "    input_img_addr = found_path + input_img_addr\n",
    "    naive_cut(input_img_addr)\n",
    "\n",
    "    if ncc_mode:\n",
    "        nccors.append(ncc(input_img_addr, example_addr))\n",
    "    \n",
    "    names.append(address_helper(example_addr, 'cln')) "
   ]
  },
  {
   "cell_type": "code",
   "execution_count": 11,
   "metadata": {
    "collapsed": false
   },
   "outputs": [],
   "source": [
    "def compare_1toN(input_img_addr):\n",
    "    global names, nccors, bin_examples\n",
    "    names, nccors = [], []\n",
    "    \n",
    "    for i in range(len(bin_examples)):\n",
    "        try:\n",
    "            compare_1to1(input_img_addr, bin_examples[i])\n",
    "        except IOError:\n",
    "            pass"
   ]
  },
  {
   "cell_type": "code",
   "execution_count": 12,
   "metadata": {
    "collapsed": false
   },
   "outputs": [],
   "source": [
    "def result_1toN():\n",
    "    global results\n",
    "    global RESULT\n",
    "    results = []\n",
    "    \n",
    "    if ncc_mode and nccors != []:\n",
    "        results.append(names[nccors.index(max(nccors))])\n",
    "    \n",
    "    if results == []:\n",
    "        results = ['']\n",
    "        \n",
    "    temp = max(set(results), key=results.count)\n",
    "    display(DImage(filename=binary_path + temp + '.png'))\n",
    "    for d, dirs, files in os.walk(examples_path):\n",
    "        for f in dirs:\n",
    "            temp = temp.replace(f, '')\n",
    "            temp = temp.replace('/', '')  \n",
    "    RESULT += temp "
   ]
  },
  {
   "cell_type": "code",
   "execution_count": 13,
   "metadata": {
    "collapsed": false
   },
   "outputs": [],
   "source": [
    "def print_full(top, tmp_arr, flag):\n",
    "    for i in range(top):\n",
    "        if flag == 'max':\n",
    "            tmp = max(tmp_arr)\n",
    "        if flag == 'min':\n",
    "            tmp = min(tmp_arr)    \n",
    "        print(str(i+1)+\". :\"+str(names[tmp_arr.index(max(tmp_arr))])+\" scores: \"+str(max(tmp_arr)))\n",
    "        tmp_arr.remove(max(tmp_arr))"
   ]
  },
  {
   "cell_type": "code",
   "execution_count": 14,
   "metadata": {
    "collapsed": true
   },
   "outputs": [],
   "source": [
    "def print_1toN():\n",
    "    global top\n",
    "    print('Results:')\n",
    "    if ncc_mode and nccors != []:\n",
    "        print('NCC mode:')\n",
    "        print_full(top, nccors, 'max')\n",
    "    print('Result:' + str(RESULT))"
   ]
  },
  {
   "cell_type": "code",
   "execution_count": 15,
   "metadata": {
    "collapsed": false
   },
   "outputs": [],
   "source": [
    "def naive_cut(img_address):\n",
    "    img = Image.open(img_address).convert('L')\n",
    "    arr = array(img)\n",
    "    norm_arr = []\n",
    "    find = False\n",
    "\n",
    "    for c in range(4):\n",
    "        black = 0\n",
    "        find = False\n",
    "        img = Image.fromarray(arr)\n",
    "        for x in range(len(arr[:, 1])):\n",
    "            if find:\n",
    "                break\n",
    "            for y in range(len(arr[1, :])):\n",
    "                if arr[x, y] == 0:\n",
    "                    black += 1\n",
    "            if black >= 1:\n",
    "                arr = numpy.delete(arr, numpy.s_[0:x], axis=0)\n",
    "                find = True\n",
    "                break\n",
    "        arr = numpy.rot90(arr)\n",
    "        c+=1\n",
    "        \n",
    "    \n",
    "    img = Image.fromarray(arr)\n",
    "    img.save(img_address.replace('binary', 'cutted'),\"PNG\")"
   ]
  },
  {
   "cell_type": "code",
   "execution_count": 16,
   "metadata": {
    "collapsed": false
   },
   "outputs": [],
   "source": [
    "def found_symbols():\n",
    "    symbols = os.listdir(found_path)\n",
    "    print('Found:')\n",
    "    for i in sorted(symbols):\n",
    "        try:\n",
    "            display(DImage(filename=found_path + i))\n",
    "        except IOError:\n",
    "            pass"
   ]
  },
  {
   "cell_type": "code",
   "execution_count": 17,
   "metadata": {
    "collapsed": false,
    "scrolled": false
   },
   "outputs": [
    {
     "data": {
      "image/png": "[encoded data removed]",
      "text/plain": [
       "<IPython.core.display.Image object>"
      ]
     },
     "metadata": {},
     "output_type": "display_data"
    },
    {
     "name": "stdout",
     "output_type": "stream",
     "text": [
      "Processing:\n"
     ]
    },
    {
     "data": {
      "image/png": "[encoded data removed]",
      "text/plain": [
       "<IPython.core.display.Image object>"
      ]
     },
     "metadata": {},
     "output_type": "display_data"
    },
    {
     "data": {
      "image/png": "[encoded data removed]",
      "text/plain": [
       "<IPython.core.display.Image object>"
      ]
     },
     "metadata": {},
     "output_type": "display_data"
    },
    {
     "name": "stdout",
     "output_type": "stream",
     "text": [
      "Results:\n",
      "NCC mode:\n",
      "1. :1/h scores: 1.0\n",
      "2. :1/v scores: 0.892544964015\n",
      "3. :1/s scores: 0.884280543409\n",
      "Result:h\n",
      "Processed: 1/12\n",
      "Processing:\n"
     ]
    },
    {
     "data": {
      "image/png": "[encoded data removed]",
      "text/plain": [
       "<IPython.core.display.Image object>"
      ]
     },
     "metadata": {},
     "output_type": "display_data"
    },
    {
     "data": {
      "image/png": "[encoded data removed]",
      "text/plain": [
       "<IPython.core.display.Image object>"
      ]
     },
     "metadata": {},
     "output_type": "display_data"
    },
    {
     "name": "stdout",
     "output_type": "stream",
     "text": [
      "Results:\n",
      "NCC mode:\n",
      "1. :1/a scores: 1.0\n",
      "2. :1/d scores: 0.899117668128\n",
      "3. :1/s scores: 0.884280543409\n",
      "Result:ha\n",
      "Processed: 2/12\n",
      "Processing:\n"
     ]
    },
    {
     "data": {
      "image/png": "[encoded data removed]",
      "text/plain": [
       "<IPython.core.display.Image object>"
      ]
     },
     "metadata": {},
     "output_type": "display_data"
    },
    {
     "data": {
      "image/png": "[encoded data removed]",
      "text/plain": [
       "<IPython.core.display.Image object>"
      ]
     },
     "metadata": {},
     "output_type": "display_data"
    },
    {
     "name": "stdout",
     "output_type": "stream",
     "text": [
      "Results:\n",
      "NCC mode:\n",
      "1. :1/p scores: 1.0\n",
      "2. :1/v scores: 0.9056385886\n",
      "3. :1/y scores: 0.904127851764\n",
      "Result:hap\n",
      "Processed: 3/12\n",
      "Processing:\n"
     ]
    },
    {
     "data": {
      "image/png": "[encoded data removed]",
      "text/plain": [
       "<IPython.core.display.Image object>"
      ]
     },
     "metadata": {},
     "output_type": "display_data"
    },
    {
     "data": {
      "image/png": "[encoded data removed]",
      "text/plain": [
       "<IPython.core.display.Image object>"
      ]
     },
     "metadata": {},
     "output_type": "display_data"
    },
    {
     "name": "stdout",
     "output_type": "stream",
     "text": [
      "Results:\n",
      "NCC mode:\n",
      "1. :1/p scores: 1.0\n",
      "2. :1/v scores: 0.9056385886\n",
      "3. :1/y scores: 0.904127851764\n",
      "Result:happ\n",
      "Processed: 4/12\n",
      "Processing:\n"
     ]
    },
    {
     "data": {
      "image/png": "[encoded data removed]",
      "text/plain": [
       "<IPython.core.display.Image object>"
      ]
     },
     "metadata": {},
     "output_type": "display_data"
    },
    {
     "data": {
      "image/png": "[encoded data removed]",
      "text/plain": [
       "<IPython.core.display.Image object>"
      ]
     },
     "metadata": {},
     "output_type": "display_data"
    },
    {
     "name": "stdout",
     "output_type": "stream",
     "text": [
      "Results:\n",
      "NCC mode:\n",
      "1. :1/y scores: 1.0\n",
      "2. :1/e scores: 0.904696747481\n",
      "3. :1/p scores: 0.883355618608\n",
      "Result:happy\n",
      "Processed: 5/12\n",
      "Processing:\n"
     ]
    },
    {
     "data": {
      "image/png": "[encoded data removed]",
      "text/plain": [
       "<IPython.core.display.Image object>"
      ]
     },
     "metadata": {},
     "output_type": "display_data"
    },
    {
     "data": {
      "image/png": "[encoded data removed]",
      "text/plain": [
       "<IPython.core.display.Image object>"
      ]
     },
     "metadata": {},
     "output_type": "display_data"
    },
    {
     "name": "stdout",
     "output_type": "stream",
     "text": [
      "Results:\n",
      "NCC mode:\n",
      "1. :1/n scores: 1.0\n",
      "2. :1/f scores: 0.894513489705\n",
      "3. :1/d scores: 0.893057455235\n",
      "Result:happyn\n",
      "Processed: 6/12\n",
      "Processing:\n"
     ]
    },
    {
     "data": {
      "image/png": "[encoded data removed]",
      "text/plain": [
       "<IPython.core.display.Image object>"
      ]
     },
     "metadata": {},
     "output_type": "display_data"
    },
    {
     "data": {
      "image/png": "[encoded data removed]",
      "text/plain": [
       "<IPython.core.display.Image object>"
      ]
     },
     "metadata": {},
     "output_type": "display_data"
    },
    {
     "name": "stdout",
     "output_type": "stream",
     "text": [
      "Results:\n",
      "NCC mode:\n",
      "1. :1/e scores: 1.0\n",
      "2. :1/o scores: 0.909088542749\n",
      "3. :1/r scores: 0.871875557438\n",
      "Result:happyne\n",
      "Processed: 7/12\n",
      "Processing:\n"
     ]
    },
    {
     "data": {
      "image/png": "[encoded data removed]",
      "text/plain": [
       "<IPython.core.display.Image object>"
      ]
     },
     "metadata": {},
     "output_type": "display_data"
    },
    {
     "data": {
      "image/png": "[encoded data removed]",
      "text/plain": [
       "<IPython.core.display.Image object>"
      ]
     },
     "metadata": {},
     "output_type": "display_data"
    },
    {
     "name": "stdout",
     "output_type": "stream",
     "text": [
      "Results:\n",
      "NCC mode:\n",
      "1. :1/w scores: 1.0\n",
      "2. :1/o scores: 0.906261755787\n",
      "3. :1/d scores: 0.893057455235\n",
      "Result:happynew\n",
      "Processed: 8/12\n",
      "Processing:\n"
     ]
    },
    {
     "data": {
      "image/png": "[encoded data removed]",
      "text/plain": [
       "<IPython.core.display.Image object>"
      ]
     },
     "metadata": {},
     "output_type": "display_data"
    },
    {
     "data": {
      "image/png": "[encoded data removed]",
      "text/plain": [
       "<IPython.core.display.Image object>"
      ]
     },
     "metadata": {},
     "output_type": "display_data"
    },
    {
     "name": "stdout",
     "output_type": "stream",
     "text": [
      "Results:\n",
      "NCC mode:\n",
      "1. :1/y scores: 1.0\n",
      "2. :1/e scores: 0.904696747481\n",
      "3. :1/p scores: 0.883355618608\n",
      "Result:happynewy\n",
      "Processed: 9/12\n",
      "Processing:\n"
     ]
    },
    {
     "data": {
      "image/png": "[encoded data removed]",
      "text/plain": [
       "<IPython.core.display.Image object>"
      ]
     },
     "metadata": {},
     "output_type": "display_data"
    },
    {
     "data": {
      "image/png": "[encoded data removed]",
      "text/plain": [
       "<IPython.core.display.Image object>"
      ]
     },
     "metadata": {},
     "output_type": "display_data"
    },
    {
     "name": "stdout",
     "output_type": "stream",
     "text": [
      "Results:\n",
      "NCC mode:\n",
      "1. :1/e scores: 1.0\n",
      "2. :1/o scores: 0.909088542749\n",
      "3. :1/r scores: 0.871875557438\n",
      "Result:happynewye\n",
      "Processed: 10/12\n",
      "Processing:\n"
     ]
    },
    {
     "data": {
      "image/png": "[encoded data removed]",
      "text/plain": [
       "<IPython.core.display.Image object>"
      ]
     },
     "metadata": {},
     "output_type": "display_data"
    },
    {
     "data": {
      "image/png": "[encoded data removed]",
      "text/plain": [
       "<IPython.core.display.Image object>"
      ]
     },
     "metadata": {},
     "output_type": "display_data"
    },
    {
     "name": "stdout",
     "output_type": "stream",
     "text": [
      "Results:\n",
      "NCC mode:\n",
      "1. :1/a scores: 1.0\n",
      "2. :1/d scores: 0.899117668128\n",
      "3. :1/s scores: 0.884280543409\n",
      "Result:happynewyea\n",
      "Processed: 11/12\n",
      "Processing:\n"
     ]
    },
    {
     "data": {
      "image/png": "[encoded data removed]",
      "text/plain": [
       "<IPython.core.display.Image object>"
      ]
     },
     "metadata": {},
     "output_type": "display_data"
    },
    {
     "data": {
      "image/png": "[encoded data removed]",
      "text/plain": [
       "<IPython.core.display.Image object>"
      ]
     },
     "metadata": {},
     "output_type": "display_data"
    },
    {
     "name": "stdout",
     "output_type": "stream",
     "text": [
      "Results:\n",
      "NCC mode:\n",
      "1. :1/r scores: 0.999200377887\n",
      "2. :1/m scores: 0.902727767146\n",
      "3. :1/w scores: 0.881871787936\n",
      "Result:happynewyear\n",
      "Processed: 12/12\n",
      "Message: happynewyear\n"
     ]
    }
   ],
   "source": [
    "def main():\n",
    "    global RESULT, input_address, empty_threshold\n",
    "    RESULT = ''\n",
    "    clean_folders()\n",
    "    create_folders()\n",
    "    display(DImage(filename=input_address))\n",
    "    binarization(input_address)\n",
    "    input_address = address_helper(input_address, 'png')\n",
    "    \n",
    "    examples = []\n",
    "    for d, dirs, files in os.walk(examples_path):\n",
    "        for f in files:\n",
    "            path = os.path.join(d, f)\n",
    "            examples.append(path)\n",
    "             \n",
    "    for i in range(len(examples)):\n",
    "        try:\n",
    "            binarization(examples[i])\n",
    "            naive_cut(address_helper(examples[i], 'bin'))\n",
    "        except IOError:\n",
    "            pass\n",
    "    \n",
    "    global bin_examples\n",
    "    for d, dirs, files in os.walk(cutted_path):\n",
    "        for f in files:\n",
    "            path = os.path.join(d, f)\n",
    "            bin_examples.append(path)\n",
    "            \n",
    "   \n",
    "    separation(input_address, threshold, empty_threshold)\n",
    "    delete_trash(delete_threshold)\n",
    "    #found_symbols()\n",
    "        \n",
    "    symbols = os.listdir(found_path)\n",
    "    count = 0 \n",
    "    for i in sorted(symbols):\n",
    "        try:\n",
    "            count += 1\n",
    "            print('Processing:')\n",
    "            display(DImage(filename=found_path + i))\n",
    "            compare_1toN(i)\n",
    "            result_1toN()\n",
    "            print_1toN()\n",
    "            print('Processed: ' + str(count) + '/' + str(len(symbols)))\n",
    "        except IOError:\n",
    "            pass\n",
    "    print('Message: ' + RESULT)\n",
    "    RESULT = ''\n",
    "    clean_folders()\n",
    "main()"
   ]
  },
  {
   "cell_type": "code",
   "execution_count": null,
   "metadata": {
    "collapsed": true
   },
   "outputs": [],
   "source": []
  }
 ],
 "metadata": {
  "celltoolbar": "Raw Cell Format",
  "kernelspec": {
   "display_name": "Python 3",
   "language": "python",
   "name": "python3"
  },
  "language_info": {
   "codemirror_mode": {
    "name": "ipython",
    "version": 3
   },
   "file_extension": ".py",
   "mimetype": "text/x-python",
   "name": "python",
   "nbconvert_exporter": "python",
   "pygments_lexer": "ipython3",
   "version": "3.5.2"
  }
 },
 "nbformat": 4,
 "nbformat_minor": 0
}

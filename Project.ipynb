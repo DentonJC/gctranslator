{
 "cells": [
  {
   "cell_type": "code",
   "execution_count": 1,
   "metadata": {
    "collapsed": false
   },
   "outputs": [],
   "source": [
    "import os\n",
    "import shutil\n",
    "from IPython.display import display, Image as im\n",
    "import unittest\n",
    "\n",
    "import numpy as np\n",
    "from numpy import array\n",
    "from PIL import Image, ImageDraw\n",
    "np.seterr(divide='ignore', invalid='ignore')\n",
    "\n",
    "string_mode = True\n",
    "ncc_mode = True\n",
    "width = 10\n",
    "top = 3\n",
    "threshold = 3\n",
    "delete_threshold = 100\n",
    "bin_ratio = 600\n",
    "\n",
    "binary_path = os.getcwd() + '/binary/'\n",
    "found_path = os.getcwd() + '/found/'\n",
    "cutted_path = os.getcwd() + '/cutted/'\n",
    "lines_path = found_path + 'lines/'\n",
    "\n",
    "def_input_address = 'test.png'\n",
    "def_examples_path = os.getcwd() + '/examples/'\n",
    "def_empty_threshold = 65\n",
    "def_lines_threshold = 20\n",
    "\n",
    "bin_examples = []\n",
    "names = []\n",
    "nccors = []\n",
    "spaces = []\n",
    "\n",
    "RESULT = ''"
   ]
  },
  {
   "cell_type": "code",
   "execution_count": 2,
   "metadata": {
    "collapsed": false
   },
   "outputs": [],
   "source": [
    "def ui(def_input_address, def_examples_path, def_empty_threshold, \n",
    "       def_lines_threshold): #inputs check\n",
    "    \"\"\"\n",
    "    User interface receives the defaults. The user can define values \n",
    "    or they will be returned by default.\n",
    "    \n",
    "    \"\"\"\n",
    "    \n",
    "    input_address = input('Enter the image address (default is ' + \n",
    "                          def_input_address + ') :')\n",
    "    if input_address == '': \n",
    "        input_address = def_input_address\n",
    "\n",
    "    examples_path = input('Enter the path to folder with samples ' +\n",
    "                          '(default is ' + def_examples_path + '):')\n",
    "    if examples_path == '': \n",
    "        examples_path = def_examples_path\n",
    "    \n",
    "    empty_threshold = input('Enter the distance between letters ' +\n",
    "                            '(default is ' + str(def_empty_threshold) + \n",
    "                            ') [px]:')\n",
    "    if empty_threshold == '': \n",
    "        empty_threshold = def_empty_threshold\n",
    "        \n",
    "    empty_lines_threshold = input('Enter the distance between lines ' +\n",
    "                                  '(default is ' + \n",
    "                                  str(def_lines_threshold) + ') [px]:')\n",
    "    if empty_lines_threshold == '': \n",
    "        empty_lines_threshold = def_lines_threshold\n",
    "    \n",
    "    erase_flag = input('Clear examples after the previous ' + \n",
    "                       'preprocessing? [y/N]:')\n",
    "    return (erase_flag, input_address, examples_path, \n",
    "            empty_threshold, empty_lines_threshold)"
   ]
  },
  {
   "cell_type": "code",
   "execution_count": 3,
   "metadata": {
    "collapsed": false
   },
   "outputs": [],
   "source": [
    "def create_folders(examples_path, binary_path, found_path, \n",
    "                   cutted_path, lines_path):\n",
    "    \"\"\"\n",
    "    The function creates folders that will be filled by generated images.\n",
    "    \n",
    "    \"\"\"\n",
    "    \n",
    "    folders = [examples_path, binary_path, found_path, cutted_path]\n",
    "    names = ['examples','binary','found','cutted']\n",
    "    for i in range(len(folders)):\n",
    "        if not os.path.exists(folders[i]):\n",
    "            os.mkdir(names[i])\n",
    "            f = os.getcwd() + '/' + names[i] + '/'\n",
    "    \n",
    "    if not os.path.exists(lines_path):\n",
    "            os.mkdir(found_path + 'lines/')\n",
    "            f = found_path + 'lines/'\n",
    "                \n",
    "    for d, dirs, files in os.walk(examples_path):\n",
    "            for f in dirs:\n",
    "                if not os.path.exists(binary_path + f):\n",
    "                    os.mkdir(binary_path + f)\n",
    "                    os.mkdir(cutted_path + f)"
   ]
  },
  {
   "cell_type": "code",
   "execution_count": 4,
   "metadata": {
    "collapsed": false
   },
   "outputs": [],
   "source": [
    "def delete_folders(binary_path, found_path, cutted_path):\n",
    "    \"\"\"\n",
    "    The function deletes the folders that were filled by generated images.\n",
    "    \n",
    "    \"\"\"\n",
    "    \n",
    "    folders = [binary_path, found_path, cutted_path]\n",
    "    for f in folders:\n",
    "        if os.path.exists(f):   \n",
    "            shutil.rmtree(f)"
   ]
  },
  {
   "cell_type": "code",
   "execution_count": 5,
   "metadata": {
    "collapsed": false
   },
   "outputs": [],
   "source": [
    "def binarization(input_img_addr):\n",
    "    \"\"\"\n",
    "    The function takes an image and saves a copy in which all pixels \n",
    "    are only black or white in /binary.\n",
    "    \n",
    "    \"\"\"\n",
    "    \n",
    "    #convert to 'RGBA' for .gif opening fix\n",
    "    input_image  = Image.open(input_img_addr).convert('RGBA')\n",
    "    draw = ImageDraw.Draw(input_image)\n",
    "     \n",
    "    for i in range(input_image.size[0]):\n",
    "        for j in range(input_image.size[1]):\n",
    "            r, g, b, a = input_image.getpixel((i, j))\n",
    "            if a == 0:\n",
    "                r, g, b = 0, 0, 0\n",
    "            if (r + g + b > bin_ratio): \n",
    "                r, g, b = 255, 255, 255\n",
    "            else:\n",
    "                r, g, b = 0, 0, 0 \n",
    "            draw.point((i, j), (r, g, b))\n",
    "    del draw\n",
    "    \n",
    "    input_img_addr = input_img_addr[:-4] + '.png'\n",
    "    input_image.save(input_img_addr.replace('/examples/', \n",
    "                                            '/binary/'), \"PNG\")"
   ]
  },
  {
   "cell_type": "code",
   "execution_count": 6,
   "metadata": {
    "collapsed": false
   },
   "outputs": [],
   "source": [
    "def separation(input_img_addr, threshold, \n",
    "               empty_threshold, empty_lines_threshold):\n",
    "    \"\"\"\n",
    "    The function takes the image, cuts it into rows by a horizontal lines \n",
    "    if the line and previous [empty_lines_threshold] lines contained \n",
    "    less than [threshold] black pixels in each. \n",
    "    The resulting images are saved in /found/lines. \n",
    "    Function cuts the images from /found/lines on the characters by a vertical \n",
    "    lines if the previous line and [empty_threshold] lines contained less \n",
    "    than [threshold] black pixels in each.\n",
    "    The resulting images are saved in /found.\n",
    "    \n",
    "    \"\"\"\n",
    "    \n",
    "    global spaces\n",
    "    \n",
    "    input_image = Image.open(input_img_addr).convert('L')\n",
    "    \n",
    "    x0 = 0\n",
    "    y0 = 0\n",
    "    x1 = 0\n",
    "    y1 = 0\n",
    "\n",
    "    symbolsx = []\n",
    "    symbolsy = []\n",
    "\n",
    "    black = 0\n",
    "    symbol = False\n",
    "    empty = 0\n",
    "    \n",
    "    if string_mode:\n",
    "        for y in range(input_image.size[1]):\n",
    "            for x in range(input_image.size[0]):\n",
    "                pix = input_image.getpixel((x, y))\n",
    "                if pix < 255:\n",
    "                    black += 1\n",
    "            if symbol == True and black < threshold:\n",
    "                empty += 1\n",
    "            if symbol == False and black > threshold:\n",
    "                y0 = y\n",
    "                symbol = True\n",
    "            if (symbol == True and black <= threshold and \n",
    "                empty >= int(empty_lines_threshold)):\n",
    "                y1 = y\n",
    "                symbol = False\n",
    "                symbolsy.append((y0, y1))\n",
    "                empty = 0\n",
    "            black = 0\n",
    "    \n",
    "        if symbolsx == []:\n",
    "            symbolsx = [(0, input_image.size[0])] \n",
    "        if symbolsy == []:\n",
    "            symbolsy = [(0, input_image.size[1])] \n",
    "\n",
    "        count = 0\n",
    "\n",
    "        for y in symbolsy:\n",
    "            for x in symbolsx:\n",
    "                if count < 1000:\n",
    "                    temp = '{:03d}'.format(count)\n",
    "                    addr = found_path + '/lines/' + str(temp) + '.png'\n",
    "                    input_image.crop((x[0], y[0], \n",
    "                                      x[1], y[1])).save(addr, \"PNG\")\n",
    "                count += 1\n",
    "                \n",
    "    \n",
    "    lines = os.listdir(found_path + '/lines')\n",
    "    scount = 0\n",
    "    try:\n",
    "        for l in sorted(lines):\n",
    "            input_image = Image.open(found_path + \n",
    "                                     'lines/' + l).convert('L')\n",
    "            \n",
    "            x0 = 0\n",
    "            y0 = 0\n",
    "            x1 = 0\n",
    "            y1 = 0\n",
    "\n",
    "            symbolsx = []\n",
    "            symbolsy = []\n",
    "\n",
    "            black = 0\n",
    "            symbol = False\n",
    "            empty = 0\n",
    "\n",
    "            for x in range(input_image.size[0]):\n",
    "                for y in range(input_image.size[1]):\n",
    "                    pix = input_image.getpixel((x, y))\n",
    "                    if pix < 255:\n",
    "                        black += 1\n",
    "                if symbol == True and black < threshold:\n",
    "                    empty += 1\n",
    "                if symbol == False and black > threshold: \n",
    "                    x0 = x\n",
    "                    symbol = True\n",
    "                if (symbol == True and black <= threshold and \n",
    "                    empty >= int(empty_threshold)):\n",
    "                    x1 = x\n",
    "                    symbol = False\n",
    "                    scount+=1\n",
    "                    symbolsx.append((x0, x1))\n",
    "                    empty = 0\n",
    "                black = 0\n",
    "\n",
    "\n",
    "            if symbolsx == []:\n",
    "                symbolsx = [(0, input_image.size[0])] \n",
    "            if symbolsy == []:\n",
    "                symbolsy = [(0, input_image.size[1])] \n",
    "\n",
    "            for y in symbolsy:\n",
    "                for x in symbolsx:\n",
    "                    if count < 1000:\n",
    "                        temp = '{:03d}'.format(count)\n",
    "                        addr = 'found/' + str(temp) + '.png'\n",
    "                        input_image.crop((x[0], y[0], \n",
    "                                          x[1], y[1])).save(addr, \"PNG\")\n",
    "                    count += 1\n",
    "            spaces.append(scount)\n",
    "    except IOError:\n",
    "            pass"
   ]
  },
  {
   "cell_type": "code",
   "execution_count": 7,
   "metadata": {
    "collapsed": true
   },
   "outputs": [],
   "source": [
    "def delete_trash(threshold):\n",
    "    \"\"\"\n",
    "    The function deletes the images from /found if the number \n",
    "    of black pixels in it less than [delete_threshold].\n",
    "    \n",
    "    \"\"\"\n",
    "    \n",
    "    images = os.listdir(found_path)\n",
    "    for i in range(len(images)):\n",
    "        try:\n",
    "            black = 0\n",
    "            input_image = Image.open(found_path + images[i])\n",
    "            \n",
    "            for x in range(input_image.size[0]):\n",
    "                for y in range(input_image.size[1]):\n",
    "                    pix = input_image.getpixel((x, y))\n",
    "                    if pix != 255:\n",
    "                        black += 1\n",
    "            if black < threshold:\n",
    "                os.remove(found_path + images[i])\n",
    "        except IOError:\n",
    "            pass        "
   ]
  },
  {
   "cell_type": "code",
   "execution_count": 8,
   "metadata": {
    "collapsed": true
   },
   "outputs": [],
   "source": [
    "def ncc(input_img_addr, example_addr): \n",
    "    \"\"\"\n",
    "    Function treat pixels of two images as vectors, normalizes them, \n",
    "    then takes their dot product.\n",
    "    \n",
    "    \"\"\"\n",
    "    \n",
    "    global width\n",
    "    input_image = Image.open(input_img_addr)\n",
    "    wpercent = (width / float(input_image.size[0]))\n",
    "    height = int((float(input_image.size[1]) * float(wpercent)))\n",
    "    input_image = input_image.resize((width,height),Image.ANTIALIAS)\n",
    "    example = Image.open(example_addr).resize((input_image.size[0],\n",
    "                                               input_image.size[1]), \n",
    "                                              Image.ANTIALIAS)\n",
    "    \n",
    "    images = [input_image, example]\n",
    "    vectors = []\n",
    "    norms = []\n",
    "    for image in images:\n",
    "        vector = []\n",
    "        for pixel in image.getdata():\n",
    "            vector.append(np.mean(pixel))\n",
    "        vectors.append(vector)\n",
    "        norms.append(np.linalg.norm(vector, 2))\n",
    "    a, b = vectors\n",
    "    a_norm, b_norm = norms\n",
    "    res = np.dot(a / a_norm, b / b_norm)\n",
    "    return res"
   ]
  },
  {
   "cell_type": "code",
   "execution_count": 9,
   "metadata": {
    "collapsed": false
   },
   "outputs": [],
   "source": [
    "def compare_1to1(input_img_addr, example_addr):\n",
    "    \"\"\"\n",
    "    Comparison of 1 to 1. Helper function for filling in the results list.\n",
    "    \n",
    "    \"\"\"\n",
    "    \n",
    "    input_img_addr = found_path + input_img_addr\n",
    "    naive_cut(input_img_addr)\n",
    "\n",
    "    if ncc_mode:\n",
    "        nccors.append(ncc(input_img_addr, example_addr))\n",
    "    \n",
    "    names.append(example_addr.replace(cutted_path, '')[:-4]) "
   ]
  },
  {
   "cell_type": "code",
   "execution_count": 10,
   "metadata": {
    "collapsed": false
   },
   "outputs": [],
   "source": [
    "def compare_1toN(input_img_addr):\n",
    "    \"\"\"\n",
    "    The function calls the 1-to-1 for the found character and all examples.\n",
    "    \n",
    "    \"\"\"\n",
    "    \n",
    "    global names, nccors, bin_examples\n",
    "    names, nccors = [], []\n",
    "    \n",
    "    for i in range(len(bin_examples)):\n",
    "        try:\n",
    "            compare_1to1(input_img_addr, bin_examples[i])\n",
    "        except IOError:\n",
    "            pass"
   ]
  },
  {
   "cell_type": "code",
   "execution_count": 11,
   "metadata": {
    "collapsed": false
   },
   "outputs": [],
   "source": [
    "def result_1toN():\n",
    "    \"\"\"\n",
    "    Function fills lists comparison results for each symbol.\n",
    "    \n",
    "    \"\"\"\n",
    "    \n",
    "    results = []\n",
    "    \n",
    "    if ncc_mode and nccors != []:\n",
    "        results.append(names[nccors.index(max(nccors))])\n",
    "    \n",
    "    if results == []:\n",
    "        results = ['']\n",
    "        \n",
    "    temp = max(set(results), key=results.count)\n",
    "    display(im(filename=binary_path + temp + '.png'))\n",
    "    for d, dirs, files in os.walk(examples_path):\n",
    "        for f in dirs:\n",
    "            temp = temp.replace(f, '')\n",
    "            temp = temp.replace('/', '') \n",
    "    return temp "
   ]
  },
  {
   "cell_type": "code",
   "execution_count": 12,
   "metadata": {
    "collapsed": false
   },
   "outputs": [],
   "source": [
    "def print_top(top, tmp_arr, flag):\n",
    "    \"\"\"\n",
    "    The function prints the top [top] of the local results.\n",
    "    \n",
    "    \"\"\"\n",
    "    \n",
    "    for i in range(top):\n",
    "        if flag == 'max':\n",
    "            tmp = max(tmp_arr)\n",
    "        if flag == 'min':\n",
    "            tmp = min(tmp_arr)  \n",
    "            \n",
    "        print(str(i + 1) + \". :\" + str(names[tmp_arr.index(max(tmp_arr))]) +\n",
    "              \" scores: \" + str(max(tmp_arr)))\n",
    "        tmp_arr.remove(max(tmp_arr))"
   ]
  },
  {
   "cell_type": "code",
   "execution_count": 13,
   "metadata": {
    "collapsed": true
   },
   "outputs": [],
   "source": [
    "def print_1toN(top):\n",
    "    \"\"\"\n",
    "    The function prints a general result of the character recognition.\n",
    "    \n",
    "    \"\"\"\n",
    "    \n",
    "    print('Results:')\n",
    "    if ncc_mode and nccors != []:\n",
    "        print('NCC mode:')\n",
    "        print_top(top, nccors, 'max')\n",
    "    print('Result:' + str(RESULT))"
   ]
  },
  {
   "cell_type": "code",
   "execution_count": 14,
   "metadata": {
    "collapsed": false
   },
   "outputs": [],
   "source": [
    "def naive_cut(img_address):\n",
    "    \"\"\"\n",
    "    The function cuts the image on all sides by removing rows and columns in which \n",
    "    no black pixels.\n",
    "    \n",
    "    \"\"\"\n",
    "    \n",
    "    img = Image.open(img_address).convert('L')\n",
    "    arr = array(img)\n",
    "    norm_arr = []\n",
    "    find = False\n",
    "\n",
    "    for c in range(4):\n",
    "        black = 0\n",
    "        find = False\n",
    "        #img = Image.fromarray(arr)\n",
    "        for x in range(len(arr[:, 1])):\n",
    "            if find:\n",
    "                break\n",
    "            for y in range(len(arr[1, :])):\n",
    "                if arr[x, y] == 0:\n",
    "                    black += 1\n",
    "            if black >= 1:\n",
    "                arr = np.delete(arr, np.s_[0:x], axis=0)\n",
    "                find = True\n",
    "                break\n",
    "        arr = np.rot90(arr)\n",
    "        c += 1 \n",
    "        \n",
    "    \n",
    "    img = Image.fromarray(arr)\n",
    "    img.save(img_address.replace('binary', 'cutted'),\"PNG\")"
   ]
  },
  {
   "cell_type": "code",
   "execution_count": 15,
   "metadata": {
    "collapsed": false,
    "scrolled": false
   },
   "outputs": [],
   "source": [
    "def main():\n",
    "    \"\"\"\n",
    "    The program takes a recognizable image and databases address.\n",
    "    All images become a binary, then a recognizable image is cut, character by character.\n",
    "    Images are cut and reduced, and then compared with each other and displayed the most \n",
    "    similar result.\n",
    "    \n",
    "    \"\"\"\n",
    "    \n",
    "    global RESULT, input_address, empty_threshold, spaces\n",
    "    global empty_lines_threshold, examples_path, top, bin_examples\n",
    "    \n",
    "    (erase_flag, input_address, examples_path, empty_threshold, \n",
    "     empty_lines_threshold) = ui(def_input_address, def_examples_path, \n",
    "                                 def_empty_threshold, def_lines_threshold)\n",
    "    RESULT = ''\n",
    "    \n",
    "    try:\n",
    "        binarization(input_address)\n",
    "    except IOError:\n",
    "        print('Error. Input image is not found.')\n",
    "        return 0\n",
    "    \n",
    "    input_address = input_address[:-4] + '.png'\n",
    "    display(im(filename=input_address))  \n",
    "    \n",
    "    if (erase_flag == 'y' or erase_flag == 'Y' or \n",
    "        not os.path.exists(binary_path)):\n",
    "        delete_folders(binary_path, found_path, cutted_path)\n",
    "        create_folders(examples_path, binary_path, \n",
    "                       found_path, cutted_path, lines_path)\n",
    "        examples = []\n",
    "        \n",
    "        for d, dirs, files in os.walk(examples_path):\n",
    "            for f in files:\n",
    "                path = os.path.join(d, f)\n",
    "                examples.append(path)   \n",
    "                \n",
    "        for i in range(len(examples)):\n",
    "            try:\n",
    "                binarization(examples[i])\n",
    "                naive_cut(examples[i].replace('/examples/', '/binary/'))\n",
    "            except IOError:\n",
    "                pass\n",
    "    \n",
    "        for d, dirs, files in os.walk(cutted_path):\n",
    "            for f in files:\n",
    "                path = os.path.join(d, f)\n",
    "                bin_examples.append(path)\n",
    "    else:                \n",
    "        if os.path.exists(found_path):\n",
    "            shutil.rmtree(found_path)\n",
    "        create_folders(examples_path, binary_path, found_path, \n",
    "                       cutted_path, lines_path)\n",
    "        \n",
    "        for d, dirs, files in os.walk(cutted_path):\n",
    "            for f in files:\n",
    "                path = os.path.join(d, f)\n",
    "                bin_examples.append(path)\n",
    "            \n",
    "    separation(input_address, threshold, \n",
    "               empty_threshold, empty_lines_threshold)\n",
    "    delete_trash(delete_threshold)\n",
    "        \n",
    "    symbols = os.listdir(found_path)\n",
    "    count = 0\n",
    "    for i in sorted(symbols):\n",
    "        try:\n",
    "            count += 1\n",
    "            print('Processing:')\n",
    "            try:\n",
    "                display(im(filename=found_path + i))\n",
    "            except:\n",
    "                pass\n",
    "            compare_1toN(i)\n",
    "            RESULT += result_1toN().replace('0','')\n",
    "            print_1toN(top)\n",
    "            print('Processed: ' + str(count) + \n",
    "                  '/' + str(len(symbols) - 1))\n",
    "            if count in spaces: RESULT += ' '\n",
    "        except IOError:\n",
    "            pass\n",
    "    print('Message: ' + RESULT)\n",
    "    RESULT = ''"
   ]
  },
  {
   "cell_type": "code",
   "execution_count": 16,
   "metadata": {
    "collapsed": false,
    "scrolled": true
   },
   "outputs": [
    {
     "name": "stdout",
     "output_type": "stream",
     "text": [
      "Enter the image address (default is test.png) :\n",
      "Enter the path to folder with samples (default is /home/cel/UJ/Python/gctranslator/examples/):\n",
      "Enter the distance between letters (default is 65) [px]:\n",
      "Enter the distance between lines (default is 20) [px]:\n",
      "Clear examples after the previous preprocessing? [y/N]:\n"
     ]
    },
    {
     "data": {
      "image/png": "[encoded data removed]",
      "text/plain": [
       "<IPython.core.display.Image object>"
      ]
     },
     "metadata": {},
     "output_type": "display_data"
    },
    {
     "name": "stdout",
     "output_type": "stream",
     "text": [
      "Processing:\n"
     ]
    },
    {
     "data": {
      "image/png": "[encoded data removed]",
      "text/plain": [
       "<IPython.core.display.Image object>"
      ]
     },
     "metadata": {},
     "output_type": "display_data"
    },
    {
     "data": {
      "image/png": "[encoded data removed]",
      "text/plain": [
       "<IPython.core.display.Image object>"
      ]
     },
     "metadata": {},
     "output_type": "display_data"
    },
    {
     "name": "stdout",
     "output_type": "stream",
     "text": [
      "Results:\n",
      "NCC mode:\n",
      "1. :1/h scores: 1.0\n",
      "2. :1/w scores: 0.909726030622\n",
      "3. :1/g scores: 0.904388427825\n",
      "Result:h\n",
      "Processed: 1/12\n",
      "Processing:\n"
     ]
    },
    {
     "data": {
      "image/png": "[encoded data removed]",
      "text/plain": [
       "<IPython.core.display.Image object>"
      ]
     },
     "metadata": {},
     "output_type": "display_data"
    },
    {
     "data": {
      "image/png": "[encoded data removed]",
      "text/plain": [
       "<IPython.core.display.Image object>"
      ]
     },
     "metadata": {},
     "output_type": "display_data"
    },
    {
     "name": "stdout",
     "output_type": "stream",
     "text": [
      "Results:\n",
      "NCC mode:\n",
      "1. :2/a scores: 1.0\n",
      "2. :2/b scores: 0.976608116641\n",
      "3. :2/b scores: 0.968681499718\n",
      "Result:ha\n",
      "Processed: 2/12\n",
      "Processing:\n"
     ]
    },
    {
     "data": {
      "image/png": "[encoded data removed]",
      "text/plain": [
       "<IPython.core.display.Image object>"
      ]
     },
     "metadata": {},
     "output_type": "display_data"
    },
    {
     "data": {
      "image/png": "[encoded data removed]",
      "text/plain": [
       "<IPython.core.display.Image object>"
      ]
     },
     "metadata": {},
     "output_type": "display_data"
    },
    {
     "name": "stdout",
     "output_type": "stream",
     "text": [
      "Results:\n",
      "NCC mode:\n",
      "1. :3/p scores: 0.998821039119\n",
      "2. :14/t scores: 0.895534505299\n",
      "3. :8/x scores: 0.887534550751\n",
      "Result:hap\n",
      "Processed: 3/12\n",
      "Processing:\n"
     ]
    },
    {
     "data": {
      "image/png": "[encoded data removed]",
      "text/plain": [
       "<IPython.core.display.Image object>"
      ]
     },
     "metadata": {},
     "output_type": "display_data"
    },
    {
     "data": {
      "image/png": "[encoded data removed]",
      "text/plain": [
       "<IPython.core.display.Image object>"
      ]
     },
     "metadata": {},
     "output_type": "display_data"
    },
    {
     "name": "stdout",
     "output_type": "stream",
     "text": [
      "Results:\n",
      "NCC mode:\n",
      "1. :4/p scores: 1.0\n",
      "2. :4/h scores: 0.762450931114\n",
      "3. :18/f scores: 0.749991236423\n",
      "Result:happ\n",
      "Processed: 4/12\n",
      "Processing:\n"
     ]
    },
    {
     "data": {
      "image/png": "[encoded data removed]",
      "text/plain": [
       "<IPython.core.display.Image object>"
      ]
     },
     "metadata": {},
     "output_type": "display_data"
    },
    {
     "data": {
      "image/png": "[encoded data removed]",
      "text/plain": [
       "<IPython.core.display.Image object>"
      ]
     },
     "metadata": {},
     "output_type": "display_data"
    },
    {
     "name": "stdout",
     "output_type": "stream",
     "text": [
      "Results:\n",
      "NCC mode:\n",
      "1. :5/y scores: 0.99812815982\n",
      "2. :17/m scores: 0.864077275504\n",
      "3. :25/u scores: 0.859047795438\n",
      "Result:happy\n",
      "Processed: 5/12\n",
      "Processing:\n"
     ]
    },
    {
     "data": {
      "image/png": "[encoded data removed]",
      "text/plain": [
       "<IPython.core.display.Image object>"
      ]
     },
     "metadata": {},
     "output_type": "display_data"
    },
    {
     "data": {
      "image/png": "[encoded data removed]",
      "text/plain": [
       "<IPython.core.display.Image object>"
      ]
     },
     "metadata": {},
     "output_type": "display_data"
    },
    {
     "name": "stdout",
     "output_type": "stream",
     "text": [
      "Results:\n",
      "NCC mode:\n",
      "1. :10/n scores: 1.0\n",
      "2. :12/d scores: 0.977313402314\n",
      "3. :12/b scores: 0.976792215381\n",
      "Result:happy n\n",
      "Processed: 6/12\n",
      "Processing:\n"
     ]
    },
    {
     "data": {
      "image/png": "[encoded data removed]",
      "text/plain": [
       "<IPython.core.display.Image object>"
      ]
     },
     "metadata": {},
     "output_type": "display_data"
    },
    {
     "data": {
      "image/png": "[encoded data removed]",
      "text/plain": [
       "<IPython.core.display.Image object>"
      ]
     },
     "metadata": {},
     "output_type": "display_data"
    },
    {
     "name": "stdout",
     "output_type": "stream",
     "text": [
      "Results:\n",
      "NCC mode:\n",
      "1. :11/e scores: 0.996766406672\n",
      "2. :3/h scores: 0.915247422477\n",
      "3. :25/r scores: 0.90520015797\n",
      "Result:happy ne\n",
      "Processed: 7/12\n",
      "Processing:\n"
     ]
    },
    {
     "data": {
      "image/png": "[encoded data removed]",
      "text/plain": [
       "<IPython.core.display.Image object>"
      ]
     },
     "metadata": {},
     "output_type": "display_data"
    },
    {
     "data": {
      "image/png": "[encoded data removed]",
      "text/plain": [
       "<IPython.core.display.Image object>"
      ]
     },
     "metadata": {},
     "output_type": "display_data"
    },
    {
     "name": "stdout",
     "output_type": "stream",
     "text": [
      "Results:\n",
      "NCC mode:\n",
      "1. :13/w scores: 1.0\n",
      "2. :18/o scores: 0.990927147303\n",
      "3. :5/m scores: 0.978537858584\n",
      "Result:happy new\n",
      "Processed: 8/12\n",
      "Processing:\n"
     ]
    },
    {
     "data": {
      "image/png": "[encoded data removed]",
      "text/plain": [
       "<IPython.core.display.Image object>"
      ]
     },
     "metadata": {},
     "output_type": "display_data"
    },
    {
     "data": {
      "image/png": "[encoded data removed]",
      "text/plain": [
       "<IPython.core.display.Image object>"
      ]
     },
     "metadata": {},
     "output_type": "display_data"
    },
    {
     "name": "stdout",
     "output_type": "stream",
     "text": [
      "Results:\n",
      "NCC mode:\n",
      "1. :6/y scores: 1.0\n",
      "2. :6/o scores: 0.998743021507\n",
      "3. :6/o scores: 0.998666143081\n",
      "Result:happy new y\n",
      "Processed: 9/12\n",
      "Processing:\n"
     ]
    },
    {
     "data": {
      "image/png": "[encoded data removed]",
      "text/plain": [
       "<IPython.core.display.Image object>"
      ]
     },
     "metadata": {},
     "output_type": "display_data"
    },
    {
     "data": {
      "image/png": "[encoded data removed]",
      "text/plain": [
       "<IPython.core.display.Image object>"
      ]
     },
     "metadata": {},
     "output_type": "display_data"
    },
    {
     "name": "stdout",
     "output_type": "stream",
     "text": [
      "Results:\n",
      "NCC mode:\n",
      "1. :7/e scores: 1.0\n",
      "2. :15/m scores: 0.749275306936\n",
      "3. :4/e scores: 0.655539688711\n",
      "Result:happy new ye\n",
      "Processed: 10/12\n",
      "Processing:\n"
     ]
    },
    {
     "data": {
      "image/png": "[encoded data removed]",
      "text/plain": [
       "<IPython.core.display.Image object>"
      ]
     },
     "metadata": {},
     "output_type": "display_data"
    },
    {
     "data": {
      "image/png": "[encoded data removed]",
      "text/plain": [
       "<IPython.core.display.Image object>"
      ]
     },
     "metadata": {},
     "output_type": "display_data"
    },
    {
     "name": "stdout",
     "output_type": "stream",
     "text": [
      "Results:\n",
      "NCC mode:\n",
      "1. :8/a scores: 1.0\n",
      "2. :18/o scores: 0.920421115467\n",
      "3. :10/i scores: 0.918832443809\n",
      "Result:happy new yea\n",
      "Processed: 11/12\n",
      "Processing:\n"
     ]
    },
    {
     "data": {
      "image/png": "[encoded data removed]",
      "text/plain": [
       "<IPython.core.display.Image object>"
      ]
     },
     "metadata": {},
     "output_type": "display_data"
    },
    {
     "data": {
      "image/png": "[encoded data removed]",
      "text/plain": [
       "<IPython.core.display.Image object>"
      ]
     },
     "metadata": {},
     "output_type": "display_data"
    },
    {
     "name": "stdout",
     "output_type": "stream",
     "text": [
      "Results:\n",
      "NCC mode:\n",
      "1. :9/r scores: 1.0\n",
      "2. :9/r scores: 0.970765480417\n",
      "3. :9/l scores: 0.913771950136\n",
      "Result:happy new year\n",
      "Processed: 12/12\n",
      "Processing:\n",
      "Message: happy new year \n"
     ]
    }
   ],
   "source": [
    "main()"
   ]
  },
  {
   "cell_type": "code",
   "execution_count": null,
   "metadata": {
    "collapsed": true
   },
   "outputs": [],
   "source": []
  }
 ],
 "metadata": {
  "celltoolbar": "Raw Cell Format",
  "kernelspec": {
   "display_name": "Python 3",
   "language": "python",
   "name": "python3"
  },
  "language_info": {
   "codemirror_mode": {
    "name": "ipython",
    "version": 3
   },
   "file_extension": ".py",
   "mimetype": "text/x-python",
   "name": "python",
   "nbconvert_exporter": "python",
   "pygments_lexer": "ipython3",
   "version": "3.6.0"
  }
 },
 "nbformat": 4,
 "nbformat_minor": 0
}

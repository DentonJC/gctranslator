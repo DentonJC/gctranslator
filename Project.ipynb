{
 "cells": [
  {
   "cell_type": "code",
   "execution_count": 1,
   "metadata": {
    "collapsed": false
   },
   "outputs": [],
   "source": [
    "from PIL import Image, ImageDraw \n",
    "from IPython.display import Image as DImage\n",
    "import sys, os, hashlib"
   ]
  },
  {
   "cell_type": "code",
   "execution_count": 2,
   "metadata": {
    "collapsed": false
   },
   "outputs": [],
   "source": [
    "#INTERFACE\n",
    "pix_mode   = 1 #pixelhunt\n",
    "hash_mode  = 1\n",
    "black_mode = 0 #ingore - only black pixels count\n",
    "bin_ratio  = 200\n",
    "basewidth  = 8\n",
    "\n",
    "#init directories\n",
    "if not os.path.exists(os.getcwd()+'/examples/'):\n",
    "    os.mkdir('examples')\n",
    "if not os.path.exists(os.getcwd()+'/binary/'):\n",
    "    os.mkdir('binary')\n",
    "if not os.path.exists(os.getcwd()+'/resized/'):\n",
    "    os.mkdir('resized')\n",
    "examples_path = os.getcwd()+'/examples/'\n",
    "binary_path = os.getcwd()+'/binary/'\n",
    "resized_path = os.getcwd()+'/resized/'\n",
    "\n",
    "#global variables\n",
    "names = []\n",
    "values = []\n",
    "distances = []\n",
    "RESULT = ''"
   ]
  },
  {
   "cell_type": "code",
   "execution_count": 3,
   "metadata": {
    "collapsed": false
   },
   "outputs": [
    {
     "name": "stdout",
     "output_type": "stream",
     "text": [
      "Input image address:\"test.jpg\"\n"
     ]
    }
   ],
   "source": [
    "input_address = input('Input image address:') #input must be in \"\""
   ]
  },
  {
   "cell_type": "code",
   "execution_count": 4,
   "metadata": {
    "collapsed": true
   },
   "outputs": [],
   "source": [
    "def address_helper(input_img_addr):\n",
    "    input_img_addr = input_img_addr.replace('.jpg','.png')\n",
    "    input_img_addr = input_img_addr.replace('.gif','.png')\n",
    "    return input_img_addr"
   ]
  },
  {
   "cell_type": "code",
   "execution_count": 5,
   "metadata": {
    "collapsed": false
   },
   "outputs": [],
   "source": [
    "def binarization(input_img_addr):\n",
    "    input_img = Image.open(input_img_addr) \n",
    "    draw = ImageDraw.Draw(input_img)\n",
    "    input_width = input_img.size[0]\n",
    "    input_height = input_img.size[1]\n",
    "    input_pixels = input_img.load()\n",
    "    if \".gif\" not in input_img_addr:\n",
    "        for i in range(input_width):\n",
    "            for j in range(input_height):\n",
    "                r = input_pixels[i, j][0]\n",
    "                g = input_pixels[i, j][1]\n",
    "                b = input_pixels[i, j][2]\n",
    "                s = r + g + b\n",
    "                if (s > bin_ratio):\n",
    "                    r, g, b = 255, 255, 255\n",
    "                else:\n",
    "                    r, g, b = 0, 0, 0\n",
    "                draw.point((i, j), (r, g, b))\n",
    "    input_img_addr = address_helper(input_img_addr)\n",
    "    #if \"/examples/\" not in input_img_addr:\n",
    "    #    input_img_addr = os.getcwd()+'/binary/'+input_img_addr\n",
    "    #else:\n",
    "    input_img_addr = input_img_addr.replace('/examples/','/binary/')\n",
    "    input_img_addr = input_img_addr.replace('/resized/','/binary/')\n",
    "    input_img.save(input_img_addr, \"PNG\")\n",
    "    del draw"
   ]
  },
  {
   "cell_type": "code",
   "execution_count": 6,
   "metadata": {
    "collapsed": false
   },
   "outputs": [],
   "source": [
    "def gethash(input_img_addr):\n",
    "    input_img = Image.open(input_img_addr)\n",
    "    return (hashlib.md5(input_img.tobytes()).hexdigest())"
   ]
  },
  {
   "cell_type": "code",
   "execution_count": 7,
   "metadata": {
    "collapsed": true
   },
   "outputs": [],
   "source": [
    "def hamdist(str1, str2, prevMin=None):\n",
    "    diffs = 0\n",
    "    if len(str1) != len(str2):\n",
    "        return max(len(str1),len(str2))\n",
    "    for ch1, ch2 in zip(str1, str2):\n",
    "        if ch1 != ch2:\n",
    "            diffs += 1\n",
    "            if prevMin is not None and diffs>prevMin:\n",
    "                return None\n",
    "    return diffs"
   ]
  },
  {
   "cell_type": "code",
   "execution_count": 8,
   "metadata": {
    "collapsed": false
   },
   "outputs": [],
   "source": [
    "def resize(input_img_addr, basewidth):\n",
    "    img = Image.open(input_img_addr)\n",
    "    wpercent = (basewidth/float(img.size[0]))\n",
    "    hsize = int((float(img.size[1])*float(wpercent)))\n",
    "    img = img.resize((basewidth,hsize))#,Image.ANTIALIAS) \n",
    "    #if \"/examples/\" not in input_img_addr:\n",
    "    #    input_img_addr = os.getcwd()+'/resized/'+input_img_addr\n",
    "    input_img_addr = input_img_addr.replace('/examples/','/resized/')\n",
    "    input_img_addr = input_img_addr.replace('/binary/','/resized/')\n",
    "    img.save(input_img_addr, \"PNG\")"
   ]
  },
  {
   "cell_type": "code",
   "execution_count": 9,
   "metadata": {
    "collapsed": false
   },
   "outputs": [],
   "source": [
    "def compare1to1(input_img_addr,example_addr):\n",
    "    example_addr = address_helper(example_addr)\n",
    "    input_img_addr = address_helper(input_img_addr)\n",
    "    if pix_mode == 1:\n",
    "        input_img_addr = os.getcwd()+'/binary/'+input_img_addr\n",
    "        input_img = Image.open(input_img_addr)\n",
    "        input_pixels = input_img.load()\n",
    "        example = Image.open(example_addr)\n",
    "            \n",
    "        true = 0 \n",
    "        false = 0\n",
    "        black = 0\n",
    "        pixels = 0\n",
    "    \n",
    "    \n",
    "        for i in xrange(0, input_img.size[0]):\n",
    "                for j in xrange(0, input_img.size[1]):\n",
    "                    if input_pixels[i, j][0] == 255:\n",
    "                        black+=1\n",
    "                    input_pixel = input_img.getpixel((i, j))\n",
    "                    example_pixel = example.getpixel((i, j))\n",
    "                    if input_pixel != example_pixel:                        \n",
    "                        false+=1\n",
    "                    else:\n",
    "                        if black_mode == 'ignore' and input_pixels[i, j][0] == 0:\n",
    "                            break\n",
    "                        true+=1    \n",
    "        values.append(true)\n",
    "\n",
    "        \n",
    "    if hash_mode == 1:\n",
    "        resize(input_img_addr, basewidth)\n",
    "        resize(example_addr, basewidth)\n",
    "        example_addr = example_addr.replace('/binary/','/resized/')\n",
    "        input_img_addr = input_img_addr.replace('/binary/','/resized/')\n",
    "        input_hash = gethash(input_img_addr)\n",
    "        \n",
    "        \n",
    "        example_hash = gethash(example_addr)\n",
    "        \n",
    "        distances.append(hamdist(input_hash, example_hash))\n",
    "        \n",
    "    example_addr = example_addr.replace('.jpg','')\n",
    "    example_addr = example_addr.replace('.gif','')\n",
    "    example_addr = example_addr.replace('.png','')\n",
    "    example_addr = example_addr.replace(os.getcwd()+'/binary/','')\n",
    "    example_addr = example_addr.replace(os.getcwd()+'/resized/','')\n",
    "    names.append(example_addr)   "
   ]
  },
  {
   "cell_type": "code",
   "execution_count": 10,
   "metadata": {
    "collapsed": false
   },
   "outputs": [],
   "source": [
    "def compare1toN(input_img_addr):\n",
    "    global names\n",
    "    global values\n",
    "    global distances\n",
    "    names = []\n",
    "    values = []\n",
    "    distances = []\n",
    "    examples = os.listdir(examples_path)\n",
    "    #if mode == 'pixelhunt':\n",
    "    for i in range(len(examples)):\n",
    "        binarization(examples_path+examples[i])\n",
    "        compare1to1(input_img_addr,binary_path+examples[i])\n",
    "    if hash_mode == 1:\n",
    "        dmin=distances[0]\n",
    "        for i in range(len(distances)):\n",
    "            if distances[i] is not None and distances[i] < dmin:\n",
    "                dmin = distances[i]"
   ]
  },
  {
   "cell_type": "code",
   "execution_count": 11,
   "metadata": {
    "collapsed": false
   },
   "outputs": [],
   "source": [
    "def print1toN():\n",
    "    if pix_mode == 1:\n",
    "        print('Pixel mode:')\n",
    "        for i in range(len(names)):\n",
    "            print(names[i],values[i])\n",
    "    if hash_mode == 1:\n",
    "        print('Hash mode:')\n",
    "        for i in range(len(names)):\n",
    "            print(names[i],distances[i])"
   ]
  },
  {
   "cell_type": "code",
   "execution_count": 12,
   "metadata": {
    "collapsed": false
   },
   "outputs": [],
   "source": [
    "def result1toN():\n",
    "    if pix_mode == 1:\n",
    "        global RESULT \n",
    "        RESULT = RESULT + names[values.index(max(values))]\n",
    "        return names[values.index(max(values))]\n",
    "    if hash_mode == 1:\n",
    "        return names[distances.index(min(distances))]"
   ]
  },
  {
   "cell_type": "code",
   "execution_count": 13,
   "metadata": {
    "collapsed": false
   },
   "outputs": [
    {
     "name": "stdout",
     "output_type": "stream",
     "text": [
      "Pixel mode:\n",
      "('test', 47718)\n",
      "('ctest', 38706)\n",
      "('compare', 44884)\n",
      "('test2', 0)\n",
      "('a', 47718)\n",
      "Hash mode:\n",
      "('test', 0)\n",
      "('ctest', 32)\n",
      "('compare', 27)\n",
      "('test2', 30)\n",
      "('a', 0)\n",
      "test\n"
     ]
    }
   ],
   "source": [
    "binarization(input_address)\n",
    "compare1toN(input_address)\n",
    "print1toN()\n",
    "print(result1toN())"
   ]
  },
  {
   "cell_type": "code",
   "execution_count": null,
   "metadata": {
    "collapsed": true
   },
   "outputs": [],
   "source": []
  }
 ],
 "metadata": {
  "kernelspec": {
   "display_name": "Python 2",
   "language": "python",
   "name": "python2"
  },
  "language_info": {
   "codemirror_mode": {
    "name": "ipython",
    "version": 2
   },
   "file_extension": ".py",
   "mimetype": "text/x-python",
   "name": "python",
   "nbconvert_exporter": "python",
   "pygments_lexer": "ipython2",
   "version": "2.7.12"
  }
 },
 "nbformat": 4,
 "nbformat_minor": 0
}

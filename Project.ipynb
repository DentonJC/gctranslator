{
 "cells": [
  {
   "cell_type": "code",
   "execution_count": 1,
   "metadata": {
    "collapsed": false
   },
   "outputs": [],
   "source": [
    "from PIL import Image, ImageDraw \n",
    "from IPython.display import Image as DImage\n",
    "import sys, os, hashlib, functools"
   ]
  },
  {
   "cell_type": "code",
   "execution_count": 2,
   "metadata": {
    "collapsed": false
   },
   "outputs": [],
   "source": [
    "#INTERFACE\n",
    "pix_mode    = 1 #compare per-pixel\n",
    "hash_mode   = 1 #compare hashes\n",
    "string_mode = 1 #compare hashes of rows and columns\n",
    "black_mode  = 0 #compare only black pixels\n",
    "bin_ratio   = 200 #binarization threshold (0-255*3)\n",
    "basewidth   = 8 #image width after compression (px)\n",
    "resize_mode = 1 #none = 0, antialias = 1, bicubic = 2\n",
    "hashing_mode = 'md5'#md5 sha1 sha224 sha256 sha384 sha512\n",
    "rotate_mode = 1 \n",
    "\n",
    "#init directories\n",
    "if not os.path.exists(os.getcwd()+'/examples/'):\n",
    "    os.mkdir('examples')\n",
    "if not os.path.exists(os.getcwd()+'/binary/'):\n",
    "    os.mkdir('binary')\n",
    "if not os.path.exists(os.getcwd()+'/resized/'):\n",
    "    os.mkdir('resized')\n",
    "examples_path = os.getcwd()+'/examples/'\n",
    "binary_path = os.getcwd()+'/binary/'\n",
    "resized_path = os.getcwd()+'/resized/'\n",
    "\n",
    "#global variables\n",
    "names = []\n",
    "values = []\n",
    "distances = []\n",
    "strings = []\n",
    "results = []\n",
    "\n",
    "RESULT = ''"
   ]
  },
  {
   "cell_type": "code",
   "execution_count": 3,
   "metadata": {
    "collapsed": false
   },
   "outputs": [
    {
     "name": "stdout",
     "output_type": "stream",
     "text": [
      "Input image address:\"test.jpg\"\n"
     ]
    }
   ],
   "source": [
    "input_address = input('Input image address:') #input must be in \"\" (\"test.jpg\")"
   ]
  },
  {
   "cell_type": "code",
   "execution_count": 4,
   "metadata": {
    "collapsed": false
   },
   "outputs": [],
   "source": [
    "def address_helper(input_img_addr, mode):\n",
    "    if mode == 'png':\n",
    "        input_img_addr = input_img_addr.replace('.jpg','.png')\n",
    "        input_img_addr = input_img_addr.replace('.gif','.png')\n",
    "    if mode == 'bin':\n",
    "        input_img_addr = input_img_addr.replace('/examples/','/binary/')\n",
    "        input_img_addr = input_img_addr.replace('/resized/','/binary/')\n",
    "    if mode == 'res':\n",
    "        input_img_addr = input_img_addr.replace('/examples/','/resized/')\n",
    "        input_img_addr = input_img_addr.replace('/binary/','/resized/')\n",
    "    if mode == 'cln':\n",
    "        input_img_addr = input_img_addr.replace('.jpg','')\n",
    "        input_img_addr = input_img_addr.replace('.gif','')\n",
    "        input_img_addr = input_img_addr.replace('.png','')\n",
    "        input_img_addr = input_img_addr.replace(os.getcwd()+'/binary/','')\n",
    "        input_img_addr = input_img_addr.replace(os.getcwd()+'/resized/','')\n",
    "    return input_img_addr"
   ]
  },
  {
   "cell_type": "code",
   "execution_count": 5,
   "metadata": {
    "collapsed": false
   },
   "outputs": [],
   "source": [
    "def binarization(input_img_addr):\n",
    "    input_img = Image.open(input_img_addr) \n",
    "    draw = ImageDraw.Draw(input_img)\n",
    "    input_width = input_img.size[0]\n",
    "    input_height = input_img.size[1]\n",
    "    input_pixels = input_img.load()\n",
    "    \n",
    "    if \".gif\" not in input_img_addr:\n",
    "        for i in range(input_width):\n",
    "            for j in range(input_height):\n",
    "                r = input_pixels[i, j][0]\n",
    "                g = input_pixels[i, j][1]\n",
    "                b = input_pixels[i, j][2]\n",
    "                s = r + g + b\n",
    "                if (s > bin_ratio):\n",
    "                    r, g, b = 255, 255, 255\n",
    "                else:\n",
    "                    r, g, b = 0, 0, 0\n",
    "                draw.point((i, j), (r, g, b))\n",
    "    \n",
    "    input_img_addr = address_helper(input_img_addr,'png')\n",
    "    input_img.save(address_helper(input_img_addr,'bin'), \"PNG\")\n",
    "    del draw"
   ]
  },
  {
   "cell_type": "code",
   "execution_count": 6,
   "metadata": {
    "collapsed": true
   },
   "outputs": [],
   "source": [
    "# добавить сохранение еще трех поворотов в папку бинари\n",
    "def saverotate(input_img_addr):\n",
    "    input_img_addr = address_helper(input_img_addr,'png')\n",
    "    \n",
    "    input_img = Image.open(input_img_addr).rotate(90)\n",
    "    input_img_addr = input_img_addr.replace('.','90.')\n",
    "    input_img.save(input_img_addr, \"PNG\")\n",
    "   \n",
    "    input_img = Image.open(input_img_addr).rotate(90)\n",
    "    input_img_addr = input_img_addr.replace('90.','180.')\n",
    "    input_img.save(input_img_addr, \"PNG\")\n",
    "   \n",
    "    input_img = Image.open(input_img_addr).rotate(90)\n",
    "    input_img_addr = input_img_addr.replace('180.','270.')\n",
    "    input_img.save(input_img_addr, \"PNG\")"
   ]
  },
  {
   "cell_type": "code",
   "execution_count": 7,
   "metadata": {
    "collapsed": false
   },
   "outputs": [],
   "source": [
    "def gethash(input_img_addr):\n",
    "    input_img = Image.open(input_img_addr).convert('L') #convert 'tuple' to 'float', image is already binarized\n",
    "    avg = functools.reduce(lambda x, y: x + y, input_img.getdata())/ 64.\n",
    "    return functools.reduce(lambda x, yz: x | (yz[1] << yz[0]), \n",
    "                            enumerate(map(lambda i: 0 if i < avg else 1, input_img.getdata())),0)"
   ]
  },
  {
   "cell_type": "code",
   "execution_count": 8,
   "metadata": {
    "collapsed": true
   },
   "outputs": [],
   "source": [
    "def hamdist(input_img_hash, example_hash):\n",
    "    distance, i = 0, input_img_hash ^ example_hash\n",
    "    while i:\n",
    "        distance += 1\n",
    "        i &= i - 1\n",
    "    return distance"
   ]
  },
  {
   "cell_type": "code",
   "execution_count": 9,
   "metadata": {
    "collapsed": true
   },
   "outputs": [],
   "source": [
    "def shamdist(str1, str2, prevMin=None):\n",
    "    diffs = 0\n",
    "    if len(str1) != len(str2):\n",
    "        return max(len(str1),len(str2))\n",
    "    for ch1, ch2 in zip(str1, str2):\n",
    "        if ch1 != ch2:\n",
    "            diffs += 1\n",
    "            if prevMin is not None and diffs > prevMin:\n",
    "                return None\n",
    "    return diffs"
   ]
  },
  {
   "cell_type": "code",
   "execution_count": 10,
   "metadata": {
    "collapsed": false
   },
   "outputs": [],
   "source": [
    "def resize(input_img_addr, basewidth):\n",
    "    input_img = Image.open(input_img_addr)\n",
    "    wpercent = (basewidth / float(input_img.size[0]))\n",
    "    hsize = int((float(input_img.size[1]) * float(wpercent)))\n",
    "    if resize_mode == 1:\n",
    "        input_img = input_img.resize((basewidth,hsize), Image.ANTIALIAS)\n",
    "    if resize_mode == 2:\n",
    "        input_img = input_img.resize((basewidth,hsize), Image.BICUBIC)\n",
    "    else:\n",
    "        input_img = input_img.resize((basewidth,hsize))\n",
    "    input_img.save(address_helper(input_img_addr,'res'), \"PNG\")"
   ]
  },
  {
   "cell_type": "code",
   "execution_count": 11,
   "metadata": {
    "collapsed": false
   },
   "outputs": [],
   "source": [
    "def pix_compare(input_img_addr, example_addr):\n",
    "    input_img = Image.open(input_img_addr)\n",
    "    input_pixels = input_img.load()\n",
    "    example = Image.open(example_addr)\n",
    "    true = 0 \n",
    "    \n",
    "    for i in range(0, input_img.size[0]):\n",
    "        for j in range(0, input_img.size[1]):\n",
    "            input_pixel = input_img.getpixel((i, j))\n",
    "            example_pixel = example.getpixel((i, j))\n",
    "            if input_pixel == example_pixel:                        \n",
    "                if not (black_mode == 1 and input_pixels[i, j][0] == 0):\n",
    "                    true+=1  \n",
    "    return true"
   ]
  },
  {
   "cell_type": "code",
   "execution_count": 12,
   "metadata": {
    "collapsed": false
   },
   "outputs": [],
   "source": [
    "def string_compare(input_img_addr, example_addr):\n",
    "    input_img = Image.open(input_img_addr)\n",
    "    example = Image.open(example_addr)\n",
    "    true = 0\n",
    "    input_pix = ''\n",
    "    example_pix = ''\n",
    "    \n",
    "    for i in range(0, input_img.size[0]):\n",
    "        for j in range(0, input_img.size[1]):\n",
    "            input_pix = input_pix + str(input_img.getpixel((i, j)))\n",
    "            example_pix = example_pix + str(example.getpixel((i, j)))\n",
    "        if hashing_mode == 'md5':\n",
    "            true+=shamdist(hashlib.md5(input_pix).hexdigest(),hashlib.md5(example_pix).hexdigest())\n",
    "        if hashing_mode == 'sha1':\n",
    "            true+=shamdist(hashlib.sha1(input_pix).hexdigest(),hashlib.sha1(example_pix).hexdigest())\n",
    "        if hashing_mode == 'sha224':\n",
    "            true+=shamdist(hashlib.sha224(input_pix).hexdigest(),hashlib.sha224(example_pix).hexdigest())\n",
    "        if hashing_mode == 'sha256':\n",
    "            true+=shamdist(hashlib.sha256(input_pix).hexdigest(),hashlib.sha256(example_pix).hexdigest())\n",
    "        if hashing_mode == 'sha384':\n",
    "            true+=shamdist(hashlib.sha384(input_pix).hexdigest(),hashlib.sha384(example_pix).hexdigest())\n",
    "        if hashing_mode == 'sha512':\n",
    "            true+=shamdist(hashlib.sha512(input_pix).hexdigest(),hashlib.sha512(example_pix).hexdigest())\n",
    "        input_pix = ''\n",
    "        example_pix = ''\n",
    "        \n",
    "    for j in range(0, input_img.size[1]):\n",
    "        for i in range(0, input_img.size[0]):\n",
    "            input_pix = input_pix + str(input_img.getpixel((i, j)))\n",
    "            example_pix = example_pix + str(example.getpixel((i, j)))          \n",
    "        true+=shamdist(hashlib.md5(input_pix).hexdigest(),hashlib.md5(example_pix).hexdigest())\n",
    "        input_pix = ''\n",
    "        example_pix = ''\n",
    "        \n",
    "    return true"
   ]
  },
  {
   "cell_type": "code",
   "execution_count": 13,
   "metadata": {
    "collapsed": false
   },
   "outputs": [],
   "source": [
    "def compare1to1(input_img_addr, example_addr):\n",
    "    example_addr = address_helper(example_addr,'png')\n",
    "    input_img_addr = os.getcwd()+'/binary/'+address_helper(input_img_addr,'png')\n",
    "    \n",
    "    if pix_mode == 1:      \n",
    "        values.append(pix_compare(input_img_addr, example_addr))\n",
    "        \n",
    "    if string_mode == 1:\n",
    "        strings.append(string_compare(input_img_addr, example_addr))\n",
    "        \n",
    "    if hash_mode == 1:\n",
    "        resize(input_img_addr, basewidth)\n",
    "        resize(example_addr, basewidth)\n",
    "        \n",
    "        distances.append(hamdist(gethash(address_helper(example_addr,'res')), \n",
    "                                 gethash(address_helper(input_img_addr,'res'))))\n",
    "            \n",
    "    example_addr = address_helper(example_addr, 'cln')\n",
    "    names.append(example_addr)   "
   ]
  },
  {
   "cell_type": "code",
   "execution_count": 14,
   "metadata": {
    "collapsed": false
   },
   "outputs": [],
   "source": [
    "def compare1toN(input_img_addr):\n",
    "    #delete previous values\n",
    "    global names\n",
    "    global values\n",
    "    global distances\n",
    "    global strings\n",
    "    names = []\n",
    "    values = []\n",
    "    distances = []\n",
    "    strings = []\n",
    "    \n",
    "    examples = os.listdir(examples_path)\n",
    "    for i in range(len(examples)):\n",
    "        if \".gif\" in examples[i] or \".jpg\" in examples[i] or \".png\" in examples[i]:\n",
    "            binarization(examples_path+examples[i])\n",
    "            if rotate_mode == 1:\n",
    "                saverotate(binary_path+examples[i])\n",
    "\n",
    "    examples = os.listdir(binary_path)\n",
    "    for i in range(len(examples)):\n",
    "        if \".gif\" in examples[i] or \".jpg\" in examples[i] or \".png\" in examples[i]:\n",
    "            compare1to1(input_img_addr,binary_path+examples[i])"
   ]
  },
  {
   "cell_type": "code",
   "execution_count": 15,
   "metadata": {
    "collapsed": false
   },
   "outputs": [],
   "source": [
    "def print1toN():\n",
    "    if pix_mode == 1:\n",
    "        print('Pixel mode:')\n",
    "        for i in range(len(names)):\n",
    "            print(names[i],values[i])\n",
    "    if hash_mode == 1:\n",
    "        print('Hash mode:')\n",
    "        for i in range(len(names)):\n",
    "            print(names[i],distances[i])\n",
    "    if string_mode == 1:\n",
    "        print('String mode:')\n",
    "        for i in range(len(names)):\n",
    "            print(names[i],strings[i])"
   ]
  },
  {
   "cell_type": "code",
   "execution_count": 16,
   "metadata": {
    "collapsed": false
   },
   "outputs": [],
   "source": [
    "def result1toN():\n",
    "    print('Results:')\n",
    "    global results\n",
    "    global RESULT\n",
    "    results = ['']\n",
    "    if pix_mode == 1 and values != []:\n",
    "        results.append(names[values.index(max(values))])\n",
    "        print('Pixel mode:',names[values.index(max(values))])\n",
    "    if hash_mode == 1 and distances != []:\n",
    "        results.append(names[distances.index(min(distances))])\n",
    "        print('Hash mode:',names[distances.index(min(distances))])\n",
    "    if string_mode == 1 and strings != []:\n",
    "        results.append(names[strings.index(min(strings))])\n",
    "        print('String mode:',names[strings.index(min(strings))])\n",
    "    RESULT += max(set(results), key=results.count)\n",
    "    print('Result:',RESULT)"
   ]
  },
  {
   "cell_type": "code",
   "execution_count": 17,
   "metadata": {
    "collapsed": false
   },
   "outputs": [
    {
     "name": "stdout",
     "output_type": "stream",
     "text": [
      "Pixel mode:\n",
      "('compare', 44884)\n",
      "('ctest180', 23908)\n",
      "('compare90', 31278)\n",
      "('b270', 30071)\n",
      "('test180', 29892)\n",
      "('test90', 30397)\n",
      "('compare180', 30901)\n",
      "('a', 47718)\n",
      "('compare270', 31155)\n",
      "('b', 47416)\n",
      "('ctest', 38706)\n",
      "('b180', 29774)\n",
      "('b90', 30263)\n",
      "('ctest90', 23905)\n",
      "('ctest270', 24434)\n",
      "('test', 47718)\n",
      "('a90', 30397)\n",
      "('a270', 30146)\n",
      "('test270', 30146)\n",
      "('a180', 29892)\n",
      "Hash mode:\n",
      "('compare', 8)\n",
      "('ctest180', 34)\n",
      "('compare90', 46)\n",
      "('b270', 41)\n",
      "('test180', 48)\n",
      "('test90', 42)\n",
      "('compare180', 50)\n",
      "('a', 0)\n",
      "('compare270', 42)\n",
      "('b', 2)\n",
      "('ctest', 23)\n",
      "('b180', 48)\n",
      "('b90', 42)\n",
      "('ctest90', 35)\n",
      "('ctest270', 31)\n",
      "('test', 0)\n",
      "('a90', 42)\n",
      "('a270', 41)\n",
      "('test270', 41)\n",
      "('a180', 48)\n",
      "String mode:\n",
      "('compare', 13063)\n",
      "('ctest180', 13171)\n",
      "('compare90', 13123)\n",
      "('b270', 13187)\n",
      "('test180', 13175)\n",
      "('test90', 13159)\n",
      "('compare180', 13162)\n",
      "('a', 0)\n",
      "('compare270', 13189)\n",
      "('b', 1645)\n",
      "('ctest', 9560)\n",
      "('b180', 13160)\n",
      "('b90', 13148)\n",
      "('ctest90', 13135)\n",
      "('ctest270', 13184)\n",
      "('test', 0)\n",
      "('a90', 13159)\n",
      "('a270', 13182)\n",
      "('test270', 13182)\n",
      "('a180', 13175)\n",
      "Results:\n",
      "('Pixel mode:', 'a')\n",
      "('Hash mode:', 'a')\n",
      "('String mode:', 'a')\n",
      "('Result:', 'a')\n"
     ]
    }
   ],
   "source": [
    "binarization(input_address)\n",
    "compare1toN(input_address)\n",
    "print1toN()\n",
    "result1toN()"
   ]
  },
  {
   "cell_type": "code",
   "execution_count": null,
   "metadata": {
    "collapsed": false
   },
   "outputs": [],
   "source": []
  },
  {
   "cell_type": "code",
   "execution_count": null,
   "metadata": {
    "collapsed": true
   },
   "outputs": [],
   "source": []
  }
 ],
 "metadata": {
  "kernelspec": {
   "display_name": "Python 2",
   "language": "python",
   "name": "python2"
  },
  "language_info": {
   "codemirror_mode": {
    "name": "ipython",
    "version": 2
   },
   "file_extension": ".py",
   "mimetype": "text/x-python",
   "name": "python",
   "nbconvert_exporter": "python",
   "pygments_lexer": "ipython2",
   "version": "2.7.12"
  }
 },
 "nbformat": 4,
 "nbformat_minor": 0
}

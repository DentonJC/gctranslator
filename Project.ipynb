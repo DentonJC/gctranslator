{
 "cells": [
  {
   "cell_type": "code",
   "execution_count": 1,
   "metadata": {
    "collapsed": false
   },
   "outputs": [
    {
     "name": "stdout",
     "output_type": "stream",
     "text": [
      "Input image address:\"test.jpg\"\n"
     ]
    }
   ],
   "source": [
    "input_address = input('Input image address:') #input must be in \"\" (\"test.jpg\" if file is in project folder),\n",
    "                                              #acceptable formats: .jpg, .jpeg, .png, .gif, .bmp"
   ]
  },
  {
   "cell_type": "code",
   "execution_count": 2,
   "metadata": {
    "collapsed": false
   },
   "outputs": [],
   "source": [
    "#INTERFACE\n",
    "#Modes\n",
    "pix_mode    = 1 #compare per-pixel\n",
    "hash_mode   = 1 #compare hashes\n",
    "ahash_mode  = 1 #compare ahashes\n",
    "phash_mode  = 1 #compare phashes\n",
    "dhash_mode  = 1 #compare dhashes\n",
    "string_mode = 0 #compare hashes line by line, not recommended, better use with rotate_mode = 90\n",
    "\n",
    "#Options\n",
    "black_mode  = 0     #compare only black pixels\n",
    "bin_ratio   = 200   #binarization threshold (0-255*3)\n",
    "resize_mode = 1     #none = 0, antialias = 1, bicubic = 2 (0 IS NOT RECOMMENDED)\n",
    "basewidth   = 8     #image width after compression (px)\n",
    "hashing_mode = 'md5'#md5, sha1, sha224, sha256, sha384, sha512\n",
    "\n",
    "rotate_mode = 0     #comrape with rotated examples (NOT RECOMMENDED)\n",
    "rotate_degr = 87    #the degree to which the image is rotated by one step, \n",
    "                    #it will be approximated to integer number of steps for the passage of a circle.\n",
    "    \n",
    "from PIL import Image, ImageDraw\n",
    "from IPython.display import Image as DImage\n",
    "import sys, os, hashlib, functools, scipy.fftpack, numpy, shutil, glob, imghdr\n",
    "#Creating folders\n",
    "#The folder where the user places the samples to be compared to the incoming image.\n",
    "#Acceptable formats: .jpg, .jpeg, .png, .gif, .bmp\n",
    "if not os.path.exists(os.getcwd()+'/examples/'):\n",
    "    os.mkdir('examples')\n",
    "examples_path = os.getcwd()+'/examples/'\n",
    "#The folder in which the binary images will be generated.\n",
    "if not os.path.exists(os.getcwd()+'/binary/'):\n",
    "    os.mkdir('binary')\n",
    "binary_path = os.getcwd()+'/binary/'\n",
    "#The folder in which the resized images will be generated.\n",
    "if not os.path.exists(os.getcwd()+'/resized/'):\n",
    "    os.mkdir('resized')\n",
    "resized_path = os.getcwd()+'/resized/'\n",
    "\n",
    "#Global variables.\n",
    "names   = []\n",
    "values  = []\n",
    "strings = []\n",
    "results = []\n",
    "ahashes = []\n",
    "phashes = []\n",
    "dhashes = []\n",
    "distances = []\n",
    "\n",
    "RESULT = ''"
   ]
  },
  {
   "cell_type": "code",
   "execution_count": 3,
   "metadata": {
    "collapsed": false
   },
   "outputs": [],
   "source": [
    "def clean_folders():\n",
    "    #Cleaning folders\n",
    "    #The folder in which the binary images will be generated.\n",
    "    if os.path.exists(os.getcwd()+'/binary/'):   \n",
    "        filelist = glob.glob(os.getcwd()+'/binary/*.*')\n",
    "        for f in filelist:\n",
    "            os.remove(f)\n",
    "    #The folder in which the resized images will be generated.\n",
    "    if os.path.exists(os.getcwd()+'/resized/'):\n",
    "        filelist = glob.glob(os.getcwd()+'/resized/*.*')\n",
    "        for f in filelist:\n",
    "            os.remove(f)"
   ]
  },
  {
   "cell_type": "code",
   "execution_count": 4,
   "metadata": {
    "collapsed": false
   },
   "outputs": [],
   "source": [
    "def address_helper(input_img_addr, mode):\n",
    "    if mode == 'png': #after preprocessing the program only works with .png format in order to avoid loss of quality\n",
    "        input_img_addr = input_img_addr.replace('.jpg','.png')\n",
    "        input_img_addr = input_img_addr.replace('.jpeg','.png')\n",
    "        input_img_addr = input_img_addr.replace('.gif','.png')\n",
    "        input_img_addr = input_img_addr.replace('.bmp','.bmp')\n",
    "    if mode == 'bin': #change the address of the folder to /binary\n",
    "        input_img_addr = input_img_addr.replace('/examples/','/binary/')\n",
    "        input_img_addr = input_img_addr.replace('/resized/','/binary/')\n",
    "    if mode == 'res': #change the address of the folder to /resized\n",
    "        input_img_addr = input_img_addr.replace('/examples/','/resized/')\n",
    "        input_img_addr = input_img_addr.replace('/binary/','/resized/')\n",
    "    if mode == 'cln': #leave only the name of file (letter)\n",
    "        input_img_addr = input_img_addr.replace('.jpg','')\n",
    "        input_img_addr = input_img_addr.replace('.jpeg','')\n",
    "        input_img_addr = input_img_addr.replace('.gif','')\n",
    "        input_img_addr = input_img_addr.replace('.png','')\n",
    "        input_img_addr = input_img_addr.replace('.bmp','')\n",
    "        input_img_addr = input_img_addr.replace(os.getcwd()+'/binary/','')\n",
    "        input_img_addr = input_img_addr.replace(os.getcwd()+'/resized/','')\n",
    "    return input_img_addr"
   ]
  },
  {
   "cell_type": "code",
   "execution_count": 5,
   "metadata": {
    "collapsed": false
   },
   "outputs": [],
   "source": [
    "def binarization(input_img_addr):\n",
    "    input_image  = Image.open(input_img_addr).convert('RGB') #convert for .gif opening fix\n",
    "    input_width  = input_image.size[0]\n",
    "    input_height = input_image.size[1]\n",
    "    draw = ImageDraw.Draw(input_image)\n",
    "     \n",
    "    for i in range(input_width):\n",
    "        for j in range(input_height):\n",
    "            r, g, b = input_image.getpixel((i,j))\n",
    "            s = r + g + b\n",
    "            if (s > bin_ratio): \n",
    "                r, g, b = 255, 255, 255 #draw pixel black\n",
    "            else:\n",
    "                r, g, b = 0, 0, 0       #draw pixel white\n",
    "            draw.point((i, j), (r, g, b))\n",
    "    del draw\n",
    "    #save in /binary folder like name.png\n",
    "    input_img_addr = address_helper(input_img_addr,'png')\n",
    "    input_image.save(address_helper(input_img_addr,'bin'), \"PNG\")"
   ]
  },
  {
   "cell_type": "code",
   "execution_count": 6,
   "metadata": {
    "collapsed": false
   },
   "outputs": [],
   "source": [
    "def save_rotate(input_img_addr, rotate_degr):  \n",
    "    input_img_addr = address_helper(input_img_addr,'png')\n",
    "    #first step out of cycle, becouse of don't want disposable checking in cycle\n",
    "    (Image.open(input_img_addr).rotate(rotate_degr) #rotate first step\n",
    "     .save(input_img_addr.replace('.',str(rotate_degr)+'.'), \"PNG\"))  #save first step\n",
    "    input_img_addr = input_img_addr.replace('.',str(rotate_degr)+'.') #first step, str(...*(i-1)) returns '0'\n",
    "    \n",
    "    for i in range(2, 360 / rotate_degr):\n",
    "        input_image = Image.open(input_img_addr).rotate(rotate_degr) \n",
    "        input_img_addr = input_img_addr.replace(str((rotate_degr)*(i-1))+'.',\n",
    "                                                str((rotate_degr)*i)+'.')\n",
    "        input_image.save(input_img_addr, \"PNG\")"
   ]
  },
  {
   "cell_type": "code",
   "execution_count": 7,
   "metadata": {
    "collapsed": true
   },
   "outputs": [],
   "source": [
    "def resize(input_img_addr, basewidth):\n",
    "    input_image = Image.open(input_img_addr)\n",
    "    height = int((float(input_image.size[1]) * \n",
    "                 float(basewidth / float(input_image.size[0])))) #calculate the proportional height\n",
    "    if resize_mode == 1:\n",
    "        input_image = input_image.resize((basewidth,height), Image.ANTIALIAS)\n",
    "    if resize_mode == 2:\n",
    "        input_image = input_image.resize((basewidth,height), Image.BICUBIC)\n",
    "    else:\n",
    "        input_image = input_image.resize((basewidth,height))\n",
    "    input_image.save(address_helper(input_img_addr,'res'), \"PNG\")"
   ]
  },
  {
   "cell_type": "code",
   "execution_count": 8,
   "metadata": {
    "collapsed": true
   },
   "outputs": [],
   "source": [
    "def ham_dist(input_img_hash, example_hash):\n",
    "    distance, i = 0, input_img_hash ^ example_hash\n",
    "    while i:\n",
    "        distance += 1\n",
    "        i &= i - 1\n",
    "    return distance"
   ]
  },
  {
   "cell_type": "code",
   "execution_count": 9,
   "metadata": {
    "collapsed": true
   },
   "outputs": [],
   "source": [
    "def s_ham_dist(str1, str2, prevMin=None):\n",
    "    diffs = 0\n",
    "    if len(str1) != len(str2):\n",
    "        return max(len(str1),len(str2))\n",
    "    for ch1, ch2 in zip(str1, str2):\n",
    "        if ch1 != ch2:\n",
    "            diffs += 1\n",
    "            if prevMin is not None and diffs > prevMin:\n",
    "                return None\n",
    "    return diffs"
   ]
  },
  {
   "cell_type": "code",
   "execution_count": 10,
   "metadata": {
    "collapsed": false
   },
   "outputs": [],
   "source": [
    "def pix_compare(input_img_addr, example_addr):\n",
    "    input_image = Image.open(input_img_addr)\n",
    "    input_pixels = input_image.load()\n",
    "    example = Image.open(example_addr)\n",
    "    true = 0 \n",
    "    \n",
    "    for i in range(0, input_image.size[0]):\n",
    "        for j in range(0, input_image.size[1]):\n",
    "            input_pixel = input_image.getpixel((i, j))\n",
    "            example_pixel = example.getpixel((i, j))\n",
    "            if input_pixel == example_pixel:                        \n",
    "                if not (black_mode == 1 and input_pixels[i, j][0] == 0):\n",
    "                    true+=1  \n",
    "    return true"
   ]
  },
  {
   "cell_type": "code",
   "execution_count": 11,
   "metadata": {
    "collapsed": false
   },
   "outputs": [],
   "source": [
    "def string_compare(input_img_addr, example_addr):\n",
    "    input_image = Image.open(input_img_addr)\n",
    "    example = Image.open(example_addr)\n",
    "    true = 0\n",
    "    input_pix = ''\n",
    "    example_pix = ''\n",
    "    global hashing_mode\n",
    "    \n",
    "    for i in range(0, input_image.size[0]):\n",
    "        for j in range(0, input_image.size[1]):\n",
    "            input_pix = input_pix + str(input_image.getpixel((i, j)))\n",
    "            example_pix = example_pix + str(example.getpixel((i, j)))\n",
    "            try:\n",
    "                true+=s_ham_dist(hashlib.__dict__[hashing_mode](input_pix).hexdigest(),\n",
    "                         hashlib.__dict__[hashing_mode](example_pix).hexdigest())\n",
    "            except KeyError:\n",
    "                hashing_mode = 'md5'\n",
    "            finally:\n",
    "                true+=s_ham_dist(hashlib.__dict__[hashing_mode](input_pix).hexdigest(),\n",
    "                         hashlib.__dict__[hashing_mode](example_pix).hexdigest())\n",
    "        input_pix = ''\n",
    "        example_pix = ''\n",
    "    return true"
   ]
  },
  {
   "cell_type": "code",
   "execution_count": 12,
   "metadata": {
    "collapsed": true
   },
   "outputs": [],
   "source": [
    "def get_hash(input_img_addr):\n",
    "    input_image = Image.open(input_img_addr).convert('L') #convert 'tuple' to 'float', image is already binarized\n",
    "    avg = functools.reduce(lambda x, y: x + y, input_image.getdata())/ 64.\n",
    "    return functools.reduce(lambda x, yz: x | (yz[1] << yz[0]), \n",
    "                            enumerate(map(lambda i: 0 if i < avg else 1, input_image.getdata())),0)"
   ]
  },
  {
   "cell_type": "code",
   "execution_count": 13,
   "metadata": {
    "collapsed": false
   },
   "outputs": [],
   "source": [
    "def ahash(input_img_addr):\n",
    "    image = Image.open(input_img_addr).convert('L').resize((basewidth, basewidth))\n",
    "    pixels = numpy.array(image.getdata()).reshape((basewidth, basewidth))\n",
    "    avg = pixels.mean()\n",
    "    diff = ''\n",
    "    tmp = pixels > avg\n",
    "    for i in range(0, basewidth-1):\n",
    "        for j in range(0, basewidth-1):\n",
    "            if tmp[i,j] == True:\n",
    "                diff+='1'\n",
    "            else:\n",
    "                diff+='0'    \n",
    "    return diff"
   ]
  },
  {
   "cell_type": "code",
   "execution_count": 14,
   "metadata": {
    "collapsed": false
   },
   "outputs": [],
   "source": [
    "def phash(input_img_addr):\n",
    "    image = Image.open(input_img_addr).convert('L').resize((basewidth, basewidth))\n",
    "    pixels = numpy.array(image.getdata(), dtype = numpy.float).reshape((basewidth, basewidth))\n",
    "    dct = scipy.fftpack.dct(scipy.fftpack.dct(pixels, axis=0), axis=1)\n",
    "    dct_low_freq = dct[:basewidth, :basewidth]\n",
    "    med = numpy.median(dct_low_freq)\n",
    "    diff = ''\n",
    "    tmp = dct_low_freq > med\n",
    "    for i in range(0, basewidth-1):\n",
    "        for j in range(0, basewidth-1):\n",
    "            if tmp[i,j] == True:\n",
    "                diff+='1'\n",
    "            else:\n",
    "                diff+='0'    \n",
    "    return diff"
   ]
  },
  {
   "cell_type": "code",
   "execution_count": 15,
   "metadata": {
    "collapsed": true
   },
   "outputs": [],
   "source": [
    "def dhash(input_img_addr):\n",
    "    # resize(w, h), but numpy.array((h, w))\n",
    "    image = Image.open(input_img_addr).convert('L').resize((basewidth, basewidth))\n",
    "    pixels = numpy.array(image.getdata(), dtype=numpy.float).reshape((basewidth, basewidth))\n",
    "    # compute differences between rows\n",
    "    diff = ''\n",
    "    tmp = pixels[:, 1:] > pixels[:, :-1]\n",
    "    for i in range(0, basewidth-1):\n",
    "        for j in range(0, basewidth-1):\n",
    "            if tmp[i,j] == True:\n",
    "                diff+='1'\n",
    "            else:\n",
    "                diff+='0'    \n",
    "    return diff"
   ]
  },
  {
   "cell_type": "code",
   "execution_count": 16,
   "metadata": {
    "collapsed": false
   },
   "outputs": [],
   "source": [
    "def compare_1to1(input_img_addr, example_addr):\n",
    "    example_addr = address_helper(example_addr,'png')\n",
    "    input_img_addr = os.getcwd()+'/binary/'+address_helper(input_img_addr,'png')\n",
    "    #compare per-pixel\n",
    "    if pix_mode == 1:      \n",
    "        values.append(pix_compare(input_img_addr, example_addr))\n",
    "    #compare hashes line by line\n",
    "    if string_mode == 1:\n",
    "        strings.append(string_compare(input_img_addr, example_addr))\n",
    "    \n",
    "    resize(input_img_addr, basewidth)\n",
    "    resize(example_addr, basewidth)\n",
    "    example_addr = address_helper(example_addr,'res')\n",
    "    input_img_addr = address_helper(input_img_addr,'res')\n",
    "    \n",
    "    #WARNING:now pictures are resized\n",
    "    #compare ahashes\n",
    "    if ahash_mode == 1:\n",
    "        ahashes.append(s_ham_dist(ahash(input_img_addr), ahash(example_addr)))\n",
    "    #compare phashes\n",
    "    if phash_mode == 1:\n",
    "        phashes.append(s_ham_dist(phash(input_img_addr), phash(example_addr)))\n",
    "    #compare dhashes\n",
    "    if dhash_mode == 1:\n",
    "        dhashes.append(s_ham_dist(dhash(input_img_addr), dhash(example_addr)))\n",
    "    #compare hashes\n",
    "    if hash_mode == 1:\n",
    "        distances.append(ham_dist(get_hash(input_img_addr), get_hash(example_addr)))\n",
    "            \n",
    "    example_addr = address_helper(example_addr, 'cln')\n",
    "    names.append(example_addr)   "
   ]
  },
  {
   "cell_type": "code",
   "execution_count": 17,
   "metadata": {
    "collapsed": false
   },
   "outputs": [],
   "source": [
    "def compare_1toN(input_img_addr):\n",
    "    #delete previous values\n",
    "    global names, values, distances, strings, ahashes, phashes, dhashes, rotate_degr\n",
    "    names, values, distances, strings, ahashes, phashes, dhashes, rotate_degr = [],[],[],[],[],[],[],[]\n",
    "        \n",
    "    examples = os.listdir(examples_path) #get list of all files in /examples\n",
    "    for i in range(len(examples)):\n",
    "        try: #check if file is image\n",
    "            binarization(examples_path+examples[i])\n",
    "            if rotate_mode == 1:\n",
    "                save_rotate(binary_path+examples[i],360 / abs(360 / rotate_degr)) #rotate to the approximate degree\n",
    "        except IOError:\n",
    "            pass\n",
    "    examples = os.listdir(binary_path) #get list of all files in /binary + rotated images\n",
    "    for i in range(len(examples)):\n",
    "        try: #check if file is image\n",
    "            compare_1to1(input_img_addr,binary_path+examples[i])\n",
    "        except IOError:\n",
    "            pass"
   ]
  },
  {
   "cell_type": "code",
   "execution_count": 18,
   "metadata": {
    "collapsed": false
   },
   "outputs": [],
   "source": [
    "def result1toN():\n",
    "    global results #local results\n",
    "    global RESULT  #global result\n",
    "    results = [''] #clean prev result\n",
    "    \n",
    "    #collecting all the local results\n",
    "    if pix_mode == 1 and values != []:\n",
    "        results.append(names[values.index(max(values))])\n",
    "    if hash_mode == 1 and distances != []:\n",
    "        results.append(names[distances.index(min(distances))])\n",
    "    if string_mode == 1 and strings != []:\n",
    "        results.append(names[strings.index(min(strings))])\n",
    "    if ahash_mode == 1 and ahashes != []:\n",
    "        results.append(names[ahashes.index(min(ahashes))])\n",
    "    if phash_mode == 1 and phashes != []:\n",
    "        results.append(names[phashes.index(min(phashes))])\n",
    "    if dhash_mode == 1 and dhashes != []:\n",
    "        results.append(names[dhashes.index(min(dhashes))])\n",
    "        \n",
    "    RESULT += max(set(results), key=results.count) #add the most likely local result to the global"
   ]
  },
  {
   "cell_type": "code",
   "execution_count": 19,
   "metadata": {
    "collapsed": true
   },
   "outputs": [],
   "source": [
    "def print1toN(): #developer function\n",
    "    if pix_mode == 1:\n",
    "        print('Pixel mode:')\n",
    "        for i in range(len(names)):\n",
    "            print(names[i],values[i])\n",
    "    if hash_mode == 1:\n",
    "        print('Hash mode:')\n",
    "        for i in range(len(names)):\n",
    "            print(names[i],distances[i])\n",
    "    if string_mode == 1:\n",
    "        print('String mode:')\n",
    "        for i in range(len(names)):\n",
    "            print(names[i],strings[i])\n",
    "    if ahash_mode == 1:\n",
    "        print('AHash mode:')\n",
    "        for i in range(len(names)):\n",
    "            print(names[i],ahashes[i])\n",
    "    if phash_mode == 1:\n",
    "        print('PHash mode:')\n",
    "        for i in range(len(names)):\n",
    "            print(names[i],phashes[i])\n",
    "    if dhash_mode == 1:\n",
    "        print('DHash mode:')\n",
    "        for i in range(len(names)):\n",
    "            print(names[i],dhashes[i])\n",
    "    print('Results:')\n",
    "    if pix_mode == 1 and values != []:\n",
    "        print('Pixel mode:',names[values.index(max(values))])\n",
    "    if hash_mode == 1 and distances != []:\n",
    "        print('Hash mode:',names[distances.index(min(distances))])\n",
    "    if string_mode == 1 and strings != []:\n",
    "        print('String mode:',names[strings.index(min(strings))])\n",
    "    if ahash_mode == 1 and ahashes != []:\n",
    "        print('AHash mode:',names[ahashes.index(min(ahashes))])\n",
    "    if phash_mode == 1 and phashes != []:\n",
    "        print('PHash mode:',names[phashes.index(min(phashes))])\n",
    "    if dhash_mode == 1 and dhashes != []:\n",
    "        print('DHash mode:',names[dhashes.index(min(dhashes))])\n",
    "    print('Result:',RESULT)"
   ]
  },
  {
   "cell_type": "code",
   "execution_count": 20,
   "metadata": {
    "collapsed": false
   },
   "outputs": [
    {
     "name": "stdout",
     "output_type": "stream",
     "text": [
      "Pixel mode:\n",
      "('compare', 44884)\n",
      "('testgif', 38302)\n",
      "('a', 47718)\n",
      "('b', 47416)\n",
      "('ctest', 38706)\n",
      "('test', 47718)\n",
      "Hash mode:\n",
      "('compare', 8)\n",
      "('testgif', 33)\n",
      "('a', 0)\n",
      "('b', 2)\n",
      "('ctest', 23)\n",
      "('test', 0)\n",
      "AHash mode:\n",
      "('compare', 8)\n",
      "('testgif', 18)\n",
      "('a', 0)\n",
      "('b', 6)\n",
      "('ctest', 17)\n",
      "('test', 0)\n",
      "PHash mode:\n",
      "('compare', 9)\n",
      "('testgif', 24)\n",
      "('a', 0)\n",
      "('b', 5)\n",
      "('ctest', 20)\n",
      "('test', 0)\n",
      "DHash mode:\n",
      "('compare', 4)\n",
      "('testgif', 29)\n",
      "('a', 0)\n",
      "('b', 2)\n",
      "('ctest', 16)\n",
      "('test', 0)\n",
      "Results:\n",
      "('Pixel mode:', 'a')\n",
      "('Hash mode:', 'a')\n",
      "('AHash mode:', 'a')\n",
      "('PHash mode:', 'a')\n",
      "('DHash mode:', 'a')\n",
      "('Result:', 'a')\n"
     ]
    }
   ],
   "source": [
    "binarization(input_address)\n",
    "compare_1toN(input_address)\n",
    "result1toN()\n",
    "print1toN()"
   ]
  },
  {
   "cell_type": "code",
   "execution_count": 21,
   "metadata": {
    "collapsed": false
   },
   "outputs": [],
   "source": [
    "clean_folders()"
   ]
  },
  {
   "cell_type": "code",
   "execution_count": null,
   "metadata": {
    "collapsed": false
   },
   "outputs": [],
   "source": []
  },
  {
   "cell_type": "code",
   "execution_count": null,
   "metadata": {
    "collapsed": false
   },
   "outputs": [],
   "source": []
  },
  {
   "cell_type": "code",
   "execution_count": null,
   "metadata": {
    "collapsed": true
   },
   "outputs": [],
   "source": []
  }
 ],
 "metadata": {
  "kernelspec": {
   "display_name": "Python 2",
   "language": "python",
   "name": "python2"
  },
  "language_info": {
   "codemirror_mode": {
    "name": "ipython",
    "version": 2
   },
   "file_extension": ".py",
   "mimetype": "text/x-python",
   "name": "python",
   "nbconvert_exporter": "python",
   "pygments_lexer": "ipython2",
   "version": "2.7.12"
  }
 },
 "nbformat": 4,
 "nbformat_minor": 0
}

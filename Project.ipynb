{
 "cells": [
  {
   "cell_type": "code",
   "execution_count": 30,
   "metadata": {
    "collapsed": true
   },
   "outputs": [],
   "source": [
    "from PIL import Image, ImageDraw \n",
    "from IPython.display import Image as DImage\n",
    "import sys, os"
   ]
  },
  {
   "cell_type": "code",
   "execution_count": 39,
   "metadata": {
    "collapsed": false
   },
   "outputs": [],
   "source": [
    "threshold = 90\n",
    "names = []\n",
    "values = []\n",
    "black_mode=\"ignore\" #ingore - only black pixels count\n",
    "bin_ratio = 200\n",
    "if not os.path.exists(os.getcwd()+'/examples/'):\n",
    "    os.mkdir('examples')\n",
    "if not os.path.exists(os.getcwd()+'/binary/'):\n",
    "    os.mkdir('binary')\n",
    "examples_path = os.getcwd()+'/examples/'\n",
    "binary_path = os.getcwd()+'/binary/'\n",
    "RESULT = ''"
   ]
  },
  {
   "cell_type": "code",
   "execution_count": 32,
   "metadata": {
    "collapsed": false
   },
   "outputs": [
    {
     "name": "stdout",
     "output_type": "stream",
     "text": [
      "Input image address:\"a.jpg\"\n"
     ]
    }
   ],
   "source": [
    "input_address = input('Input image address:') #input must be in \"\""
   ]
  },
  {
   "cell_type": "code",
   "execution_count": 40,
   "metadata": {
    "collapsed": false
   },
   "outputs": [],
   "source": [
    "def binarization(input_img_addr):\n",
    "    input_img = Image.open(input_img_addr) \n",
    "    draw = ImageDraw.Draw(input_img)\n",
    "    input_width = input_img.size[0]\n",
    "    input_height = input_img.size[1]\n",
    "    input_pixels = input_img.load()\n",
    "    if \".gif\" not in input_img_addr:\n",
    "        for i in range(input_width):\n",
    "            for j in range(input_height):\n",
    "                r = input_pixels[i, j][0]\n",
    "                g = input_pixels[i, j][1]\n",
    "                b = input_pixels[i, j][2]\n",
    "                s = r + g + b\n",
    "                if (s > bin_ratio):\n",
    "                    r, g, b = 255, 255, 255\n",
    "                else:\n",
    "                    r, g, b = 0, 0, 0\n",
    "                draw.point((i, j), (r, g, b))\n",
    "    input_img_addr = input_img_addr.replace('.jpg','.png')\n",
    "    input_img_addr = input_img_addr.replace('.gif','.png')\n",
    "    if \"/examples/\" not in input_img_addr:\n",
    "        input_img_addr = os.getcwd()+'/binary/'+input_img_addr\n",
    "    else:\n",
    "        input_img_addr = input_img_addr.replace('/examples/','/binary/')\n",
    "    input_img.save(input_img_addr, \"PNG\")\n",
    "    del draw"
   ]
  },
  {
   "cell_type": "code",
   "execution_count": 41,
   "metadata": {
    "collapsed": false
   },
   "outputs": [],
   "source": [
    "def compare1to1(input_img_addr,example_addr):\n",
    "    example_addr = example_addr.replace('.jpg','.png')\n",
    "    example_addr = example_addr.replace('.gif','.png')\n",
    "    input_img = Image.open(input_img_addr)\n",
    "    input_pixels = input_img.load()\n",
    "    example = Image.open(example_addr)\n",
    "    true = 0 \n",
    "    false = 0\n",
    "    black = 0\n",
    "    pixels = 0\n",
    "    for i in xrange(0, input_img.size[0]):\n",
    "            for j in xrange(0, input_img.size[1]):\n",
    "                if input_pixels[i, j][0] == 255:\n",
    "                    black+=1\n",
    "                input_pixel = input_img.getpixel((i, j))\n",
    "                example_pixel = example.getpixel((i, j))\n",
    "                if input_pixel != example_pixel:                        \n",
    "                    false+=1\n",
    "                else:\n",
    "                    if black_mode == 'ignore' and input_pixels[i, j][0] == 0:\n",
    "                        break\n",
    "                    true+=1\n",
    "    if black_mode == 'ignore':\n",
    "        pixels = black\n",
    "    else:\n",
    "        pixels = input_img.size[0]*input_img.size[1]\n",
    "    example_addr = example_addr.replace('.jpg','')\n",
    "    example_addr = example_addr.replace('.gif','')\n",
    "    example_addr = example_addr.replace('.png','')\n",
    "    example_addr = example_addr.replace(os.getcwd()+'/binary/','')\n",
    "    names.append(example_addr)   \n",
    "    values.append(true)"
   ]
  },
  {
   "cell_type": "code",
   "execution_count": 42,
   "metadata": {
    "collapsed": false
   },
   "outputs": [],
   "source": [
    "def compare1toN(input_img_addr):\n",
    "    global names\n",
    "    global values\n",
    "    names = []\n",
    "    values = []\n",
    "    examples = os.listdir(examples_path)\n",
    "    for i in range(len(examples)):\n",
    "        binarization(examples_path+examples[i])\n",
    "        compare1to1(input_img_addr,binary_path+examples[i])"
   ]
  },
  {
   "cell_type": "code",
   "execution_count": 43,
   "metadata": {
    "collapsed": false
   },
   "outputs": [],
   "source": [
    "def print1toN():\n",
    "    for i in range(len(names)):\n",
    "        print(names[i],values[i])"
   ]
  },
  {
   "cell_type": "code",
   "execution_count": 46,
   "metadata": {
    "collapsed": false
   },
   "outputs": [],
   "source": [
    "def result1toN():\n",
    "    global RESULT \n",
    "    RESULT = RESULT + names[values.index(max(values))]\n",
    "    return names[values.index(max(values))]"
   ]
  },
  {
   "cell_type": "code",
   "execution_count": null,
   "metadata": {
    "collapsed": true
   },
   "outputs": [],
   "source": [
    "def fing_symbol():"
   ]
  },
  {
   "cell_type": "code",
   "execution_count": null,
   "metadata": {
    "collapsed": true
   },
   "outputs": [],
   "source": [
    "def compareNtoN():"
   ]
  },
  {
   "cell_type": "code",
   "execution_count": 47,
   "metadata": {
    "collapsed": false
   },
   "outputs": [
    {
     "name": "stdout",
     "output_type": "stream",
     "text": [
      "('test', 9678)\n",
      "('ctest', 9413)\n",
      "('test2', 0)\n",
      "test\n"
     ]
    }
   ],
   "source": [
    "binarization(input_address)\n",
    "compare1toN(input_address)\n",
    "print1toN()\n",
    "print(result1toN())"
   ]
  },
  {
   "cell_type": "code",
   "execution_count": null,
   "metadata": {
    "collapsed": false
   },
   "outputs": [],
   "source": []
  },
  {
   "cell_type": "code",
   "execution_count": null,
   "metadata": {
    "collapsed": true
   },
   "outputs": [],
   "source": []
  }
 ],
 "metadata": {
  "kernelspec": {
   "display_name": "Python 2",
   "language": "python",
   "name": "python2"
  },
  "language_info": {
   "codemirror_mode": {
    "name": "ipython",
    "version": 2
   },
   "file_extension": ".py",
   "mimetype": "text/x-python",
   "name": "python",
   "nbconvert_exporter": "python",
   "pygments_lexer": "ipython2",
   "version": "2.7.12"
  }
 },
 "nbformat": 4,
 "nbformat_minor": 0
}

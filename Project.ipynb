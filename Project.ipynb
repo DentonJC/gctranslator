{
 "cells": [
  {
   "cell_type": "code",
   "execution_count": 1,
   "metadata": {
    "collapsed": false
   },
   "outputs": [],
   "source": [
    "#input_address = input('Input image address:') #input must be in \"\" (\"test.jpg\" if file is in project folder),\n",
    "                                              #acceptable formats: .jpg, .jpeg, .png, .gif, .bmp\n",
    "input_address = 'test.png'"
   ]
  },
  {
   "cell_type": "code",
   "execution_count": 2,
   "metadata": {
    "collapsed": false
   },
   "outputs": [],
   "source": [
    "#INTERFACE\n",
    "#Modes\n",
    "#http://www.hackerfactor.com/blog/index.php?/archives/529-Kind-of-Like-That.html \n",
    "#dhash_mode recommended\n",
    "ahash_mode  = 1 #compare ahashes\n",
    "phash_mode  = 1 #compare phashes\n",
    "dhash_mode  = 1 #compare dhashes\n",
    "ncc_mode    = 1 #find normalized cross correlation\n",
    "\n",
    "pix_mode    = 0 #compare per-pixel (FOR TESTS ONLY)\n",
    "                #Quite effectively to a binary image. \n",
    "                #To grayscale need to use something to check the value of pixels rather than quantity. \n",
    "                #Perhaps: Levenshtein distance, MSE, RMSE, etc.\n",
    "\n",
    "#Options\n",
    "threshold   = 1    #pixels needed for symbol detection\n",
    "t_threshold = 100    #delete found symbol if number of black pixels < threshold\n",
    "black_mode  = 0     #compare only black pixels\n",
    "bin_ratio   = 600   #binarization threshold (0-255*3)\n",
    "resize_mode = 1     #none = 0, antialias = 1, bicubic = 2 (0 IS NOT RECOMMENDED)\n",
    "basewidth   = 8     #image width after compression (px)\n",
    "hashing_mode = 'md5'#md5, sha1, sha224, sha256, sha384, sha512\n",
    "\n",
    "rotate_mode = 0     #comrape with rotated examples (NOT RECOMMENDED)\n",
    "rotate_degr = 87    #the degree to which the image is rotated by one step, \n",
    "                    #it will be approximated to integer number of steps for the passage of a circle.\n",
    "    \n",
    "from PIL import Image, ImageDraw\n",
    "from IPython.display import display, Image as DImage\n",
    "from numpy import array\n",
    "import os, scipy.fftpack, numpy, glob, shutil, numpy\n",
    "#Creating folders\n",
    "#The folder where the user places the samples to be compared to the incoming image.\n",
    "#Acceptable formats: .jpg, .jpeg, .png, .gif, .bmp\n",
    "if not os.path.exists(os.getcwd()+'/examples/'):\n",
    "    os.mkdir('examples')\n",
    "examples_path = os.getcwd()+'/examples/'\n",
    "#The folder in which the binary images will be generated.\n",
    "if not os.path.exists(os.getcwd()+'/binary/'):\n",
    "    os.mkdir('binary')\n",
    "binary_path = os.getcwd()+'/binary/'\n",
    "#The folder in which the found symbols will be generated.\n",
    "if not os.path.exists(os.getcwd()+'/found/'):\n",
    "    os.mkdir('found')\n",
    "found_path = os.getcwd()+'/found/'\n",
    "#The subfolders in which the found symbols will be generated.\n",
    "for d, dirs, files in os.walk(examples_path):\n",
    "        for f in dirs:\n",
    "            if not os.path.exists(binary_path+f):\n",
    "                os.mkdir(binary_path+f)\n",
    "\n",
    "\n",
    "#Global variables.\n",
    "names   = []\n",
    "values  = []\n",
    "results = []\n",
    "ahashes = []\n",
    "phashes = []\n",
    "dhashes = []\n",
    "nccors  = []\n",
    "\n",
    "RESULT = ''"
   ]
  },
  {
   "cell_type": "code",
   "execution_count": 3,
   "metadata": {
    "collapsed": false
   },
   "outputs": [],
   "source": [
    "def clean_folders():\n",
    "    #Cleaning folders\n",
    "    #The folder in which the binary images will be generated.\n",
    "    if os.path.exists(os.getcwd()+'/binary/'):   \n",
    "        shutil.rmtree(os.getcwd()+'/binary/')\n",
    "    #The folder in which the found symbols will be generated.\n",
    "    if os.path.exists(os.getcwd()+'/found/'):\n",
    "        shutil.rmtree(os.getcwd()+'/found/')"
   ]
  },
  {
   "cell_type": "code",
   "execution_count": 4,
   "metadata": {
    "collapsed": false
   },
   "outputs": [],
   "source": [
    "def address_helper(input_img_addr, mode):\n",
    "    if mode == 'png': #after preprocessing the program only works with .png format in order to avoid loss of quality\n",
    "        input_img_addr = input_img_addr.replace('.jpg','.png')\n",
    "        input_img_addr = input_img_addr.replace('.jpeg','.png')\n",
    "        input_img_addr = input_img_addr.replace('.gif','.png')\n",
    "        input_img_addr = input_img_addr.replace('.bmp','.bmp')\n",
    "    if mode == 'bin': #change the address of the folder to /binary\n",
    "        input_img_addr = input_img_addr.replace('/examples/','/binary/')\n",
    "    if mode == 'cln': #leave only the name of file (letter)\n",
    "        if rotate_mode == 1:\n",
    "            for i in range(1, abs(360 / rotate_degr)):\n",
    "                input_img_addr = input_img_addr.replace(str(360 / abs(360 / rotate_degr)*(i))+'.','.')\n",
    "        input_img_addr = input_img_addr.replace('.jpg','')\n",
    "        input_img_addr = input_img_addr.replace('.jpeg','')\n",
    "        input_img_addr = input_img_addr.replace('.gif','')\n",
    "        input_img_addr = input_img_addr.replace('.png','')\n",
    "        input_img_addr = input_img_addr.replace('.bmp','')\n",
    "        input_img_addr = input_img_addr.replace(binary_path,'')\n",
    "        input_img_addr = input_img_addr.replace(found_path,'')\n",
    "    \n",
    "    return input_img_addr"
   ]
  },
  {
   "cell_type": "code",
   "execution_count": 5,
   "metadata": {
    "collapsed": false
   },
   "outputs": [],
   "source": [
    "def binarization(input_img_addr):\n",
    "    input_image  = Image.open(input_img_addr).convert('RGB') #convert for .gif opening fix\n",
    "    draw = ImageDraw.Draw(input_image)\n",
    "     \n",
    "    for i in range(input_image.size[0]):\n",
    "        for j in range(input_image.size[1]):\n",
    "            r, g, b = input_image.getpixel((i,j))\n",
    "            if (r + g + b > bin_ratio): \n",
    "                r, g, b = 255, 255, 255 #draw pixel black\n",
    "            else:\n",
    "                r, g, b = 0, 0, 0       #draw pixel white\n",
    "            draw.point((i, j), (r, g, b))\n",
    "    del draw\n",
    "    #save in /binary folder like name.png\n",
    "    input_img_addr = address_helper(input_img_addr,'png')\n",
    "    input_image.save(address_helper(input_img_addr,'bin'), \"PNG\")"
   ]
  },
  {
   "cell_type": "code",
   "execution_count": 6,
   "metadata": {
    "collapsed": false
   },
   "outputs": [],
   "source": [
    "def save_rotate(input_img_addr, rotate_degr):  \n",
    "    input_img_addr = address_helper(input_img_addr,'png')\n",
    "    #first step out of cycle, becouse of don't want disposable checking in cycle\n",
    "    (Image.open(input_img_addr).rotate(rotate_degr) #rotate first step\n",
    "     .save(input_img_addr.replace('.',str(rotate_degr)+'.'), \"PNG\"))  #save first step\n",
    "    input_img_addr = input_img_addr.replace('.',str(rotate_degr)+'.') #first step, str(...*(i-1)) returns '0'\n",
    "    \n",
    "    for i in range(2, 360 / rotate_degr):\n",
    "        input_image = Image.open(input_img_addr).rotate(rotate_degr) \n",
    "        input_img_addr = input_img_addr.replace(str((rotate_degr)*(i-1))+'.',\n",
    "                                                str((rotate_degr)*i)+'.')\n",
    "        input_image.save(input_img_addr, \"PNG\")"
   ]
  },
  {
   "cell_type": "code",
   "execution_count": 7,
   "metadata": {
    "collapsed": true
   },
   "outputs": [],
   "source": [
    "def resize(input_img_addr, basewidth):#preprocessing for hashes\n",
    "    input_image = Image.open(input_img_addr)\n",
    "    height = int((float(input_image.size[1]) * \n",
    "                 float(basewidth / float(input_image.size[0])))) #calculate the proportional height\n",
    "    if resize_mode == 1:\n",
    "        input_image = input_image.resize((basewidth,height), Image.ANTIALIAS)\n",
    "    if resize_mode == 2:\n",
    "        input_image = input_image.resize((basewidth,height), Image.BICUBIC)\n",
    "    else:\n",
    "        input_image = input_image.resize((basewidth,height))\n",
    "    input_image.save(address_helper(input_img_addr,'res'), \"PNG\")"
   ]
  },
  {
   "cell_type": "code",
   "execution_count": 8,
   "metadata": {
    "collapsed": true
   },
   "outputs": [],
   "source": [
    "def separation(input_img_addr, threshold):\n",
    "    x0 = 0\n",
    "    y0 = 0\n",
    "    x1 = 0\n",
    "    y0 = 0\n",
    "\n",
    "    symbolsx = []\n",
    "    symbolsy = []\n",
    "\n",
    "    black    = False\n",
    "    symbol = False\n",
    "    \n",
    "    input_image = Image.open(input_img_addr).convert('L')\n",
    "    \n",
    "    for x in xrange(input_image.size[0]):\n",
    "        for y in xrange(input_image.size[1]):\n",
    "            pix = input_image.getpixel((x,y))\n",
    "            if pix < 255:\n",
    "                black += 1\n",
    "        if symbol == False and black > threshold: \n",
    "            x0 = x\n",
    "            symbol = True\n",
    "        if symbol == True and black <= threshold:\n",
    "            x1 = x\n",
    "            symbol = False\n",
    "            symbolsx.append((x0, x1))\n",
    "        black = 0\n",
    "    \n",
    "    black    = False\n",
    "    symbol = False\n",
    "        \n",
    "    for y in xrange(input_image.size[1]):\n",
    "        for x in xrange(input_image.size[0]):\n",
    "            pix = input_image.getpixel((x,y))\n",
    "            if pix < 255:\n",
    "                black += 1\n",
    "        if symbol == False and black > threshold:\n",
    "            y0 = y\n",
    "            symbol = True\n",
    "        if symbol == True and black <= threshold:\n",
    "            y1 = y\n",
    "            symbol = False\n",
    "            symbolsy.append((y0, y1))\n",
    "        black = 0\n",
    "    \n",
    "    count = 0\n",
    "    black = 0\n",
    "    \n",
    "    if symbolsx == []:\n",
    "        symbolsx = [(0,input_image.size[0])] \n",
    "    if symbolsy == []:\n",
    "        symbolsy = [(0,input_image.size[1])] \n",
    "        \n",
    "    for y in symbolsy:\n",
    "        for x in symbolsx:\n",
    "            if count < 1000:\n",
    "                temp = '{:03d}'.format(count)                  \n",
    "                input_image.crop((x[0],y[0],x[1],y[1])).save('found/'+str(temp)+'.png', \"PNG\")\n",
    "            count += 1"
   ]
  },
  {
   "cell_type": "code",
   "execution_count": 9,
   "metadata": {
    "collapsed": true
   },
   "outputs": [],
   "source": [
    "def delete_trash(threshold):\n",
    "    images = os.listdir(found_path)\n",
    "    for i in range(len(images)):\n",
    "        try:\n",
    "            black = 0\n",
    "            input_image = Image.open(found_path+images[i])\n",
    "            \n",
    "            for x in xrange(input_image.size[0]):\n",
    "                for y in xrange(input_image.size[1]):\n",
    "                    pix = input_image.getpixel((x,y))\n",
    "                    if pix != 255:\n",
    "                        black += 1\n",
    "            if black < threshold:\n",
    "                os.remove(found_path+images[i])\n",
    "        except IOError:\n",
    "            pass        "
   ]
  },
  {
   "cell_type": "code",
   "execution_count": 10,
   "metadata": {
    "collapsed": true
   },
   "outputs": [],
   "source": [
    "def pix_compare(input_img_addr, example_addr):\n",
    "    input_image = Image.open(input_img_addr)\n",
    "    input_pixels = input_image.load()\n",
    "    example = Image.open(example_addr).resize((input_image.size[0],input_image.size[1]), Image.ANTIALIAS)\n",
    "    true = 0 #number of equal pixels\n",
    "    \n",
    "    for i in range(0, input_image.size[0]):\n",
    "        for j in range(0, input_image.size[1]):\n",
    "            input_pixel = input_image.getpixel((i, j))\n",
    "            example_pixel = example.getpixel((i, j))\n",
    "            if input_pixel == example_pixel:                        \n",
    "                if not (black_mode == 1 and input_pixels[i, j][0] == 0):\n",
    "                    true+=1  \n",
    "    return true"
   ]
  },
  {
   "cell_type": "code",
   "execution_count": 11,
   "metadata": {
    "collapsed": true
   },
   "outputs": [],
   "source": [
    "def ncc(input_img_addr, example_addr):\n",
    "    #based on syntacticbayleaves.com/2008/12/03/determining-image-similarity/  \n",
    "    input_image = Image.open(input_img_addr)\n",
    "    example = Image.open(example_addr).resize((input_image.size[0],input_image.size[1]), Image.ANTIALIAS)\n",
    "    \n",
    "    images = [input_image, example]\n",
    "    vectors = []\n",
    "    norms = []\n",
    "    for image in images:\n",
    "        vector = []\n",
    "        for pixel in image.getdata():\n",
    "            vector.append(numpy.mean(pixel))\n",
    "        vectors.append(vector)\n",
    "        norms.append(numpy.linalg.norm(vector, 2))\n",
    "    a, b = vectors\n",
    "    a_norm, b_norm = norms\n",
    "    res = numpy.dot(a / a_norm, b / b_norm)\n",
    "    return res"
   ]
  },
  {
   "cell_type": "code",
   "execution_count": 12,
   "metadata": {
    "collapsed": true
   },
   "outputs": [],
   "source": [
    "def ham_dist(input_img_hash, example_hash):\n",
    "    distance = 0\n",
    "    #compare character by character\n",
    "    for input_char, example_char in zip(input_img_hash, example_hash):\n",
    "        if input_char != example_char:\n",
    "            distance += 1\n",
    "    return distance"
   ]
  },
  {
   "cell_type": "code",
   "execution_count": 13,
   "metadata": {
    "collapsed": false
   },
   "outputs": [],
   "source": [
    "def ahash(input_img_addr):\n",
    "    #from ImageHash lib\n",
    "    image = Image.open(input_img_addr).convert('L').resize((basewidth, basewidth))\n",
    "    pixels = numpy.array(image.getdata()).reshape((basewidth, basewidth))\n",
    "    avg = pixels.mean()\n",
    "    diff = ''\n",
    "    tmp = pixels > avg\n",
    "    for i in range(0, basewidth-1):\n",
    "        for j in range(0, basewidth-1):\n",
    "            if tmp[i,j] == True:\n",
    "                diff+='1'\n",
    "            else:\n",
    "                diff+='0'    \n",
    "    return diff"
   ]
  },
  {
   "cell_type": "code",
   "execution_count": 14,
   "metadata": {
    "collapsed": false
   },
   "outputs": [],
   "source": [
    "def phash(input_img_addr):\n",
    "    #from ImageHash lib\n",
    "    image = Image.open(input_img_addr).convert('L').resize((basewidth, basewidth))\n",
    "    pixels = numpy.array(image.getdata(), dtype = numpy.float).reshape((basewidth, basewidth))\n",
    "    dct = scipy.fftpack.dct(scipy.fftpack.dct(pixels, axis=0), axis=1)\n",
    "    dct_low_freq = dct[:basewidth, :basewidth]\n",
    "    med = numpy.median(dct_low_freq)\n",
    "    diff = ''\n",
    "    tmp = dct_low_freq > med\n",
    "    for i in range(0, basewidth-1):\n",
    "        for j in range(0, basewidth-1):\n",
    "            if tmp[i,j] == True:\n",
    "                diff+='1'\n",
    "            else:\n",
    "                diff+='0'    \n",
    "    return diff"
   ]
  },
  {
   "cell_type": "code",
   "execution_count": 15,
   "metadata": {
    "collapsed": true
   },
   "outputs": [],
   "source": [
    "def dhash(input_img_addr):\n",
    "    #from ImageHash lib\n",
    "    # resize(w, h), but numpy.array((h, w))\n",
    "    image = Image.open(input_img_addr).convert('L').resize((basewidth, basewidth))\n",
    "    pixels = numpy.array(image.getdata(), dtype=numpy.float).reshape((basewidth, basewidth))\n",
    "    # compute differences between rows\n",
    "    diff = ''\n",
    "    tmp = pixels[:, 1:] > pixels[:, :-1]\n",
    "    for i in range(0, basewidth-1):\n",
    "        for j in range(0, basewidth-1):\n",
    "            if tmp[i,j] == True:\n",
    "                diff+='1'\n",
    "            else:\n",
    "                diff+='0'    \n",
    "    return diff"
   ]
  },
  {
   "cell_type": "code",
   "execution_count": 16,
   "metadata": {
    "collapsed": false
   },
   "outputs": [],
   "source": [
    "def compare_1to1(input_img_addr, example_addr):\n",
    "    #example_addr = binary_path + address_helper(example_addr,'png')\n",
    "    input_img_addr = found_path + input_img_addr\n",
    "    naive_cut(input_img_addr)\n",
    "    naive_cut(example_addr)\n",
    "    \n",
    "    #compare per-pixel\n",
    "    if pix_mode == 1:      \n",
    "        values.append(pix_compare(input_img_addr, example_addr))\n",
    "        \n",
    "    #normalized cross correlation\n",
    "    if ncc_mode == 1:\n",
    "        nccors.append(ncc(input_img_addr, example_addr))\n",
    "        \n",
    "    #compare ahashes\n",
    "    if ahash_mode == 1:\n",
    "        ahashes.append(ham_dist(ahash(input_img_addr), ahash(example_addr)))\n",
    "    #compare phashes\n",
    "    if phash_mode == 1:\n",
    "        phashes.append(ham_dist(phash(input_img_addr), phash(example_addr)))\n",
    "    #compare dhashes\n",
    "    if dhash_mode == 1:\n",
    "        dhashes.append(ham_dist(dhash(input_img_addr), dhash(example_addr)))\n",
    "\n",
    "    \n",
    "    names.append(address_helper(example_addr, 'cln'))   "
   ]
  },
  {
   "cell_type": "code",
   "execution_count": 17,
   "metadata": {
    "collapsed": false
   },
   "outputs": [],
   "source": [
    "def compare_1toN(input_img_addr):\n",
    "    #delete previous values\n",
    "    global names, values, ahashes, phashes, dhashes, nccors\n",
    "    names, values, ahashes, phashes, dhashes, nccors = [],[],[],[],[],[]\n",
    "    \n",
    "    examples = []\n",
    "    for d, dirs, files in os.walk(binary_path):\n",
    "        for f in files:\n",
    "            path = os.path.join(d,f)\n",
    "            examples.append(path)\n",
    "          \n",
    "    for i in range(len(examples)):\n",
    "        try: #check if file is image\n",
    "            compare_1to1(input_img_addr,examples[i])\n",
    "        except IOError:\n",
    "            pass"
   ]
  },
  {
   "cell_type": "code",
   "execution_count": 18,
   "metadata": {
    "collapsed": false
   },
   "outputs": [],
   "source": [
    "def result_1toN():#rewrite for top-3 statistics\n",
    "    global results #local results\n",
    "    global RESULT  #global result\n",
    "    results = [] #clean prev result\n",
    "    \n",
    "    #collecting all the local results\n",
    "    if pix_mode == 1 and values != []:\n",
    "        results.append(names[values.index(max(values))])\n",
    "    if ahash_mode == 1 and ahashes != []:\n",
    "        results.append(names[ahashes.index(min(ahashes))])\n",
    "    if phash_mode == 1 and phashes != []:\n",
    "        results.append(names[phashes.index(min(phashes))])\n",
    "    if dhash_mode == 1 and dhashes != []:\n",
    "        results.append(names[dhashes.index(min(dhashes))])\n",
    "    if ncc_mode == 1 and nccors != []:\n",
    "        results.append(names[nccors.index(max(nccors))])\n",
    "    \n",
    "    if results == []:\n",
    "        results = ['']\n",
    "        \n",
    "    temp = max(set(results), key=results.count)\n",
    "    display(DImage(filename=binary_path+temp+'.png'))\n",
    "    for d, dirs, files in os.walk(examples_path):\n",
    "        for f in dirs:\n",
    "            temp = temp.replace(f,'')\n",
    "            temp = temp.replace('/','')  \n",
    "    RESULT += temp #add the most likely local result to the global"
   ]
  },
  {
   "cell_type": "code",
   "execution_count": 19,
   "metadata": {
    "collapsed": true
   },
   "outputs": [],
   "source": [
    "def print_1toN(): #developer function, NEWER EVER USE TO THE FULL DATASET\n",
    "    #if pix_mode == 1:\n",
    "    #    print('Pixel mode:')\n",
    "    #    for i in range(len(names)):\n",
    "    #        print(names[i],values[i])\n",
    "    #if ahash_mode == 1:\n",
    "    #    print('AHash mode:')\n",
    "    #    for i in range(len(names)):\n",
    "    #        print(names[i],ahashes[i])\n",
    "    #if phash_mode == 1:\n",
    "    #    print('PHash mode:')\n",
    "    #    for i in range(len(names)):\n",
    "    #        print(names[i],phashes[i])\n",
    "    #if dhash_mode == 1:\n",
    "    #    print('DHash mode:')\n",
    "    #    for i in range(len(names)):\n",
    "    #        print(names[i],dhashes[i])\n",
    "    #if ncc_mode == 1:\n",
    "    #    print('NCC mode:')\n",
    "    #    for i in range(len(names)):\n",
    "    #        print(names[i],nccors[i])\n",
    "    print('Results:')\n",
    "    if pix_mode == 1 and values != []:\n",
    "        print('Pixel mode:'+str(names[values.index(max(values))]))\n",
    "    if ahash_mode == 1 and ahashes != []:\n",
    "        print('AHash mode:'+str(names[ahashes.index(min(ahashes))]))\n",
    "    if phash_mode == 1 and phashes != []:\n",
    "        print('PHash mode:'+str(names[phashes.index(min(phashes))]))\n",
    "    if dhash_mode == 1 and dhashes != []:\n",
    "        print('DHash mode:'+str(names[dhashes.index(min(dhashes))]))\n",
    "    if ncc_mode == 1 and nccors != []:\n",
    "        print('NCC mode:'+str(names[nccors.index(max(nccors))]))\n",
    "    print('Result:'+str(RESULT))"
   ]
  },
  {
   "cell_type": "code",
   "execution_count": 20,
   "metadata": {
    "collapsed": false
   },
   "outputs": [],
   "source": [
    "def naive_cut(img_address):\n",
    "    img = Image.open(img_address).convert('L')\n",
    "    arr = array(img)\n",
    "    norm_arr = []\n",
    "    find = False\n",
    "\n",
    "    for c in xrange(4):\n",
    "        black = 0\n",
    "        find = False\n",
    "        img = Image.fromarray(arr)\n",
    "        for x in xrange(len(arr[:,1])):\n",
    "            if find:\n",
    "                break\n",
    "            for y in xrange(len(arr[1,:])):\n",
    "                if arr[x,y] == 0:\n",
    "                    black+=1\n",
    "            if black >= 1:\n",
    "                arr = numpy.delete(arr, numpy.s_[0:x], axis=0)\n",
    "                find = True\n",
    "                break\n",
    "        arr = numpy.rot90(arr)\n",
    "        c+=1\n",
    "        \n",
    "    \n",
    "    img = Image.fromarray(arr)\n",
    "    img.save(img_address,\"PNG\")"
   ]
  },
  {
   "cell_type": "code",
   "execution_count": 21,
   "metadata": {
    "collapsed": false,
    "scrolled": false
   },
   "outputs": [
    {
     "data": {
      "image/png": "[encoded data removed]",
      "text/plain": [
       "<IPython.core.display.Image object>"
      ]
     },
     "metadata": {},
     "output_type": "display_data"
    },
    {
     "name": "stdout",
     "output_type": "stream",
     "text": [
      "Processing:\n"
     ]
    },
    {
     "data": {
      "image/png": "[encoded data removed]",
      "text/plain": [
       "<IPython.core.display.Image object>"
      ]
     },
     "metadata": {},
     "output_type": "display_data"
    },
    {
     "data": {
      "image/png": "[encoded data removed]",
      "text/plain": [
       "<IPython.core.display.Image object>"
      ]
     },
     "metadata": {},
     "output_type": "display_data"
    },
    {
     "name": "stdout",
     "output_type": "stream",
     "text": [
      "Results:\n",
      "AHash mode:HVD/d\n",
      "PHash mode:HVD/a\n",
      "DHash mode:HVD/d\n",
      "NCC mode:HVD/a\n",
      "Result:a\n",
      "Processed: 1/4\n",
      "Processing:\n"
     ]
    },
    {
     "data": {
      "image/png": "[encoded data removed]",
      "text/plain": [
       "<IPython.core.display.Image object>"
      ]
     },
     "metadata": {},
     "output_type": "display_data"
    },
    {
     "data": {
      "image/png": "[encoded data removed]",
      "text/plain": [
       "<IPython.core.display.Image object>"
      ]
     },
     "metadata": {},
     "output_type": "display_data"
    },
    {
     "name": "stdout",
     "output_type": "stream",
     "text": [
      "Results:\n",
      "AHash mode:1/n\n",
      "PHash mode:1/n\n",
      "DHash mode:1/n\n",
      "NCC mode:1/n\n",
      "Result:an\n",
      "Processed: 2/4\n",
      "Processing:\n"
     ]
    },
    {
     "data": {
      "image/png": "[encoded data removed]",
      "text/plain": [
       "<IPython.core.display.Image object>"
      ]
     },
     "metadata": {},
     "output_type": "display_data"
    },
    {
     "data": {
      "image/png": "[encoded data removed]",
      "text/plain": [
       "<IPython.core.display.Image object>"
      ]
     },
     "metadata": {},
     "output_type": "display_data"
    },
    {
     "name": "stdout",
     "output_type": "stream",
     "text": [
      "Results:\n",
      "AHash mode:HVD/d\n",
      "PHash mode:HVD/d\n",
      "DHash mode:HVD/d\n",
      "NCC mode:HVD/d\n",
      "Result:and\n",
      "Processed: 3/4\n",
      "Processing:\n"
     ]
    },
    {
     "data": {
      "image/png": "[encoded data removed]",
      "text/plain": [
       "<IPython.core.display.Image object>"
      ]
     },
     "metadata": {},
     "output_type": "display_data"
    },
    {
     "data": {
      "image/png": "[encoded data removed]",
      "text/plain": [
       "<IPython.core.display.Image object>"
      ]
     },
     "metadata": {},
     "output_type": "display_data"
    },
    {
     "name": "stdout",
     "output_type": "stream",
     "text": [
      "Results:\n",
      "AHash mode:1/y\n",
      "PHash mode:1/y\n",
      "DHash mode:1/y\n",
      "NCC mode:1/y\n",
      "Result:andy\n",
      "Processed: 4/4\n",
      "Message: andy\n"
     ]
    }
   ],
   "source": [
    "def main():\n",
    "    global RESULT, input_address\n",
    "    display(DImage(filename=input_address))\n",
    "    binarization(input_address)\n",
    "    input_address = address_helper(input_address,'png')\n",
    "    \n",
    "    examples = []\n",
    "    for d, dirs, files in os.walk(examples_path):\n",
    "        for f in files:\n",
    "            path = os.path.join(d,f)\n",
    "            examples.append(path)\n",
    "             \n",
    "    for i in range(len(examples)):\n",
    "        try: #check if file is image\n",
    "            binarization(examples[i])\n",
    "            if rotate_mode == 1:  \n",
    "                binaries = os.listdir(examples_path)\n",
    "                #rotate to the approximate degree\n",
    "                save_rotate(binary_path+binaries[i],360 / abs(360 / rotate_degr))\n",
    "        except IOError:\n",
    "            pass\n",
    "        \n",
    "        \n",
    "    #preprocessing(img).save(input_address)\n",
    "    separation(input_address, threshold)\n",
    "    delete_trash(t_threshold)\n",
    "    symbols = os.listdir(found_path)\n",
    "    count = 0\n",
    "    for i in sorted(symbols):\n",
    "        try: #check if files are images\n",
    "            count+=1\n",
    "            print('Processing:')\n",
    "            display(DImage(filename=found_path+i))\n",
    "            compare_1toN(i)\n",
    "            result_1toN()\n",
    "            print_1toN()\n",
    "            print('Processed: '+str(count)+'/'+str(len(symbols)))\n",
    "        except IOError:\n",
    "            pass\n",
    "    print('Message: '+RESULT)\n",
    "    RESULT = ''\n",
    "    clean_folders()\n",
    "main()"
   ]
  },
  {
   "cell_type": "code",
   "execution_count": null,
   "metadata": {
    "collapsed": true
   },
   "outputs": [],
   "source": []
  },
  {
   "cell_type": "code",
   "execution_count": null,
   "metadata": {
    "collapsed": true
   },
   "outputs": [],
   "source": []
  }
 ],
 "metadata": {
  "kernelspec": {
   "display_name": "Python 2",
   "language": "python",
   "name": "python2"
  },
  "language_info": {
   "codemirror_mode": {
    "name": "ipython",
    "version": 2
   },
   "file_extension": ".py",
   "mimetype": "text/x-python",
   "name": "python",
   "nbconvert_exporter": "python",
   "pygments_lexer": "ipython2",
   "version": "2.7.12"
  }
 },
 "nbformat": 4,
 "nbformat_minor": 0
}

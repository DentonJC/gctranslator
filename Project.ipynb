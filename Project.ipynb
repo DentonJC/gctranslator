{
 "cells": [
  {
   "cell_type": "raw",
   "metadata": {},
   "source": [
    "Theory:          \n",
    "based on syntacticbayleaves.com/2008/12/03/determining-image-similarity/\n",
    "\n",
    "distance = 20 empty_threshold = 20\n",
    "27 r,w\n",
    "16 H\n",
    "22 Z\n",
    "13 Y,O\n",
    "\n",
    "distance = 65 empty_threshold = 65\n",
    "100%"
   ]
  },
  {
   "cell_type": "raw",
   "metadata": {},
   "source": []
  },
  {
   "cell_type": "code",
   "execution_count": 1,
   "metadata": {
    "collapsed": false
   },
   "outputs": [],
   "source": [
    "import os\n",
    "import shutil\n",
    "from IPython.display import display, Image as DImage\n",
    "\n",
    "import numpy\n",
    "from numpy import array\n",
    "from PIL import Image, ImageDraw\n",
    "\n",
    "\n",
    "ncc_mode = True\n",
    "\n",
    "width = 10\n",
    "string_mode = True\n",
    "top = 3\n",
    "empty_threshold = 65\n",
    "threshold = 3\n",
    "delete_threshold = 200\n",
    "bin_ratio = 600\n",
    "\n",
    "binary_path = os.getcwd() + '/binary/'\n",
    "found_path = os.getcwd() + '/found/'\n",
    "cutted_path = os.getcwd() + '/cutted/'\n",
    "\n",
    "bin_examples = []\n",
    "names = []\n",
    "nccors = []\n",
    "results = []\n",
    "\n",
    "RESULT = ''"
   ]
  },
  {
   "cell_type": "code",
   "execution_count": 2,
   "metadata": {
    "collapsed": false
   },
   "outputs": [],
   "source": [
    "def UI():\n",
    "    global input_address, examples_path\n",
    "    \n",
    "    input_address = input('Input image address (default is test.png) :')\n",
    "    imput_address = '\\''+ input_address + '\\''\n",
    "    if input_address == '': input_address = 'test.png'\n",
    "\n",
    "    examples_path = input('Input path to folder with samples (default is /examples/):')\n",
    "    examples_path = '\\''+ examples_path + '\\''\n",
    "    examples_path = os.getcwd() + '/examples/'\n",
    "    \n",
    "    erase_flag = input('Clear examples after the previous preprocessing? [y/N]:')\n",
    "    #erase_flag = '\\''+ erase_flag + '\\''\n",
    "    return erase_flag"
   ]
  },
  {
   "cell_type": "code",
   "execution_count": 3,
   "metadata": {
    "collapsed": true
   },
   "outputs": [],
   "source": [
    "def create_folders():\n",
    "    global examples_path, binary_path, found_path, cutted_path\n",
    "    if not os.path.exists(examples_path):\n",
    "        os.mkdir('examples')\n",
    "        examples_path = os.getcwd() + '/examples/'\n",
    "\n",
    "    if not os.path.exists(binary_path):\n",
    "        os.mkdir('binary')\n",
    "        binary_path = os.getcwd() + '/binary/'\n",
    "\n",
    "    if not os.path.exists(found_path):\n",
    "        os.mkdir('found')\n",
    "        found_path = os.getcwd() + '/found/'\n",
    "    \n",
    "    if not os.path.exists(cutted_path):\n",
    "        os.mkdir('cutted')\n",
    "        cutted_path = os.getcwd() + '/cutted/'\n",
    "\n",
    "    for d, dirs, files in os.walk(examples_path):\n",
    "            for f in dirs:\n",
    "                if not os.path.exists(binary_path + f):\n",
    "                    os.mkdir(binary_path+ f)\n",
    "                    os.mkdir(cutted_path+ f)"
   ]
  },
  {
   "cell_type": "code",
   "execution_count": 4,
   "metadata": {
    "collapsed": false
   },
   "outputs": [],
   "source": [
    "def clean_folders():              \n",
    "    if os.path.exists(binary_path):   \n",
    "        shutil.rmtree(binary_path)\n",
    "    \n",
    "    if os.path.exists(found_path):\n",
    "        shutil.rmtree(found_path)\n",
    "        \n",
    "    if os.path.exists(cutted_path):\n",
    "        shutil.rmtree(cutted_path)"
   ]
  },
  {
   "cell_type": "code",
   "execution_count": 5,
   "metadata": {
    "collapsed": false
   },
   "outputs": [],
   "source": [
    "def address_helper(addr, mode):\n",
    "    if mode == 'png': #after preprocessing the program only works with .png\n",
    "        addr = addr[:-4]+'.png' \n",
    "        \n",
    "    if mode == 'bin': #change the address of the folder to /binary\n",
    "        addr = addr.replace('/examples/', '/binary/')\n",
    "        \n",
    "    if mode == 'cln': #leave only the name of file (letter)\n",
    "        addr = addr[:-4]\n",
    "        addr = addr.replace(binary_path, '')\n",
    "        addr = addr.replace(found_path, '')\n",
    "        addr = addr.replace(cutted_path, '')\n",
    "    \n",
    "    return addr"
   ]
  },
  {
   "cell_type": "code",
   "execution_count": 6,
   "metadata": {
    "collapsed": false
   },
   "outputs": [],
   "source": [
    "def binarization(input_img_addr):\n",
    "    input_image  = Image.open(input_img_addr).convert('RGBA') #convert for .gif opening fix\n",
    "    draw = ImageDraw.Draw(input_image)\n",
    "     \n",
    "    for i in range(input_image.size[0]):\n",
    "        for j in range(input_image.size[1]):\n",
    "            r, g, b, a = input_image.getpixel((i, j))\n",
    "            if a == 0:\n",
    "                r, g, b = 0, 0, 0\n",
    "            if (r + g + b > bin_ratio): \n",
    "                r, g, b = 255, 255, 255\n",
    "            else:\n",
    "                r, g, b = 0, 0, 0 \n",
    "            draw.point((i, j), (r, g, b))\n",
    "    del draw\n",
    "    \n",
    "    input_img_addr = address_helper(input_img_addr, 'png')\n",
    "    input_image.save(address_helper(input_img_addr, 'bin'), \"PNG\")"
   ]
  },
  {
   "cell_type": "code",
   "execution_count": 7,
   "metadata": {
    "collapsed": false
   },
   "outputs": [],
   "source": [
    "def separation(input_img_addr, threshold, empty_threshold):\n",
    "    x0 = 0\n",
    "    y0 = 0\n",
    "    x1 = 0\n",
    "    y1 = 0\n",
    "\n",
    "    symbolsx = []\n",
    "    symbolsy = []\n",
    "\n",
    "    black = 0\n",
    "    symbol = False\n",
    "    empty = 0\n",
    "    \n",
    "    input_image = Image.open(input_img_addr).convert('L')\n",
    "    \n",
    "    for x in range(input_image.size[0]):\n",
    "        for y in range(input_image.size[1]):\n",
    "            pix = input_image.getpixel((x, y))\n",
    "            if pix < 255:\n",
    "                black += 1\n",
    "        if symbol == True and black < threshold:\n",
    "            empty += 1\n",
    "        if symbol == False and black > threshold: \n",
    "            x0 = x\n",
    "            symbol = True\n",
    "        if symbol == True and black <= threshold and empty >= empty_threshold:\n",
    "            x1 = x\n",
    "            symbol = False\n",
    "            symbolsx.append((x0, x1))\n",
    "            empty = 0\n",
    "        black = 0\n",
    "    \n",
    "    \n",
    "    black = 0\n",
    "    symbol = False\n",
    "    \n",
    "    if string_mode:\n",
    "        for y in range(input_image.size[1]):\n",
    "            for x in range(input_image.size[0]):\n",
    "                pix = input_image.getpixel((x, y))\n",
    "                if pix < 255:\n",
    "                    black += 1\n",
    "            if symbol == True and black < threshold:\n",
    "                empty += 1\n",
    "            if symbol == False and black > threshold:\n",
    "                y0 = y\n",
    "                symbol = True\n",
    "            if symbol == True and black <= threshold and empty >= empty_threshold:\n",
    "                y1 = y\n",
    "                symbol = False\n",
    "                symbolsy.append((y0, y1))\n",
    "                empty = 0\n",
    "            black = 0\n",
    "    \n",
    "    count = 0\n",
    "    black = 0\n",
    "    \n",
    "    if symbolsx == []:\n",
    "        symbolsx = [(0, input_image.size[0])] \n",
    "    if symbolsy == []:\n",
    "        symbolsy = [(0, input_image.size[1])] \n",
    "        \n",
    "    for y in symbolsy:\n",
    "        for x in symbolsx:\n",
    "            if count < 1000:\n",
    "                temp = '{:03d}'.format(count)\n",
    "                addr = 'found/' + str(temp) + '.png'\n",
    "                input_image.crop((x[0], y[0], x[1], y[1])).save(addr, \"PNG\")\n",
    "            count += 1"
   ]
  },
  {
   "cell_type": "code",
   "execution_count": 8,
   "metadata": {
    "collapsed": true
   },
   "outputs": [],
   "source": [
    "def delete_trash(threshold):\n",
    "    images = os.listdir(found_path)\n",
    "    for i in range(len(images)):\n",
    "        try:\n",
    "            black = 0\n",
    "            input_image = Image.open(found_path + images[i])\n",
    "            \n",
    "            for x in range(input_image.size[0]):\n",
    "                for y in range(input_image.size[1]):\n",
    "                    pix = input_image.getpixel((x, y))\n",
    "                    if pix != 255:\n",
    "                        black += 1\n",
    "            if black < threshold:\n",
    "                os.remove(found_path + images[i])\n",
    "        except IOError:\n",
    "            pass        "
   ]
  },
  {
   "cell_type": "code",
   "execution_count": 9,
   "metadata": {
    "collapsed": true
   },
   "outputs": [],
   "source": [
    "def ncc(input_img_addr, example_addr): \n",
    "    global width\n",
    "    input_image = Image.open(input_img_addr)\n",
    "    wpercent = (width / float(input_image.size[0]))\n",
    "    height = int((float(input_image.size[1]) * float(wpercent)))\n",
    "    input_image = input_image.resize((width,height),Image.ANTIALIAS)\n",
    "    example = Image.open(example_addr).resize((input_image.size[0],\n",
    "                                               input_image.size[1]), \n",
    "                                              Image.ANTIALIAS)\n",
    "    \n",
    "    images = [input_image, example]\n",
    "    vectors = []\n",
    "    norms = []\n",
    "    for image in images:\n",
    "        vector = []\n",
    "        for pixel in image.getdata():\n",
    "            vector.append(numpy.mean(pixel))\n",
    "        vectors.append(vector)\n",
    "        norms.append(numpy.linalg.norm(vector, 2))\n",
    "    a, b = vectors\n",
    "    a_norm, b_norm = norms\n",
    "    res = numpy.dot(a / a_norm, b / b_norm)\n",
    "    return res"
   ]
  },
  {
   "cell_type": "code",
   "execution_count": 10,
   "metadata": {
    "collapsed": false
   },
   "outputs": [],
   "source": [
    "def compare_1to1(input_img_addr, example_addr):\n",
    "    input_img_addr = found_path + input_img_addr\n",
    "    naive_cut(input_img_addr)\n",
    "\n",
    "    if ncc_mode:\n",
    "        nccors.append(ncc(input_img_addr, example_addr))\n",
    "    \n",
    "    names.append(address_helper(example_addr, 'cln')) "
   ]
  },
  {
   "cell_type": "code",
   "execution_count": 11,
   "metadata": {
    "collapsed": false
   },
   "outputs": [],
   "source": [
    "def compare_1toN(input_img_addr):\n",
    "    global names, nccors, bin_examples\n",
    "    names, nccors = [], []\n",
    "    \n",
    "    for i in range(len(bin_examples)):\n",
    "        try:\n",
    "            compare_1to1(input_img_addr, bin_examples[i])\n",
    "        except IOError:\n",
    "            pass"
   ]
  },
  {
   "cell_type": "code",
   "execution_count": 12,
   "metadata": {
    "collapsed": false
   },
   "outputs": [],
   "source": [
    "def result_1toN():\n",
    "    global results\n",
    "    global RESULT\n",
    "    results = []\n",
    "    \n",
    "    if ncc_mode and nccors != []:\n",
    "        results.append(names[nccors.index(max(nccors))])\n",
    "    \n",
    "    if results == []:\n",
    "        results = ['']\n",
    "        \n",
    "    temp = max(set(results), key=results.count)\n",
    "    display(DImage(filename=binary_path + temp + '.png'))\n",
    "    for d, dirs, files in os.walk(examples_path):\n",
    "        for f in dirs:\n",
    "            temp = temp.replace(f, '')\n",
    "            temp = temp.replace('/', '')  \n",
    "    RESULT += temp "
   ]
  },
  {
   "cell_type": "code",
   "execution_count": 13,
   "metadata": {
    "collapsed": false
   },
   "outputs": [],
   "source": [
    "def print_full(top, tmp_arr, flag):\n",
    "    for i in range(top):\n",
    "        if flag == 'max':\n",
    "            tmp = max(tmp_arr)\n",
    "        if flag == 'min':\n",
    "            tmp = min(tmp_arr)    \n",
    "        print(str(i+1)+\". :\"+str(names[tmp_arr.index(max(tmp_arr))])+\" scores: \"+str(max(tmp_arr)))\n",
    "        tmp_arr.remove(max(tmp_arr))"
   ]
  },
  {
   "cell_type": "code",
   "execution_count": 14,
   "metadata": {
    "collapsed": true
   },
   "outputs": [],
   "source": [
    "def print_1toN():\n",
    "    global top\n",
    "    print('Results:')\n",
    "    if ncc_mode and nccors != []:\n",
    "        print('NCC mode:')\n",
    "        print_full(top, nccors, 'max')\n",
    "    print('Result:' + str(RESULT))"
   ]
  },
  {
   "cell_type": "code",
   "execution_count": 15,
   "metadata": {
    "collapsed": false
   },
   "outputs": [],
   "source": [
    "def naive_cut(img_address):\n",
    "    img = Image.open(img_address).convert('L')\n",
    "    arr = array(img)\n",
    "    norm_arr = []\n",
    "    find = False\n",
    "\n",
    "    for c in range(4):\n",
    "        black = 0\n",
    "        find = False\n",
    "        img = Image.fromarray(arr)\n",
    "        for x in range(len(arr[:, 1])):\n",
    "            if find:\n",
    "                break\n",
    "            for y in range(len(arr[1, :])):\n",
    "                if arr[x, y] == 0:\n",
    "                    black += 1\n",
    "            if black >= 1:\n",
    "                arr = numpy.delete(arr, numpy.s_[0:x], axis=0)\n",
    "                find = True\n",
    "                break\n",
    "        arr = numpy.rot90(arr)\n",
    "        c+=1\n",
    "        \n",
    "    \n",
    "    img = Image.fromarray(arr)\n",
    "    img.save(img_address.replace('binary', 'cutted'),\"PNG\")"
   ]
  },
  {
   "cell_type": "code",
   "execution_count": 16,
   "metadata": {
    "collapsed": false
   },
   "outputs": [],
   "source": [
    "def found_symbols():\n",
    "    symbols = os.listdir(found_path)\n",
    "    print('Found:')\n",
    "    for i in sorted(symbols):\n",
    "        try:\n",
    "            display(DImage(filename=found_path + i))\n",
    "        except IOError:\n",
    "            pass"
   ]
  },
  {
   "cell_type": "code",
   "execution_count": 17,
   "metadata": {
    "collapsed": false,
    "scrolled": false
   },
   "outputs": [],
   "source": [
    "def main():\n",
    "    erase_flag = UI()\n",
    "    global RESULT, input_address, empty_threshold, bin_examples\n",
    "    RESULT = ''\n",
    "    try:\n",
    "        binarization(input_address)\n",
    "    except IOError:\n",
    "        print('Error. Input image is not found.')\n",
    "        return 0\n",
    "    display(DImage(filename=input_address[:-4]+'.png'))\n",
    "    input_address = address_helper(input_address, 'png')\n",
    "    \n",
    "    if erase_flag == 'y' or erase_flag == 'Y' or not os.path.exists(binary_path):\n",
    "        clean_folders()\n",
    "        create_folders()\n",
    "        examples = []\n",
    "        for d, dirs, files in os.walk(examples_path):\n",
    "            for f in files:\n",
    "                path = os.path.join(d, f)\n",
    "                examples.append(path)\n",
    "\n",
    "        for i in range(len(examples)):\n",
    "            try:\n",
    "                binarization(examples[i])\n",
    "                naive_cut(address_helper(examples[i], 'bin'))\n",
    "            except IOError:\n",
    "                pass\n",
    "\n",
    "        \n",
    "        for d, dirs, files in os.walk(cutted_path):\n",
    "            for f in files:\n",
    "                path = os.path.join(d, f)\n",
    "                bin_examples.append(path)\n",
    "    else:                \n",
    "        if os.path.exists(found_path):\n",
    "            shutil.rmtree(found_path)\n",
    "        create_folders()\n",
    "        \n",
    "        for d, dirs, files in os.walk(cutted_path):\n",
    "            for f in files:\n",
    "                path = os.path.join(d, f)\n",
    "                bin_examples.append(path)\n",
    "            \n",
    "   \n",
    "    separation(input_address, threshold, empty_threshold)\n",
    "    delete_trash(delete_threshold)\n",
    "        \n",
    "    symbols = os.listdir(found_path)\n",
    "    count = 0 \n",
    "    for i in sorted(symbols):\n",
    "        try:\n",
    "            count += 1\n",
    "            print('Processing:')\n",
    "            display(DImage(filename=found_path + i))\n",
    "            compare_1toN(i)\n",
    "            result_1toN()\n",
    "            print_1toN()\n",
    "            print('Processed: ' + str(count) + '/' + str(len(symbols)))\n",
    "        except IOError:\n",
    "            pass\n",
    "    print('Message: ' + RESULT)\n",
    "    RESULT = ''"
   ]
  },
  {
   "cell_type": "code",
   "execution_count": 18,
   "metadata": {
    "collapsed": false,
    "scrolled": true
   },
   "outputs": [
    {
     "name": "stdout",
     "output_type": "stream",
     "text": [
      "Input image address (default is test.png) :\n",
      "Input path to folder with samples (default is /examples/):\n",
      "Clear examples after the previous preprocessing? [y/N]:\n"
     ]
    },
    {
     "data": {
      "image/png": "[encoded data removed]",
      "text/plain": [
       "<IPython.core.display.Image object>"
      ]
     },
     "metadata": {},
     "output_type": "display_data"
    },
    {
     "name": "stdout",
     "output_type": "stream",
     "text": [
      "Processing:\n"
     ]
    },
    {
     "data": {
      "image/png": "[encoded data removed]",
      "text/plain": [
       "<IPython.core.display.Image object>"
      ]
     },
     "metadata": {},
     "output_type": "display_data"
    },
    {
     "name": "stderr",
     "output_type": "stream",
     "text": [
      "/usr/lib/python3.5/site-packages/ipykernel/__main__.py:22: RuntimeWarning: invalid value encountered in true_divide\n"
     ]
    },
    {
     "data": {
      "image/png": "[encoded data removed]",
      "text/plain": [
       "<IPython.core.display.Image object>"
      ]
     },
     "metadata": {},
     "output_type": "display_data"
    },
    {
     "name": "stdout",
     "output_type": "stream",
     "text": [
      "Results:\n",
      "NCC mode:\n",
      "1. :27/r scores: 1.0\n",
      "2. :8/v scores: 0.956614283983\n",
      "3. :28/j scores: 0.947410074388\n",
      "Result:r\n",
      "Processed: 1/6\n",
      "Processing:\n"
     ]
    },
    {
     "data": {
      "image/png": "[encoded data removed]",
      "text/plain": [
       "<IPython.core.display.Image object>"
      ]
     },
     "metadata": {},
     "output_type": "display_data"
    },
    {
     "data": {
      "image/png": "[encoded data removed]",
      "text/plain": [
       "<IPython.core.display.Image object>"
      ]
     },
     "metadata": {},
     "output_type": "display_data"
    },
    {
     "name": "stdout",
     "output_type": "stream",
     "text": [
      "Results:\n",
      "NCC mode:\n",
      "1. :27/w scores: 1.0\n",
      "2. :8/b scores: 0.957318814071\n",
      "3. :10/t scores: 0.950612860436\n",
      "Result:rw\n",
      "Processed: 2/6\n",
      "Processing:\n"
     ]
    },
    {
     "data": {
      "image/png": "[encoded data removed]",
      "text/plain": [
       "<IPython.core.display.Image object>"
      ]
     },
     "metadata": {},
     "output_type": "display_data"
    },
    {
     "data": {
      "image/png": "[encoded data removed]",
      "text/plain": [
       "<IPython.core.display.Image object>"
      ]
     },
     "metadata": {},
     "output_type": "display_data"
    },
    {
     "name": "stdout",
     "output_type": "stream",
     "text": [
      "Results:\n",
      "NCC mode:\n",
      "1. :16/h scores: 1.0\n",
      "2. :29/e scores: 0.970247548199\n",
      "3. :29/h scores: 0.966251171209\n",
      "Result:rwh\n",
      "Processed: 3/6\n",
      "Processing:\n"
     ]
    },
    {
     "data": {
      "image/png": "[encoded data removed]",
      "text/plain": [
       "<IPython.core.display.Image object>"
      ]
     },
     "metadata": {},
     "output_type": "display_data"
    },
    {
     "data": {
      "image/png": "[encoded data removed]",
      "text/plain": [
       "<IPython.core.display.Image object>"
      ]
     },
     "metadata": {},
     "output_type": "display_data"
    },
    {
     "name": "stdout",
     "output_type": "stream",
     "text": [
      "Results:\n",
      "NCC mode:\n",
      "1. :22/z scores: 0.999734061817\n",
      "2. :25/d scores: 0.927934958682\n",
      "3. :25/a scores: 0.920559372392\n",
      "Result:rwhz\n",
      "Processed: 4/6\n",
      "Processing:\n"
     ]
    },
    {
     "data": {
      "image/png": "[encoded data removed]",
      "text/plain": [
       "<IPython.core.display.Image object>"
      ]
     },
     "metadata": {},
     "output_type": "display_data"
    },
    {
     "data": {
      "image/png": "[encoded data removed]",
      "text/plain": [
       "<IPython.core.display.Image object>"
      ]
     },
     "metadata": {},
     "output_type": "display_data"
    },
    {
     "name": "stdout",
     "output_type": "stream",
     "text": [
      "Results:\n",
      "NCC mode:\n",
      "1. :13/y scores: 1.0\n",
      "2. :12/q scores: 0.898973695979\n",
      "3. :14/w scores: 0.888472136036\n",
      "Result:rwhzy\n",
      "Processed: 5/6\n",
      "Processing:\n"
     ]
    },
    {
     "data": {
      "image/png": "[encoded data removed]",
      "text/plain": [
       "<IPython.core.display.Image object>"
      ]
     },
     "metadata": {},
     "output_type": "display_data"
    },
    {
     "data": {
      "image/png": "[encoded data removed]",
      "text/plain": [
       "<IPython.core.display.Image object>"
      ]
     },
     "metadata": {},
     "output_type": "display_data"
    },
    {
     "name": "stdout",
     "output_type": "stream",
     "text": [
      "Results:\n",
      "NCC mode:\n",
      "1. :13/o scores: 1.0\n",
      "2. :29/r scores: 0.791053159537\n",
      "3. :29/uv scores: 0.790417983781\n",
      "Result:rwhzyo\n",
      "Processed: 6/6\n",
      "Message: rwhzyo\n"
     ]
    }
   ],
   "source": [
    "main()"
   ]
  },
  {
   "cell_type": "code",
   "execution_count": null,
   "metadata": {
    "collapsed": true
   },
   "outputs": [],
   "source": []
  }
 ],
 "metadata": {
  "celltoolbar": "Raw Cell Format",
  "kernelspec": {
   "display_name": "Python 3",
   "language": "python",
   "name": "python3"
  },
  "language_info": {
   "codemirror_mode": {
    "name": "ipython",
    "version": 3
   },
   "file_extension": ".py",
   "mimetype": "text/x-python",
   "name": "python",
   "nbconvert_exporter": "python",
   "pygments_lexer": "ipython3",
   "version": "3.5.2"
  }
 },
 "nbformat": 4,
 "nbformat_minor": 0
}

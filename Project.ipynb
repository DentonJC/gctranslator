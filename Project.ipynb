{
 "cells": [
  {
   "cell_type": "code",
   "execution_count": 61,
   "metadata": {
    "collapsed": false
   },
   "outputs": [],
   "source": [
    "from PIL import Image, ImageDraw \n",
    "from IPython.display import Image as DImage\n",
    "import sys, os, hashlib, functools, scipy.fftpack, numpy"
   ]
  },
  {
   "cell_type": "code",
   "execution_count": 62,
   "metadata": {
    "collapsed": false
   },
   "outputs": [],
   "source": [
    "#INTERFACE\n",
    "#Modes\n",
    "pix_mode    = 1 #compare per-pixel\n",
    "hash_mode   = 1 #compare hashes\n",
    "string_mode = 1 #compare hashes line by line\n",
    "ahash_mode  = 1 #compare ahashes\n",
    "phash_mode  = 1 #compare phashes\n",
    "dhash_mode  = 1 #compare dhashes\n",
    "\n",
    "#Options\n",
    "black_mode  = 0 #compare only black pixels\n",
    "bin_ratio   = 200 #binarization threshold (0-255*3)\n",
    "resize_mode = 1 #none = 0, antialias = 1, bicubic = 2\n",
    "rotate_mode = 1 #comrape rotated pictures\n",
    "rotate_numb = 4 #number of rotations, degrees = 360 / rotate_numb\n",
    "basewidth   = 8 #image width after compression (px)\n",
    "hashing_mode = 'md5'#md5 sha1 sha224 sha256 sha384 sha512\n",
    "\n",
    "#Creating folders\n",
    "#The folder where the user places the samples to be compared to the incoming image.\n",
    "#Acceptable formats: .jpg, .jpeg, .png, .gif, .bmp\n",
    "if not os.path.exists(os.getcwd()+'/examples/'):\n",
    "    os.mkdir('examples')\n",
    "examples_path = os.getcwd()+'/examples/'\n",
    "#The folder in which the binary images will be generated.\n",
    "if not os.path.exists(os.getcwd()+'/binary/'):\n",
    "    os.mkdir('binary')\n",
    "binary_path = os.getcwd()+'/binary/'\n",
    "#The folder in which the resized images will be generated.\n",
    "if not os.path.exists(os.getcwd()+'/resized/'):\n",
    "    os.mkdir('resized')\n",
    "resized_path = os.getcwd()+'/resized/'\n",
    "\n",
    "#Global variables.\n",
    "names   = []\n",
    "values  = []\n",
    "strings = []\n",
    "results = []\n",
    "ahashes = []\n",
    "phashes = []\n",
    "dhashes = []\n",
    "distances = []\n",
    "\n",
    "RESULT = ''"
   ]
  },
  {
   "cell_type": "code",
   "execution_count": 24,
   "metadata": {
    "collapsed": false
   },
   "outputs": [
    {
     "name": "stdout",
     "output_type": "stream",
     "text": [
      "Input image address:\"testgif.gif\"\n"
     ]
    }
   ],
   "source": [
    "input_address = input('Input image address:') #input must be in \"\" (\"test.jpg\" if file is in project folder),\n",
    "                                              #acceptable formats: .jpg, .jpeg, .png, .gif, .bmp"
   ]
  },
  {
   "cell_type": "code",
   "execution_count": 63,
   "metadata": {
    "collapsed": false
   },
   "outputs": [],
   "source": [
    "def address_helper(input_img_addr, mode):\n",
    "    if mode == 'png': #after preprocessing the program only works with .png format in order to avoid loss of quality\n",
    "        input_img_addr = input_img_addr.replace('.jpg','.png')\n",
    "        input_img_addr = input_img_addr.replace('.jpeg','.png')\n",
    "        input_img_addr = input_img_addr.replace('.gif','.png')\n",
    "        input_img_addr = input_img_addr.replace('.bmp','.bmp')\n",
    "    if mode == 'bin': #change the address of the folder to /binary\n",
    "        input_img_addr = input_img_addr.replace('/examples/','/binary/')\n",
    "        input_img_addr = input_img_addr.replace('/resized/','/binary/')\n",
    "    if mode == 'res': #change the address of the folder to /resized\n",
    "        input_img_addr = input_img_addr.replace('/examples/','/resized/')\n",
    "        input_img_addr = input_img_addr.replace('/binary/','/resized/')\n",
    "    if mode == 'cln': #leave only the name of file (letter)\n",
    "        input_img_addr = input_img_addr.replace('.jpg','')\n",
    "        input_img_addr = input_img_addr.replace('.jpeg','')\n",
    "        input_img_addr = input_img_addr.replace('.gif','')\n",
    "        input_img_addr = input_img_addr.replace('.png','')\n",
    "        input_img_addr = input_img_addr.replace('.bmp','')\n",
    "        input_img_addr = input_img_addr.replace(os.getcwd()+'/binary/','')\n",
    "        input_img_addr = input_img_addr.replace(os.getcwd()+'/resized/','')\n",
    "    return input_img_addr"
   ]
  },
  {
   "cell_type": "code",
   "execution_count": 64,
   "metadata": {
    "collapsed": false
   },
   "outputs": [],
   "source": [
    "def binarization(input_img_addr):\n",
    "    input_image  = Image.open(input_img_addr).convert('RGB') #convert for .gif opening fix\n",
    "    input_width  = input_image.size[0]\n",
    "    input_height = input_image.size[1]\n",
    "    draw = ImageDraw.Draw(input_image)\n",
    "     \n",
    "    for i in range(input_width):\n",
    "        for j in range(input_height):\n",
    "            r, g, b = input_image.getpixel((i,j))\n",
    "            s = r + g + b\n",
    "            if (s > bin_ratio): \n",
    "                r, g, b = 255, 255, 255 #draw pixel black\n",
    "            else:\n",
    "                r, g, b = 0, 0, 0       #draw pixel white\n",
    "            draw.point((i, j), (r, g, b))\n",
    "    del draw\n",
    "    #save in /binary folder like name.png\n",
    "    input_img_addr = address_helper(input_img_addr,'png')\n",
    "    input_image.save(address_helper(input_img_addr,'bin'), \"PNG\")"
   ]
  },
  {
   "cell_type": "code",
   "execution_count": 65,
   "metadata": {
    "collapsed": true
   },
   "outputs": [],
   "source": [
    "def saverotate(input_img_addr):\n",
    "    input_img_addr = address_helper(input_img_addr,'png')\n",
    "    \n",
    "    input_image = Image.open(input_img_addr).rotate(90)\n",
    "    input_img_addr = input_img_addr.replace('.','90.')\n",
    "    input_image.save(input_img_addr, \"PNG\")\n",
    "   \n",
    "    input_image = Image.open(input_img_addr).rotate(90)\n",
    "    input_img_addr = input_img_addr.replace('90.','180.')\n",
    "    input_image.save(input_img_addr, \"PNG\")\n",
    "   \n",
    "    input_image = Image.open(input_img_addr).rotate(90)\n",
    "    input_img_addr = input_img_addr.replace('180.','270.')\n",
    "    input_image.save(input_img_addr, \"PNG\")"
   ]
  },
  {
   "cell_type": "code",
   "execution_count": 66,
   "metadata": {
    "collapsed": false
   },
   "outputs": [],
   "source": [
    "def gethash(input_img_addr):\n",
    "    input_image = Image.open(input_img_addr).convert('L') #convert 'tuple' to 'float', image is already binarized\n",
    "    avg = functools.reduce(lambda x, y: x + y, input_image.getdata())/ 64.\n",
    "    return functools.reduce(lambda x, yz: x | (yz[1] << yz[0]), \n",
    "                            enumerate(map(lambda i: 0 if i < avg else 1, input_image.getdata())),0)"
   ]
  },
  {
   "cell_type": "code",
   "execution_count": 67,
   "metadata": {
    "collapsed": true
   },
   "outputs": [],
   "source": [
    "def hamdist(input_img_hash, example_hash):\n",
    "    distance, i = 0, input_img_hash ^ example_hash\n",
    "    while i:\n",
    "        distance += 1\n",
    "        i &= i - 1\n",
    "    return distance"
   ]
  },
  {
   "cell_type": "code",
   "execution_count": 68,
   "metadata": {
    "collapsed": true
   },
   "outputs": [],
   "source": [
    "def shamdist(str1, str2, prevMin=None):\n",
    "    diffs = 0\n",
    "    if len(str1) != len(str2):\n",
    "        return max(len(str1),len(str2))\n",
    "    for ch1, ch2 in zip(str1, str2):\n",
    "        if ch1 != ch2:\n",
    "            diffs += 1\n",
    "            if prevMin is not None and diffs > prevMin:\n",
    "                return None\n",
    "    return diffs"
   ]
  },
  {
   "cell_type": "code",
   "execution_count": 69,
   "metadata": {
    "collapsed": false
   },
   "outputs": [],
   "source": [
    "def resize(input_img_addr, basewidth):\n",
    "    input_image = Image.open(input_img_addr)\n",
    "    wpercent = (basewidth / float(input_image.size[0]))\n",
    "    hsize = int((float(input_image.size[1]) * float(wpercent)))\n",
    "    if resize_mode == 1:\n",
    "        input_image = input_image.resize((basewidth,hsize), Image.ANTIALIAS)\n",
    "    if resize_mode == 2:\n",
    "        input_image = input_image.resize((basewidth,hsize), Image.BICUBIC)\n",
    "    else:\n",
    "        input_image = input_image.resize((basewidth,hsize))\n",
    "    input_image.save(address_helper(input_img_addr,'res'), \"PNG\")"
   ]
  },
  {
   "cell_type": "code",
   "execution_count": 70,
   "metadata": {
    "collapsed": false
   },
   "outputs": [],
   "source": [
    "def pix_compare(input_img_addr, example_addr):\n",
    "    input_image = Image.open(input_img_addr)\n",
    "    input_pixels = input_image.load()\n",
    "    example = Image.open(example_addr)\n",
    "    true = 0 \n",
    "    \n",
    "    for i in range(0, input_image.size[0]):\n",
    "        for j in range(0, input_image.size[1]):\n",
    "            input_pixel = input_image.getpixel((i, j))\n",
    "            example_pixel = example.getpixel((i, j))\n",
    "            if input_pixel == example_pixel:                        \n",
    "                if not (black_mode == 1 and input_pixels[i, j][0] == 0):\n",
    "                    true+=1  \n",
    "    return true"
   ]
  },
  {
   "cell_type": "code",
   "execution_count": 71,
   "metadata": {
    "collapsed": false
   },
   "outputs": [],
   "source": [
    "def string_compare(input_img_addr, example_addr):\n",
    "    input_image = Image.open(input_img_addr)\n",
    "    example = Image.open(example_addr)\n",
    "    true = 0\n",
    "    input_pix = ''\n",
    "    example_pix = ''\n",
    "    \n",
    "    for i in range(0, input_image.size[0]):\n",
    "        for j in range(0, input_image.size[1]):\n",
    "            input_pix = input_pix + str(input_image.getpixel((i, j)))\n",
    "            example_pix = example_pix + str(example.getpixel((i, j)))\n",
    "        if hashing_mode == 'md5':\n",
    "            true+=shamdist(hashlib.md5(input_pix).hexdigest(),hashlib.md5(example_pix).hexdigest())\n",
    "        if hashing_mode == 'sha1':\n",
    "            true+=shamdist(hashlib.sha1(input_pix).hexdigest(),hashlib.sha1(example_pix).hexdigest())\n",
    "        if hashing_mode == 'sha224':\n",
    "            true+=shamdist(hashlib.sha224(input_pix).hexdigest(),hashlib.sha224(example_pix).hexdigest())\n",
    "        if hashing_mode == 'sha256':\n",
    "            true+=shamdist(hashlib.sha256(input_pix).hexdigest(),hashlib.sha256(example_pix).hexdigest())\n",
    "        if hashing_mode == 'sha384':\n",
    "            true+=shamdist(hashlib.sha384(input_pix).hexdigest(),hashlib.sha384(example_pix).hexdigest())\n",
    "        if hashing_mode == 'sha512':\n",
    "            true+=shamdist(hashlib.sha512(input_pix).hexdigest(),hashlib.sha512(example_pix).hexdigest())\n",
    "        input_pix = ''\n",
    "        example_pix = ''\n",
    "        \n",
    "    for j in range(0, input_image.size[1]):\n",
    "        for i in range(0, input_image.size[0]):\n",
    "            input_pix = input_pix + str(input_image.getpixel((i, j)))\n",
    "            example_pix = example_pix + str(example.getpixel((i, j)))          \n",
    "        true+=shamdist(hashlib.md5(input_pix).hexdigest(),hashlib.md5(example_pix).hexdigest())\n",
    "        input_pix = ''\n",
    "        example_pix = ''\n",
    "        \n",
    "    return true"
   ]
  },
  {
   "cell_type": "code",
   "execution_count": 72,
   "metadata": {
    "collapsed": false
   },
   "outputs": [],
   "source": [
    "def ahash(input_img_addr):\n",
    "    image = Image.open(input_img_addr).convert('L').resize((basewidth, basewidth))\n",
    "    pixels = numpy.array(image.getdata()).reshape((basewidth, basewidth))\n",
    "    avg = pixels.mean()\n",
    "    diff = ''\n",
    "    tmp = pixels > avg\n",
    "    for i in range(0, basewidth-1):\n",
    "        for j in range(0, basewidth-1):\n",
    "            if tmp[i,j] == True:\n",
    "                diff+='1'\n",
    "            else:\n",
    "                diff+='0'    \n",
    "    return diff"
   ]
  },
  {
   "cell_type": "code",
   "execution_count": 73,
   "metadata": {
    "collapsed": false
   },
   "outputs": [],
   "source": [
    "def phash(input_img_addr):\n",
    "    image = Image.open(input_img_addr).convert('L').resize((basewidth, basewidth))\n",
    "    pixels = numpy.array(image.getdata(), dtype = numpy.float).reshape((basewidth, basewidth))\n",
    "    dct = scipy.fftpack.dct(scipy.fftpack.dct(pixels, axis=0), axis=1)\n",
    "    dct_low_freq = dct[:basewidth, :basewidth]\n",
    "    med = numpy.median(dct_low_freq)\n",
    "    diff = ''\n",
    "    tmp = dctlowfreq > med\n",
    "    for i in range(0, basewidth-1):\n",
    "        for j in range(0, basewidth-1):\n",
    "            if tmp[i,j] == True:\n",
    "                diff+='1'\n",
    "            else:\n",
    "                diff+='0'    \n",
    "    return diff"
   ]
  },
  {
   "cell_type": "code",
   "execution_count": 74,
   "metadata": {
    "collapsed": true
   },
   "outputs": [],
   "source": [
    "def dhash(input_img_addr):\n",
    "    # resize(w, h), but numpy.array((h, w))\n",
    "    image = Image.open(input_img_addr).convert('L').resize((basewidth, basewidth))\n",
    "    pixels = numpy.array(image.getdata(), dtype=numpy.float).reshape((basewidth, basewidth))\n",
    "    # compute differences between rows\n",
    "    diff = ''\n",
    "    tmp = pixels[:, 1:] > pixels[:, :-1]\n",
    "    for i in range(0, basewidth-1):\n",
    "        for j in range(0, basewidth-1):\n",
    "            if tmp[i,j] == True:\n",
    "                diff+='1'\n",
    "            else:\n",
    "                diff+='0'    \n",
    "    return diff"
   ]
  },
  {
   "cell_type": "code",
   "execution_count": 75,
   "metadata": {
    "collapsed": false
   },
   "outputs": [],
   "source": [
    "def compare1to1(input_img_addr, example_addr):\n",
    "    example_addr = address_helper(example_addr,'png')\n",
    "    input_img_addr = os.getcwd()+'/binary/'+address_helper(input_img_addr,'png')\n",
    "    \n",
    "    if pix_mode == 1:      \n",
    "        values.append(pix_compare(input_img_addr, example_addr))\n",
    "        \n",
    "    if string_mode == 1:\n",
    "        strings.append(string_compare(input_img_addr, example_addr))\n",
    "    \n",
    "    resize(input_img_addr, basewidth)\n",
    "    resize(example_addr, basewidth)\n",
    "    example_addr = address_helper(example_addr,'res')\n",
    "    input_img_addr = address_helper(input_img_addr,'res')\n",
    "        \n",
    "    if ahash_mode == 1:\n",
    "        ahashes.append(shamdist(ahash(input_img_addr), ahash(example_addr)))\n",
    "        \n",
    "    if phash_mode == 1:\n",
    "        phashes.append(shamdist(phash(input_img_addr), phash(example_addr)))\n",
    "        \n",
    "    if dhash_mode == 1:\n",
    "        dhashes.append(shamdist(dhash(input_img_addr), dhash(example_addr)))\n",
    "        \n",
    "    if hash_mode == 1:\n",
    "        distances.append(hamdist(gethash(input_img_addr), gethash(example_addr)))\n",
    "            \n",
    "    example_addr = address_helper(example_addr, 'cln')\n",
    "    names.append(example_addr)   "
   ]
  },
  {
   "cell_type": "code",
   "execution_count": 81,
   "metadata": {
    "collapsed": false
   },
   "outputs": [],
   "source": [
    "def compare1toN(input_img_addr):\n",
    "    #delete previous values\n",
    "    global names\n",
    "    global values\n",
    "    global distances\n",
    "    global strings\n",
    "    global ahashes\n",
    "    global phashes\n",
    "    global dhashes\n",
    "    names = []\n",
    "    values = []\n",
    "    distances = []\n",
    "    strings = []\n",
    "    ahashes = []\n",
    "    phashes = []\n",
    "    dhashes = []\n",
    "    \n",
    "    examples = os.listdir(examples_path)\n",
    "    for i in range(len(examples)):\n",
    "        if (\".gif\" in examples[i] \n",
    "            or \".jpg\" in examples[i] \n",
    "            or \".png\" in examples[i] \n",
    "            or \".bmp\" in examples[i] \n",
    "            or \".jpeg\" in examples[i]):\n",
    "            binarization(examples_path+examples[i])\n",
    "            if rotate_mode == 1:\n",
    "                saverotate(binary_path+examples[i])\n",
    "            \n",
    "    examples = os.listdir(binary_path)\n",
    "    for i in range(len(examples)):\n",
    "        if (\".gif\" in examples[i] \n",
    "            or \".jpg\" in examples[i] \n",
    "            or \".png\" in examples[i] \n",
    "            or \".bmp\" in examples[i] \n",
    "            or \".jpeg\" in examples[i]):\n",
    "            compare1to1(input_img_addr,binary_path+examples[i])"
   ]
  },
  {
   "cell_type": "code",
   "execution_count": 77,
   "metadata": {
    "collapsed": false
   },
   "outputs": [],
   "source": [
    "def print1toN():\n",
    "    if pix_mode == 1:\n",
    "        print('Pixel mode:')\n",
    "        for i in range(len(names)):\n",
    "            print(names[i],values[i])\n",
    "    if hash_mode == 1:\n",
    "        print('Hash mode:')\n",
    "        for i in range(len(names)):\n",
    "            print(names[i],distances[i])\n",
    "    if string_mode == 1:\n",
    "        print('String mode:')\n",
    "        for i in range(len(names)):\n",
    "            print(names[i],strings[i])\n",
    "    if ahash_mode == 1:\n",
    "        print('AHash mode:')\n",
    "        for i in range(len(names)):\n",
    "            print(names[i],ahashes[i])\n",
    "    if phash_mode == 1:\n",
    "        print('PHash mode:')\n",
    "        for i in range(len(names)):\n",
    "            print(names[i],phashes[i])\n",
    "    if dhash_mode == 1:\n",
    "        print('DHash mode:')\n",
    "        for i in range(len(names)):\n",
    "            print(names[i],dhashes[i])\n",
    "    "
   ]
  },
  {
   "cell_type": "code",
   "execution_count": 78,
   "metadata": {
    "collapsed": false
   },
   "outputs": [],
   "source": [
    "def result1toN():\n",
    "    print('Results:')\n",
    "    global results\n",
    "    global RESULT\n",
    "    results = ['']\n",
    "    if pix_mode == 1 and values != []:\n",
    "        results.append(names[values.index(max(values))])\n",
    "        print('Pixel mode:',names[values.index(max(values))])\n",
    "    if hash_mode == 1 and distances != []:\n",
    "        results.append(names[distances.index(min(distances))])\n",
    "        print('Hash mode:',names[distances.index(min(distances))])\n",
    "    if string_mode == 1 and strings != []:\n",
    "        results.append(names[strings.index(min(strings))])\n",
    "        print('String mode:',names[strings.index(min(strings))])\n",
    "    if ahash_mode == 1 and ahashes != []:\n",
    "        results.append(names[ahashes.index(min(ahashes))])\n",
    "        print('AHash mode:',names[ahashes.index(min(ahashes))])\n",
    "    if phash_mode == 1 and phashes != []:\n",
    "        results.append(names[phashes.index(min(phashes))])\n",
    "        print('PHash mode:',names[phashes.index(min(phashes))])\n",
    "    if dhash_mode == 1 and dhashes != []:\n",
    "        results.append(names[dhashes.index(min(dhashes))])\n",
    "        print('DHash mode:',names[dhashes.index(min(dhashes))])\n",
    "    RESULT += max(set(results), key=results.count)\n",
    "    print('Result:',RESULT)"
   ]
  },
  {
   "cell_type": "code",
   "execution_count": 79,
   "metadata": {
    "collapsed": false
   },
   "outputs": [
    {
     "name": "stdout",
     "output_type": "stream",
     "text": [
      "Hash mode:\n",
      "('testgif270', 18)\n",
      "('testgif90', 18)\n",
      "('testgif', 0)\n",
      "('testgif180', 18)\n",
      "String mode:\n",
      "('testgif270', 27084)\n",
      "('testgif90', 27044)\n",
      "('testgif', 0)\n",
      "('testgif180', 27011)\n",
      "AHash mode:\n",
      "('testgif270', 15)\n",
      "('testgif90', 12)\n",
      "('testgif', 0)\n",
      "('testgif180', 15)\n",
      "PHash mode:\n",
      "('testgif270', 25)\n",
      "('testgif90', 27)\n",
      "('testgif', 0)\n",
      "('testgif180', 24)\n",
      "DHash mode:\n",
      "('testgif270', 26)\n",
      "('testgif90', 31)\n",
      "('testgif', 0)\n",
      "('testgif180', 21)\n",
      "Results:\n",
      "('Hash mode:', 'testgif')\n",
      "('String mode:', 'testgif')\n",
      "('AHash mode:', 'testgif')\n",
      "('PHash mode:', 'testgif')\n",
      "('DHash mode:', 'testgif')\n",
      "('Result:', 'testgif')\n"
     ]
    }
   ],
   "source": [
    "binarization(input_address)\n",
    "compare1toN(input_address)\n",
    "print1toN()\n",
    "result1toN()"
   ]
  },
  {
   "cell_type": "code",
   "execution_count": null,
   "metadata": {
    "collapsed": false
   },
   "outputs": [],
   "source": []
  },
  {
   "cell_type": "code",
   "execution_count": null,
   "metadata": {
    "collapsed": false
   },
   "outputs": [],
   "source": []
  },
  {
   "cell_type": "code",
   "execution_count": null,
   "metadata": {
    "collapsed": true
   },
   "outputs": [],
   "source": []
  }
 ],
 "metadata": {
  "kernelspec": {
   "display_name": "Python 2",
   "language": "python",
   "name": "python2"
  },
  "language_info": {
   "codemirror_mode": {
    "name": "ipython",
    "version": 2
   },
   "file_extension": ".py",
   "mimetype": "text/x-python",
   "name": "python",
   "nbconvert_exporter": "python",
   "pygments_lexer": "ipython2",
   "version": "2.7.12"
  }
 },
 "nbformat": 4,
 "nbformat_minor": 0
}

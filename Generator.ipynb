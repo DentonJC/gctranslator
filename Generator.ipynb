{
 "cells": [
  {
   "cell_type": "code",
   "execution_count": 1,
   "metadata": {
    "collapsed": true
   },
   "outputs": [],
   "source": [
    "from PIL import Image, ImageDraw\n",
    "import sys, os"
   ]
  },
  {
   "cell_type": "code",
   "execution_count": 2,
   "metadata": {
    "collapsed": false
   },
   "outputs": [],
   "source": [
    "def generator(inp, distance):\n",
    "    images = []\n",
    "    \n",
    "    for i in inp:\n",
    "        i = os.getcwd()+'/examples/'+i+'.png'\n",
    "        images.append(Image.open(i))\n",
    "    \n",
    "    w = sum(i.size[0] for i in images)+distance*len(inp)\n",
    "    mh = max(i.size[1] for i in images)\n",
    "\n",
    "    result = Image.new(\"RGBA\", (w, mh))\n",
    "    draw = ImageDraw.Draw(result)\n",
    "    \n",
    "    x = 0\n",
    "    for i in images:\n",
    "        result.paste(i, (x, 0))\n",
    "        x += i.size[0]+distance\n",
    "    \n",
    "    for x in xrange(result.size[0]):\n",
    "        for y in xrange(result.size[1]):\n",
    "            a,b,c,d = result.getpixel((x,y))\n",
    "            if d != 255:\n",
    "                a,b,c,d = 255,255,255,255\n",
    "            draw.point((x, y), (a,b,c,d))\n",
    "    del draw\n",
    "    result.save('test.png','PNG')"
   ]
  },
  {
   "cell_type": "code",
   "execution_count": 3,
   "metadata": {
    "collapsed": false
   },
   "outputs": [],
   "source": [
    "inp = ['HVD/h','1/a','1/p','HVD/p','HVD/y','HVD/n','HVD/e','1/w','HVD/y','1/e','1/a','HVD/r']\n",
    "distance = 20\n",
    "generator(inp, distance)"
   ]
  },
  {
   "cell_type": "code",
   "execution_count": null,
   "metadata": {
    "collapsed": true
   },
   "outputs": [],
   "source": []
  }
 ],
 "metadata": {
  "kernelspec": {
   "display_name": "Python 2",
   "language": "python",
   "name": "python2"
  },
  "language_info": {
   "codemirror_mode": {
    "name": "ipython",
    "version": 2
   },
   "file_extension": ".py",
   "mimetype": "text/x-python",
   "name": "python",
   "nbconvert_exporter": "python",
   "pygments_lexer": "ipython2",
   "version": "2.7.12"
  }
 },
 "nbformat": 4,
 "nbformat_minor": 0
}

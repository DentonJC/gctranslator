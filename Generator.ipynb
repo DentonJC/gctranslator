{
 "cells": [
  {
   "cell_type": "raw",
   "metadata": {
    "collapsed": true
   },
   "source": [
    "import sys\n",
    "import os\n",
    "\n",
    "from PIL import Image, ImageDraw"
   ]
  },
  {
   "cell_type": "code",
   "execution_count": 2,
   "metadata": {
    "collapsed": false
   },
   "outputs": [],
   "source": [
    "def generator(inp, distance):\n",
    "    images = []\n",
    "    \n",
    "    for i in inp:\n",
    "        i = os.getcwd() + '/examples/'+ i + '.png'\n",
    "        images.append(Image.open(i))\n",
    "    \n",
    "    w = sum(i.size[0] for i in images) + distance*len(inp)\n",
    "    mh = max(i.size[1] for i in images)\n",
    "\n",
    "    result = Image.new(\"RGBA\", (w, mh))\n",
    "    draw = ImageDraw.Draw(result)\n",
    "    \n",
    "    x = 0\n",
    "    for i in images:\n",
    "        result.paste(i, (x, 0))\n",
    "        x += i.size[0]+distance\n",
    "    \n",
    "    for x in range(result.size[0]):\n",
    "        for y in range(result.size[1]):\n",
    "            a,b,c,d = result.getpixel((x,y))\n",
    "            if d != 255:\n",
    "                a,b,c,d = 255,255,255,255\n",
    "            draw.point((x, y), (a,b,c,d))\n",
    "    del draw\n",
    "    result.save('test.png','PNG')"
   ]
  },
  {
   "cell_type": "code",
   "execution_count": 12,
   "metadata": {
    "collapsed": false
   },
   "outputs": [],
   "source": [
    "inp = ['10/n','11/e','13/w']\n",
    "\n",
    "distance = 65\n",
    "generator(inp, distance)"
   ]
  },
  {
   "cell_type": "raw",
   "metadata": {
    "collapsed": true
   },
   "source": [
    "1 HVD\n",
    "2 BRAILLE\n",
    "3 DAEDRIC \n",
    "4 SPACE INVADERS \n",
    "5 HYMMNOS \n",
    "6 PUZZLE CODE \n",
    "7 FLAGGEN-CODE\n",
    "8 DAGGER-CODE \n",
    "9 GARGISH-CODE \n",
    "10 FUTURAMA-CODE \n",
    "11 Dancing Man Code\n",
    "12 UTOPIAN \n",
    "13 KRYPTON\n",
    "14 Winkeralphabet\n",
    "15 MORSECODE \n",
    "16 Quadoo Alphabet \n",
    "17 KLINGONISCH \n",
    "18 GNOMMISH\n",
    "19 MATORAN \n",
    "20 TENCTONESE \n",
    "21 SUNUZ \n",
    "22 MAZE\n",
    "23 VISITOR\n",
    "24 TOMTOM \n",
    "25 MUTE\n",
    "26 FINGERALPHABET\n",
    "27 INTERGALA \n",
    "28 FAKOO\n",
    "29 HOBRUNES\n",
    "30 RUNES"
   ]
  },
  {
   "cell_type": "code",
   "execution_count": null,
   "metadata": {
    "collapsed": false
   },
   "outputs": [],
   "source": []
  },
  {
   "cell_type": "code",
   "execution_count": null,
   "metadata": {
    "collapsed": true
   },
   "outputs": [],
   "source": []
  }
 ],
 "metadata": {
  "kernelspec": {
   "display_name": "Python 3",
   "language": "python",
   "name": "python3"
  },
  "language_info": {
   "codemirror_mode": {
    "name": "ipython",
    "version": 3
   },
   "file_extension": ".py",
   "mimetype": "text/x-python",
   "name": "python",
   "nbconvert_exporter": "python",
   "pygments_lexer": "ipython3",
   "version": "3.5.2"
  }
 },
 "nbformat": 4,
 "nbformat_minor": 0
}
